{
 "cells": [
  {
   "cell_type": "markdown",
   "metadata": {},
   "source": [
    "# Assignment 2 - Advance Machine Learning\n",
    "\n",
    "### Davide Brinati\n",
    "### Matricola 771458"
   ]
  },
  {
   "cell_type": "code",
   "execution_count": 1,
   "metadata": {},
   "outputs": [],
   "source": [
    "import pandas as pd\n",
    "import numpy as np\n",
    "import matplotlib.pyplot as plt\n",
    "import seaborn as sns\n",
    "%matplotlib inline"
   ]
  },
  {
   "cell_type": "code",
   "execution_count": 2,
   "metadata": {},
   "outputs": [],
   "source": [
    "import pickle      #Importo il dataset\n",
    "\n",
    "x_train = pickle.load(open(\"D:/uni/SECONDO ANNO/ADVANCE MACHINE LEARNING/Assignment 2/data/x_train.obj\",\"rb\"))\n",
    "\n",
    "x_test = pickle.load(open(\"D:/uni/SECONDO ANNO/ADVANCE MACHINE LEARNING/Assignment 2/data/x_test.obj\",\"rb\"))\n",
    "\n",
    "y_train = pickle.load(open(\"D:/uni/SECONDO ANNO/ADVANCE MACHINE LEARNING/Assignment 2/data/y_train.obj\",\"rb\"))"
   ]
  },
  {
   "cell_type": "code",
   "execution_count": 3,
   "metadata": {},
   "outputs": [
    {
     "data": {
      "image/png": "[encoded data removed]",
      "text/plain": [
       "<Figure size 1440x288 with 10 Axes>"
      ]
     },
     "metadata": {},
     "output_type": "display_data"
    }
   ],
   "source": [
    "n = 10  # Alcune immagini del train\n",
    "plt.figure(figsize=(20, 4))\n",
    "for i in range(n):\n",
    "    ax = plt.subplot(2, n, i + 1)\n",
    "    plt.imshow(x_train[i].reshape(28, 28))\n",
    "    plt.gray()\n",
    "    ax.get_xaxis().set_visible(False)\n",
    "    ax.get_yaxis().set_visible(False)\n",
    "plt.show()"
   ]
  },
  {
   "cell_type": "code",
   "execution_count": 4,
   "metadata": {},
   "outputs": [
    {
     "data": {
      "text/plain": [
       "(11829, 28, 28, 1)"
      ]
     },
     "execution_count": 4,
     "metadata": {},
     "output_type": "execute_result"
    }
   ],
   "source": [
    "x_train.shape"
   ]
  },
  {
   "cell_type": "code",
   "execution_count": 5,
   "metadata": {},
   "outputs": [
    {
     "data": {
      "text/plain": [
       "(11829, 10)"
      ]
     },
     "execution_count": 5,
     "metadata": {},
     "output_type": "execute_result"
    }
   ],
   "source": [
    "y_train.shape"
   ]
  },
  {
   "cell_type": "code",
   "execution_count": 6,
   "metadata": {},
   "outputs": [
    {
     "data": {
      "text/plain": [
       "(5070, 28, 28, 1)"
      ]
     },
     "execution_count": 6,
     "metadata": {},
     "output_type": "execute_result"
    }
   ],
   "source": [
    "x_test.shape"
   ]
  },
  {
   "cell_type": "markdown",
   "metadata": {},
   "source": [
    "Dal train creo train e validation"
   ]
  },
  {
   "cell_type": "code",
   "execution_count": 7,
   "metadata": {},
   "outputs": [],
   "source": [
    "from sklearn.model_selection import train_test_split\n",
    "\n",
    "x_train2, x_validation, y_train2, y_validation = train_test_split(x_train, y_train, test_size = 0.25)"
   ]
  },
  {
   "cell_type": "markdown",
   "metadata": {},
   "source": [
    "## Si costruisce l'autoencoder"
   ]
  },
  {
   "cell_type": "code",
   "execution_count": 8,
   "metadata": {},
   "outputs": [
    {
     "name": "stderr",
     "output_type": "stream",
     "text": [
      "C:\\Users\\done-\\Anaconda3\\lib\\site-packages\\h5py\\__init__.py:36: FutureWarning: Conversion of the second argument of issubdtype from `float` to `np.floating` is deprecated. In future, it will be treated as `np.float64 == np.dtype(float).type`.\n",
      "  from ._conv import register_converters as _register_converters\n",
      "Using TensorFlow backend.\n"
     ]
    }
   ],
   "source": [
    "from keras.layers import Input, Dense\n",
    "from keras.models import Model\n",
    "from keras.callbacks import EarlyStopping, ModelCheckpoint"
   ]
  },
  {
   "cell_type": "code",
   "execution_count": 9,
   "metadata": {},
   "outputs": [],
   "source": [
    "encoding_dim = 32  #32 floats -> dato che l'input è composto da 28x28=784, utilizzando un fattore di compressione pari a 24.5 (784/24.5)\n",
    "\n",
    "input_img = Input(shape=(784,))\n",
    "# encode\n",
    "encoded = Dense(encoding_dim, activation='relu')(input_img)\n",
    "# decode\n",
    "decoded = Dense(784, activation='sigmoid')(encoded)\n",
    "\n",
    "# this model maps an input to its reconstruction\n",
    "autoencoder = Model(input_img, decoded)"
   ]
  },
  {
   "cell_type": "code",
   "execution_count": 10,
   "metadata": {},
   "outputs": [],
   "source": [
    "encoder = Model(input_img, encoded)"
   ]
  },
  {
   "cell_type": "code",
   "execution_count": 11,
   "metadata": {},
   "outputs": [],
   "source": [
    "encoded_input = Input(shape=(encoding_dim,))\n",
    "decoder_layer = autoencoder.layers[-1]\n",
    "decoder = Model(encoded_input, decoder_layer(encoded_input))"
   ]
  },
  {
   "cell_type": "code",
   "execution_count": 12,
   "metadata": {},
   "outputs": [],
   "source": [
    "autoencoder.compile(optimizer='adadelta', loss='binary_crossentropy')"
   ]
  },
  {
   "cell_type": "markdown",
   "metadata": {},
   "source": [
    "### Si preparano i dati di input"
   ]
  },
  {
   "cell_type": "code",
   "execution_count": 13,
   "metadata": {},
   "outputs": [
    {
     "name": "stdout",
     "output_type": "stream",
     "text": [
      "int16\n",
      "float64\n",
      "int16\n"
     ]
    }
   ],
   "source": [
    "print(x_train.dtype)\n",
    "print(y_train.dtype)\n",
    "print(x_test.dtype)"
   ]
  },
  {
   "cell_type": "markdown",
   "metadata": {},
   "source": [
    "#### Si procede col cambiare il dtype in float32 e si effettua un reshape dei dati in input in modo da avere un imput size di 784"
   ]
  },
  {
   "cell_type": "code",
   "execution_count": 14,
   "metadata": {},
   "outputs": [],
   "source": [
    "from keras.utils import to_categorical\n",
    "from keras.utils import np_utils"
   ]
  },
  {
   "cell_type": "code",
   "execution_count": 15,
   "metadata": {},
   "outputs": [
    {
     "name": "stdout",
     "output_type": "stream",
     "text": [
      "(11829, 784)\n",
      "(5070, 784)\n"
     ]
    }
   ],
   "source": [
    "x_train = x_train.astype('float32') / 255.\n",
    "x_test = x_test.astype('float32') / 255.\n",
    "x_train = x_train.reshape((len(x_train), np.prod(x_train.shape[1:])))\n",
    "x_test = x_test.reshape((len(x_test), np.prod(x_test.shape[1:])))\n",
    "print(x_train.shape)\n",
    "print(x_test.shape)"
   ]
  },
  {
   "cell_type": "code",
   "execution_count": 16,
   "metadata": {
    "scrolled": false
   },
   "outputs": [
    {
     "name": "stdout",
     "output_type": "stream",
     "text": [
      "Train on 11829 samples, validate on 5070 samples\n",
      "Epoch 1/50\n",
      "11829/11829 [==============================] - 4s 348us/step - loss: 0.6894 - val_loss: 0.6795\n",
      "Epoch 2/50\n",
      "11829/11829 [==============================] - 1s 66us/step - loss: 0.6591 - val_loss: 0.6375\n",
      "Epoch 3/50\n",
      "11829/11829 [==============================] - 1s 66us/step - loss: 0.6228 - val_loss: 0.6084\n",
      "Epoch 4/50\n",
      "11829/11829 [==============================] - 1s 66us/step - loss: 0.5925 - val_loss: 0.5760\n",
      "Epoch 5/50\n",
      "11829/11829 [==============================] - 1s 66us/step - loss: 0.5588 - val_loss: 0.5428\n",
      "Epoch 6/50\n",
      "11829/11829 [==============================] - 1s 66us/step - loss: 0.5254 - val_loss: 0.5106\n",
      "Epoch 7/50\n",
      "11829/11829 [==============================] - 1s 67us/step - loss: 0.4940 - val_loss: 0.4812\n",
      "Epoch 8/50\n",
      "11829/11829 [==============================] - 1s 66us/step - loss: 0.4665 - val_loss: 0.4561\n",
      "Epoch 9/50\n",
      "11829/11829 [==============================] - 1s 66us/step - loss: 0.4440 - val_loss: 0.4362\n",
      "Epoch 10/50\n",
      "11829/11829 [==============================] - 1s 66us/step - loss: 0.4263 - val_loss: 0.4204\n",
      "Epoch 11/50\n",
      "11829/11829 [==============================] - 1s 67us/step - loss: 0.4123 - val_loss: 0.4078\n",
      "Epoch 12/50\n",
      "11829/11829 [==============================] - 1s 66us/step - loss: 0.4006 - val_loss: 0.3970\n",
      "Epoch 13/50\n",
      "11829/11829 [==============================] - 1s 67us/step - loss: 0.3904 - val_loss: 0.3872\n",
      "Epoch 14/50\n",
      "11829/11829 [==============================] - 1s 67us/step - loss: 0.3811 - val_loss: 0.3783\n",
      "Epoch 15/50\n",
      "11829/11829 [==============================] - 1s 67us/step - loss: 0.3726 - val_loss: 0.3699\n",
      "Epoch 16/50\n",
      "11829/11829 [==============================] - 1s 67us/step - loss: 0.3647 - val_loss: 0.3625\n",
      "Epoch 17/50\n",
      "11829/11829 [==============================] - 1s 66us/step - loss: 0.3575 - val_loss: 0.3556\n",
      "Epoch 18/50\n",
      "11829/11829 [==============================] - 1s 67us/step - loss: 0.3508 - val_loss: 0.3491\n",
      "Epoch 19/50\n",
      "11829/11829 [==============================] - 1s 68us/step - loss: 0.3447 - val_loss: 0.3440\n",
      "Epoch 20/50\n",
      "11829/11829 [==============================] - 1s 66us/step - loss: 0.3390 - val_loss: 0.3377\n",
      "Epoch 21/50\n",
      "11829/11829 [==============================] - 1s 68us/step - loss: 0.3337 - val_loss: 0.3327\n",
      "Epoch 22/50\n",
      "11829/11829 [==============================] - 1s 66us/step - loss: 0.3288 - val_loss: 0.3280\n",
      "Epoch 23/50\n",
      "11829/11829 [==============================] - 1s 67us/step - loss: 0.3241 - val_loss: 0.3234\n",
      "Epoch 24/50\n",
      "11829/11829 [==============================] - 1s 67us/step - loss: 0.3198 - val_loss: 0.3192\n",
      "Epoch 25/50\n",
      "11829/11829 [==============================] - 1s 67us/step - loss: 0.3156 - val_loss: 0.3154\n",
      "Epoch 26/50\n",
      "11829/11829 [==============================] - 1s 67us/step - loss: 0.3117 - val_loss: 0.3116\n",
      "Epoch 27/50\n",
      "11829/11829 [==============================] - 1s 66us/step - loss: 0.3080 - val_loss: 0.3079\n",
      "Epoch 28/50\n",
      "11829/11829 [==============================] - 1s 72us/step - loss: 0.3045 - val_loss: 0.3047\n",
      "Epoch 29/50\n",
      "11829/11829 [==============================] - 1s 73us/step - loss: 0.3011 - val_loss: 0.3011\n",
      "Epoch 30/50\n",
      "11829/11829 [==============================] - 1s 72us/step - loss: 0.2978 - val_loss: 0.2980\n",
      "Epoch 31/50\n",
      "11829/11829 [==============================] - 1s 70us/step - loss: 0.2947 - val_loss: 0.2950\n",
      "Epoch 32/50\n",
      "11829/11829 [==============================] - 1s 75us/step - loss: 0.2917 - val_loss: 0.2921\n",
      "Epoch 33/50\n",
      "11829/11829 [==============================] - 1s 74us/step - loss: 0.2887 - val_loss: 0.2905\n",
      "Epoch 34/50\n",
      "11829/11829 [==============================] - 1s 71us/step - loss: 0.2859 - val_loss: 0.2866\n",
      "Epoch 35/50\n",
      "11829/11829 [==============================] - 1s 66us/step - loss: 0.2832 - val_loss: 0.2838\n",
      "Epoch 36/50\n",
      "11829/11829 [==============================] - 1s 66us/step - loss: 0.2805 - val_loss: 0.2812\n",
      "Epoch 37/50\n",
      "11829/11829 [==============================] - 1s 67us/step - loss: 0.2779 - val_loss: 0.2797\n",
      "Epoch 38/50\n",
      "11829/11829 [==============================] - 1s 66us/step - loss: 0.2754 - val_loss: 0.2768\n",
      "Epoch 39/50\n",
      "11829/11829 [==============================] - 1s 67us/step - loss: 0.2730 - val_loss: 0.2739\n",
      "Epoch 40/50\n",
      "11829/11829 [==============================] - 1s 68us/step - loss: 0.2706 - val_loss: 0.2717\n",
      "Epoch 41/50\n",
      "11829/11829 [==============================] - 1s 67us/step - loss: 0.2683 - val_loss: 0.2694\n",
      "Epoch 42/50\n",
      "11829/11829 [==============================] - 1s 67us/step - loss: 0.2661 - val_loss: 0.2679\n",
      "Epoch 43/50\n",
      "11829/11829 [==============================] - 1s 67us/step - loss: 0.2640 - val_loss: 0.2655\n",
      "Epoch 44/50\n",
      "11829/11829 [==============================] - 1s 67us/step - loss: 0.2620 - val_loss: 0.2635\n",
      "Epoch 45/50\n",
      "11829/11829 [==============================] - 1s 67us/step - loss: 0.2601 - val_loss: 0.2614\n",
      "Epoch 46/50\n",
      "11829/11829 [==============================] - 1s 66us/step - loss: 0.2582 - val_loss: 0.2597\n",
      "Epoch 47/50\n",
      "11829/11829 [==============================] - 1s 68us/step - loss: 0.2564 - val_loss: 0.2578\n",
      "Epoch 48/50\n",
      "11829/11829 [==============================] - 1s 67us/step - loss: 0.2547 - val_loss: 0.2565\n",
      "Epoch 49/50\n",
      "11829/11829 [==============================] - 1s 66us/step - loss: 0.2530 - val_loss: 0.2546\n",
      "Epoch 50/50\n",
      "11829/11829 [==============================] - 1s 67us/step - loss: 0.2514 - val_loss: 0.2531\n"
     ]
    }
   ],
   "source": [
    "history = autoencoder.fit(x_train, x_train,\n",
    "                epochs=50,\n",
    "                batch_size=256,\n",
    "                shuffle=True,\n",
    "                validation_data=(x_test, x_test))"
   ]
  },
  {
   "cell_type": "code",
   "execution_count": 17,
   "metadata": {},
   "outputs": [],
   "source": [
    "encoded_imgs = encoder.predict(x_test)\n",
    "decoded_imgs = decoder.predict(encoded_imgs)"
   ]
  },
  {
   "cell_type": "code",
   "execution_count": 18,
   "metadata": {},
   "outputs": [
    {
     "data": {
      "image/png": "[encoded data removed]",
      "text/plain": [
       "<Figure size 1440x288 with 20 Axes>"
      ]
     },
     "metadata": {},
     "output_type": "display_data"
    }
   ],
   "source": [
    "n = 10  \n",
    "plt.figure(figsize=(20, 4))\n",
    "for i in range(n):\n",
    "    # display original\n",
    "    ax = plt.subplot(2, n, i + 1)\n",
    "    plt.imshow(x_test[i].reshape(28, 28))\n",
    "    plt.gray()\n",
    "    ax.get_xaxis().set_visible(False)\n",
    "    ax.get_yaxis().set_visible(False)\n",
    "\n",
    "    # display reconstruction\n",
    "    ax = plt.subplot(2, n, i + 1 + n)\n",
    "    plt.imshow(decoded_imgs[i].reshape(28, 28))\n",
    "    plt.gray()\n",
    "    ax.get_xaxis().set_visible(False)\n",
    "    ax.get_yaxis().set_visible(False)\n",
    "plt.show()"
   ]
  },
  {
   "cell_type": "markdown",
   "metadata": {},
   "source": [
    "## Si utilizza ora un Deep Autoencoder"
   ]
  },
  {
   "cell_type": "code",
   "execution_count": 19,
   "metadata": {},
   "outputs": [],
   "source": [
    "input_img = Input(shape=(784,))\n",
    "encoded = Dense(128, activation='relu')(input_img)\n",
    "encoded = Dense(64, activation='relu')(encoded)\n",
    "encoded = Dense(32, activation='relu')(encoded)\n",
    "\n",
    "decoded = Dense(64, activation='relu')(encoded)\n",
    "decoded = Dense(128, activation='relu')(decoded)\n",
    "decoded = Dense(784, activation='sigmoid')(decoded)"
   ]
  },
  {
   "cell_type": "code",
   "execution_count": 20,
   "metadata": {
    "scrolled": false
   },
   "outputs": [
    {
     "name": "stdout",
     "output_type": "stream",
     "text": [
      "Train on 11829 samples, validate on 5070 samples\n",
      "Epoch 1/50\n",
      "11829/11829 [==============================] - 3s 221us/step - loss: 0.6921 - val_loss: 0.6907\n",
      "Epoch 2/50\n",
      "11829/11829 [==============================] - 1s 106us/step - loss: 0.6869 - val_loss: 0.6779\n",
      "Epoch 3/50\n",
      "11829/11829 [==============================] - 1s 107us/step - loss: 0.6553 - val_loss: 0.6319\n",
      "Epoch 4/50\n",
      "11829/11829 [==============================] - 1s 106us/step - loss: 0.6229 - val_loss: 0.6183\n",
      "Epoch 5/50\n",
      "11829/11829 [==============================] - 1s 107us/step - loss: 0.6115 - val_loss: 0.6046\n",
      "Epoch 6/50\n",
      "11829/11829 [==============================] - 1s 105us/step - loss: 0.5906 - val_loss: 0.5830\n",
      "Epoch 7/50\n",
      "11829/11829 [==============================] - 1s 112us/step - loss: 0.5732 - val_loss: 0.5772\n",
      "Epoch 8/50\n",
      "11829/11829 [==============================] - 1s 111us/step - loss: 0.5569 - val_loss: 0.5436\n",
      "Epoch 9/50\n",
      "11829/11829 [==============================] - 1s 117us/step - loss: 0.5270 - val_loss: 0.4977\n",
      "Epoch 10/50\n",
      "11829/11829 [==============================] - 1s 107us/step - loss: 0.4944 - val_loss: 0.5097\n",
      "Epoch 11/50\n",
      "11829/11829 [==============================] - 1s 104us/step - loss: 0.4755 - val_loss: 0.4707\n",
      "Epoch 12/50\n",
      "11829/11829 [==============================] - 1s 109us/step - loss: 0.4550 - val_loss: 0.4518\n",
      "Epoch 13/50\n",
      "11829/11829 [==============================] - 1s 115us/step - loss: 0.4405 - val_loss: 0.4288\n",
      "Epoch 14/50\n",
      "11829/11829 [==============================] - 1s 113us/step - loss: 0.4246 - val_loss: 0.4212\n",
      "Epoch 15/50\n",
      "11829/11829 [==============================] - 1s 113us/step - loss: 0.4127 - val_loss: 0.4235\n",
      "Epoch 16/50\n",
      "11829/11829 [==============================] - 1s 108us/step - loss: 0.4023 - val_loss: 0.3965\n",
      "Epoch 17/50\n",
      "11829/11829 [==============================] - 1s 107us/step - loss: 0.3979 - val_loss: 0.3900\n",
      "Epoch 18/50\n",
      "11829/11829 [==============================] - 1s 108us/step - loss: 0.3941 - val_loss: 0.3990\n",
      "Epoch 19/50\n",
      "11829/11829 [==============================] - 1s 107us/step - loss: 0.3881 - val_loss: 0.3878\n",
      "Epoch 20/50\n",
      "11829/11829 [==============================] - 1s 105us/step - loss: 0.3848 - val_loss: 0.3924\n",
      "Epoch 21/50\n",
      "11829/11829 [==============================] - 1s 109us/step - loss: 0.3814 - val_loss: 0.3799\n",
      "Epoch 22/50\n",
      "11829/11829 [==============================] - 1s 113us/step - loss: 0.3758 - val_loss: 0.3816\n",
      "Epoch 23/50\n",
      "11829/11829 [==============================] - 1s 107us/step - loss: 0.3700 - val_loss: 0.3732\n",
      "Epoch 24/50\n",
      "11829/11829 [==============================] - 1s 110us/step - loss: 0.3663 - val_loss: 0.3886\n",
      "Epoch 25/50\n",
      "11829/11829 [==============================] - 1s 106us/step - loss: 0.3626 - val_loss: 0.3638\n",
      "Epoch 26/50\n",
      "11829/11829 [==============================] - 1s 105us/step - loss: 0.3606 - val_loss: 0.3644\n",
      "Epoch 27/50\n",
      "11829/11829 [==============================] - 1s 105us/step - loss: 0.3555 - val_loss: 0.3657\n",
      "Epoch 28/50\n",
      "11829/11829 [==============================] - 1s 104us/step - loss: 0.3525 - val_loss: 0.3434\n",
      "Epoch 29/50\n",
      "11829/11829 [==============================] - 1s 105us/step - loss: 0.3468 - val_loss: 0.3577\n",
      "Epoch 30/50\n",
      "11829/11829 [==============================] - 1s 106us/step - loss: 0.3411 - val_loss: 0.3554\n",
      "Epoch 31/50\n",
      "11829/11829 [==============================] - 1s 105us/step - loss: 0.3369 - val_loss: 0.3354\n",
      "Epoch 32/50\n",
      "11829/11829 [==============================] - 1s 104us/step - loss: 0.3306 - val_loss: 0.3255\n",
      "Epoch 33/50\n",
      "11829/11829 [==============================] - 1s 107us/step - loss: 0.3263 - val_loss: 0.3300\n",
      "Epoch 34/50\n",
      "11829/11829 [==============================] - 1s 107us/step - loss: 0.3215 - val_loss: 0.3236\n",
      "Epoch 35/50\n",
      "11829/11829 [==============================] - 1s 105us/step - loss: 0.3183 - val_loss: 0.3136\n",
      "Epoch 36/50\n",
      "11829/11829 [==============================] - 1s 104us/step - loss: 0.3144 - val_loss: 0.3203\n",
      "Epoch 37/50\n",
      "11829/11829 [==============================] - 1s 104us/step - loss: 0.3111 - val_loss: 0.3157\n",
      "Epoch 38/50\n",
      "11829/11829 [==============================] - 1s 105us/step - loss: 0.3094 - val_loss: 0.3018\n",
      "Epoch 39/50\n",
      "11829/11829 [==============================] - 1s 108us/step - loss: 0.3050 - val_loss: 0.3153\n",
      "Epoch 40/50\n",
      "11829/11829 [==============================] - 1s 105us/step - loss: 0.3044 - val_loss: 0.3175\n",
      "Epoch 41/50\n",
      "11829/11829 [==============================] - 1s 106us/step - loss: 0.3014 - val_loss: 0.3075\n",
      "Epoch 42/50\n",
      "11829/11829 [==============================] - 1s 107us/step - loss: 0.3000 - val_loss: 0.3081\n",
      "Epoch 43/50\n",
      "11829/11829 [==============================] - 1s 105us/step - loss: 0.2985 - val_loss: 0.3106\n",
      "Epoch 44/50\n",
      "11829/11829 [==============================] - 1s 105us/step - loss: 0.2963 - val_loss: 0.3025\n",
      "Epoch 45/50\n",
      "11829/11829 [==============================] - 1s 109us/step - loss: 0.2957 - val_loss: 0.2904\n",
      "Epoch 46/50\n",
      "11829/11829 [==============================] - 1s 105us/step - loss: 0.2928 - val_loss: 0.3074\n",
      "Epoch 47/50\n",
      "11829/11829 [==============================] - 1s 104us/step - loss: 0.2920 - val_loss: 0.2968\n",
      "Epoch 48/50\n",
      "11829/11829 [==============================] - 1s 104us/step - loss: 0.2896 - val_loss: 0.2951\n",
      "Epoch 49/50\n",
      "11829/11829 [==============================] - 1s 105us/step - loss: 0.2873 - val_loss: 0.2921\n",
      "Epoch 50/50\n",
      "11829/11829 [==============================] - 1s 104us/step - loss: 0.2874 - val_loss: 0.3021\n"
     ]
    }
   ],
   "source": [
    "autoencoder = Model(input_img, decoded)\n",
    "autoencoder.compile(optimizer='adadelta', loss='binary_crossentropy')\n",
    "\n",
    "histor = autoencoder.fit(x_train, x_train,\n",
    "                epochs=50,\n",
    "                batch_size=256,\n",
    "                shuffle=True,\n",
    "                validation_data=(x_test, x_test))"
   ]
  },
  {
   "cell_type": "code",
   "execution_count": 21,
   "metadata": {},
   "outputs": [
    {
     "data": {
      "image/png": "[encoded data removed]",
      "text/plain": [
       "<Figure size 1440x288 with 20 Axes>"
      ]
     },
     "metadata": {},
     "output_type": "display_data"
    }
   ],
   "source": [
    "decoded_imgs = autoencoder.predict(x_test)\n",
    "\n",
    "n = 10  \n",
    "plt.figure(figsize=(20, 4))\n",
    "for i in range(n):\n",
    "    # display original\n",
    "    ax = plt.subplot(2, n, i + 1)\n",
    "    plt.imshow(x_test[i].reshape(28, 28))\n",
    "    plt.gray()\n",
    "    ax.get_xaxis().set_visible(False)\n",
    "    ax.get_yaxis().set_visible(False)\n",
    "\n",
    "    # display reconstruction\n",
    "    ax = plt.subplot(2, n, i + 1 + n)\n",
    "    plt.imshow(decoded_imgs[i].reshape(28, 28))\n",
    "    plt.gray()\n",
    "    ax.get_xaxis().set_visible(False)\n",
    "    ax.get_yaxis().set_visible(False)\n",
    "plt.show()"
   ]
  },
  {
   "cell_type": "markdown",
   "metadata": {},
   "source": [
    "### Alleno questo modello per la predizione e lo testo sul validation"
   ]
  },
  {
   "cell_type": "code",
   "execution_count": 22,
   "metadata": {},
   "outputs": [],
   "source": [
    "num_classes = 10\n",
    "\n",
    "den = Dense(64, activation='relu')(encoded)\n",
    "out = Dense(num_classes, activation='softmax')(den)\n",
    "\n",
    "full_model = Model(input_img,out)"
   ]
  },
  {
   "cell_type": "code",
   "execution_count": 23,
   "metadata": {},
   "outputs": [],
   "source": [
    "import keras \n",
    "for l1,l2 in zip(full_model.layers[:3],autoencoder.layers[0:3]):\n",
    "    l1.set_weights(l2.get_weights())\n",
    "for layer in full_model.layers[0:3]:\n",
    "    layer.trainable = True"
   ]
  },
  {
   "cell_type": "code",
   "execution_count": 24,
   "metadata": {},
   "outputs": [
    {
     "data": {
      "text/plain": [
       "dtype('int16')"
      ]
     },
     "execution_count": 24,
     "metadata": {},
     "output_type": "execute_result"
    }
   ],
   "source": [
    "x_train2.dtype"
   ]
  },
  {
   "cell_type": "code",
   "execution_count": 25,
   "metadata": {},
   "outputs": [
    {
     "data": {
      "text/plain": [
       "(8871, 28, 28, 1)"
      ]
     },
     "execution_count": 25,
     "metadata": {},
     "output_type": "execute_result"
    }
   ],
   "source": [
    "x_train2.shape"
   ]
  },
  {
   "cell_type": "code",
   "execution_count": 26,
   "metadata": {},
   "outputs": [
    {
     "data": {
      "text/plain": [
       "dtype('int16')"
      ]
     },
     "execution_count": 26,
     "metadata": {},
     "output_type": "execute_result"
    }
   ],
   "source": [
    "x_validation.dtype"
   ]
  },
  {
   "cell_type": "code",
   "execution_count": 27,
   "metadata": {},
   "outputs": [
    {
     "data": {
      "text/plain": [
       "(2958, 28, 28, 1)"
      ]
     },
     "execution_count": 27,
     "metadata": {},
     "output_type": "execute_result"
    }
   ],
   "source": [
    "x_validation.shape"
   ]
  },
  {
   "cell_type": "markdown",
   "metadata": {},
   "source": [
    "Adatto anche Validation e Train"
   ]
  },
  {
   "cell_type": "code",
   "execution_count": 28,
   "metadata": {},
   "outputs": [],
   "source": [
    "x_train2 = x_train2.astype('float32') / 255.\n",
    "x_validation = x_validation.astype('float32') / 255.\n",
    "x_train3 = x_train2.reshape((len(x_train2), np.prod(x_train2.shape[1:])))\n",
    "x_validation2 = x_validation.reshape((len(x_validation), np.prod(x_validation.shape[1:])))"
   ]
  },
  {
   "cell_type": "code",
   "execution_count": 29,
   "metadata": {},
   "outputs": [
    {
     "name": "stdout",
     "output_type": "stream",
     "text": [
      "(8871, 784)\n",
      "(2958, 784)\n"
     ]
    }
   ],
   "source": [
    "print(x_train3.shape)\n",
    "print(x_validation2.shape)"
   ]
  },
  {
   "cell_type": "code",
   "execution_count": 30,
   "metadata": {},
   "outputs": [
    {
     "name": "stdout",
     "output_type": "stream",
     "text": [
      "(8871, 10)\n",
      "(2958, 10)\n"
     ]
    }
   ],
   "source": [
    "print(y_train2.shape)\n",
    "print(y_validation.shape)"
   ]
  },
  {
   "cell_type": "code",
   "execution_count": 31,
   "metadata": {},
   "outputs": [],
   "source": [
    "fBestModel = 'best_model_over.h5'\n",
    "best_model = ModelCheckpoint(fBestModel, monitor = 'val_acc', verbose=1, save_best_only=True) #Imposto questa callback, in modo che il modello salvi i parametri migliori"
   ]
  },
  {
   "cell_type": "code",
   "execution_count": 32,
   "metadata": {
    "scrolled": false
   },
   "outputs": [
    {
     "name": "stdout",
     "output_type": "stream",
     "text": [
      "Train on 8871 samples, validate on 2958 samples\n",
      "Epoch 1/50\n",
      "8871/8871 [==============================] - 3s 360us/step - loss: 0.7349 - acc: 0.7907 - val_loss: 0.4213 - val_acc: 0.8786\n",
      "\n",
      "Epoch 00001: val_acc improved from -inf to 0.87863, saving model to best_model_over.h5\n",
      "Epoch 2/50\n",
      "8871/8871 [==============================] - 2s 240us/step - loss: 0.3860 - acc: 0.8886 - val_loss: 0.3707 - val_acc: 0.8901\n",
      "\n",
      "Epoch 00002: val_acc improved from 0.87863 to 0.89013, saving model to best_model_over.h5\n",
      "Epoch 3/50\n",
      "8871/8871 [==============================] - 2s 256us/step - loss: 0.3256 - acc: 0.9063 - val_loss: 0.3851 - val_acc: 0.8834\n",
      "\n",
      "Epoch 00003: val_acc did not improve from 0.89013\n",
      "Epoch 4/50\n",
      "8871/8871 [==============================] - 2s 256us/step - loss: 0.2889 - acc: 0.9153 - val_loss: 0.3328 - val_acc: 0.8993\n",
      "\n",
      "Epoch 00004: val_acc improved from 0.89013 to 0.89926, saving model to best_model_over.h5\n",
      "Epoch 5/50\n",
      "8871/8871 [==============================] - 2s 269us/step - loss: 0.2561 - acc: 0.9240 - val_loss: 0.3321 - val_acc: 0.8986\n",
      "\n",
      "Epoch 00005: val_acc did not improve from 0.89926\n",
      "Epoch 6/50\n",
      "8871/8871 [==============================] - 2s 237us/step - loss: 0.2312 - acc: 0.9312 - val_loss: 0.3081 - val_acc: 0.9074\n",
      "\n",
      "Epoch 00006: val_acc improved from 0.89926 to 0.90737, saving model to best_model_over.h5\n",
      "Epoch 7/50\n",
      "8871/8871 [==============================] - 2s 236us/step - loss: 0.2014 - acc: 0.9389 - val_loss: 0.3128 - val_acc: 0.9087\n",
      "\n",
      "Epoch 00007: val_acc improved from 0.90737 to 0.90872, saving model to best_model_over.h5\n",
      "Epoch 8/50\n",
      "8871/8871 [==============================] - 2s 254us/step - loss: 0.1820 - acc: 0.9456 - val_loss: 0.3763 - val_acc: 0.8925\n",
      "\n",
      "Epoch 00008: val_acc did not improve from 0.90872\n",
      "Epoch 9/50\n",
      "8871/8871 [==============================] - 2s 253us/step - loss: 0.1637 - acc: 0.9516 - val_loss: 0.3476 - val_acc: 0.9057\n",
      "\n",
      "Epoch 00009: val_acc did not improve from 0.90872\n",
      "Epoch 10/50\n",
      "8871/8871 [==============================] - 2s 245us/step - loss: 0.1434 - acc: 0.9543 - val_loss: 0.3099 - val_acc: 0.9101\n",
      "\n",
      "Epoch 00010: val_acc improved from 0.90872 to 0.91007, saving model to best_model_over.h5\n",
      "Epoch 11/50\n",
      "8871/8871 [==============================] - 2s 241us/step - loss: 0.1262 - acc: 0.9603 - val_loss: 0.4122 - val_acc: 0.8796\n",
      "\n",
      "Epoch 00011: val_acc did not improve from 0.91007\n",
      "Epoch 12/50\n",
      "8871/8871 [==============================] - 2s 238us/step - loss: 0.1122 - acc: 0.9639 - val_loss: 0.3557 - val_acc: 0.9070\n",
      "\n",
      "Epoch 00012: val_acc did not improve from 0.91007\n",
      "Epoch 13/50\n",
      "8871/8871 [==============================] - 2s 242us/step - loss: 0.0921 - acc: 0.9719 - val_loss: 0.3600 - val_acc: 0.9077\n",
      "\n",
      "Epoch 00013: val_acc did not improve from 0.91007\n",
      "Epoch 14/50\n",
      "8871/8871 [==============================] - 2s 240us/step - loss: 0.0887 - acc: 0.9738 - val_loss: 0.3553 - val_acc: 0.9097\n",
      "\n",
      "Epoch 00014: val_acc did not improve from 0.91007\n",
      "Epoch 15/50\n",
      "8871/8871 [==============================] - 2s 243us/step - loss: 0.0755 - acc: 0.9758 - val_loss: 0.3904 - val_acc: 0.9067\n",
      "\n",
      "Epoch 00015: val_acc did not improve from 0.91007\n",
      "Epoch 16/50\n",
      "8871/8871 [==============================] - 2s 242us/step - loss: 0.0632 - acc: 0.9823 - val_loss: 0.4132 - val_acc: 0.9057\n",
      "\n",
      "Epoch 00016: val_acc did not improve from 0.91007\n",
      "Epoch 17/50\n",
      "8871/8871 [==============================] - 2s 241us/step - loss: 0.0625 - acc: 0.9812 - val_loss: 0.4357 - val_acc: 0.8979\n",
      "\n",
      "Epoch 00017: val_acc did not improve from 0.91007\n",
      "Epoch 18/50\n",
      "8871/8871 [==============================] - 2s 245us/step - loss: 0.0553 - acc: 0.9823 - val_loss: 0.4046 - val_acc: 0.9124\n",
      "\n",
      "Epoch 00018: val_acc improved from 0.91007 to 0.91244, saving model to best_model_over.h5\n",
      "Epoch 19/50\n",
      "8871/8871 [==============================] - 2s 249us/step - loss: 0.0440 - acc: 0.9866 - val_loss: 0.4407 - val_acc: 0.9074\n",
      "\n",
      "Epoch 00019: val_acc did not improve from 0.91244\n",
      "Epoch 20/50\n",
      "8871/8871 [==============================] - 2s 241us/step - loss: 0.0415 - acc: 0.9877 - val_loss: 0.5601 - val_acc: 0.8935\n",
      "\n",
      "Epoch 00020: val_acc did not improve from 0.91244\n",
      "Epoch 21/50\n",
      "8871/8871 [==============================] - 2s 244us/step - loss: 0.0386 - acc: 0.9894 - val_loss: 0.4812 - val_acc: 0.9131\n",
      "\n",
      "Epoch 00021: val_acc improved from 0.91244 to 0.91312, saving model to best_model_over.h5\n",
      "Epoch 22/50\n",
      "8871/8871 [==============================] - 2s 252us/step - loss: 0.0349 - acc: 0.9904 - val_loss: 0.4494 - val_acc: 0.9131\n",
      "\n",
      "Epoch 00022: val_acc did not improve from 0.91312\n",
      "Epoch 23/50\n",
      "8871/8871 [==============================] - 2s 244us/step - loss: 0.0317 - acc: 0.9895 - val_loss: 0.4804 - val_acc: 0.9077\n",
      "\n",
      "Epoch 00023: val_acc did not improve from 0.91312\n",
      "Epoch 24/50\n",
      "8871/8871 [==============================] - 2s 247us/step - loss: 0.0287 - acc: 0.9915 - val_loss: 0.5219 - val_acc: 0.9043\n",
      "\n",
      "Epoch 00024: val_acc did not improve from 0.91312\n",
      "Epoch 25/50\n",
      "8871/8871 [==============================] - 2s 248us/step - loss: 0.0258 - acc: 0.9928 - val_loss: 0.4883 - val_acc: 0.9121\n",
      "\n",
      "Epoch 00025: val_acc did not improve from 0.91312\n",
      "Epoch 26/50\n",
      "8871/8871 [==============================] - 2s 253us/step - loss: 0.0226 - acc: 0.9928 - val_loss: 0.5355 - val_acc: 0.9053\n",
      "\n",
      "Epoch 00026: val_acc did not improve from 0.91312\n",
      "Epoch 27/50\n",
      "8871/8871 [==============================] - 2s 246us/step - loss: 0.0248 - acc: 0.9922 - val_loss: 0.4967 - val_acc: 0.9094\n",
      "\n",
      "Epoch 00027: val_acc did not improve from 0.91312\n",
      "Epoch 28/50\n",
      "8871/8871 [==============================] - 2s 249us/step - loss: 0.0208 - acc: 0.9941 - val_loss: 0.4971 - val_acc: 0.9131\n",
      "\n",
      "Epoch 00028: val_acc did not improve from 0.91312\n",
      "Epoch 29/50\n",
      "8871/8871 [==============================] - 2s 243us/step - loss: 0.0175 - acc: 0.9958 - val_loss: 0.5444 - val_acc: 0.9084\n",
      "\n",
      "Epoch 00029: val_acc did not improve from 0.91312\n",
      "Epoch 30/50\n",
      "8871/8871 [==============================] - 2s 252us/step - loss: 0.0202 - acc: 0.9931 - val_loss: 0.5226 - val_acc: 0.9151\n",
      "\n",
      "Epoch 00030: val_acc improved from 0.91312 to 0.91515, saving model to best_model_over.h5\n",
      "Epoch 31/50\n",
      "8871/8871 [==============================] - 2s 245us/step - loss: 0.0173 - acc: 0.9961 - val_loss: 0.5564 - val_acc: 0.9077\n",
      "\n",
      "Epoch 00031: val_acc did not improve from 0.91515\n",
      "Epoch 32/50\n",
      "8871/8871 [==============================] - 2s 252us/step - loss: 0.0169 - acc: 0.9944 - val_loss: 0.5764 - val_acc: 0.9094\n",
      "\n",
      "Epoch 00032: val_acc did not improve from 0.91515\n",
      "Epoch 33/50\n",
      "8871/8871 [==============================] - 2s 253us/step - loss: 0.0113 - acc: 0.9973 - val_loss: 0.5404 - val_acc: 0.9121\n",
      "\n",
      "Epoch 00033: val_acc did not improve from 0.91515\n",
      "Epoch 34/50\n",
      "8871/8871 [==============================] - 2s 248us/step - loss: 0.0138 - acc: 0.9955 - val_loss: 0.6766 - val_acc: 0.9013\n",
      "\n",
      "Epoch 00034: val_acc did not improve from 0.91515\n",
      "Epoch 35/50\n",
      "8871/8871 [==============================] - 2s 251us/step - loss: 0.0113 - acc: 0.9968 - val_loss: 0.5891 - val_acc: 0.9104\n",
      "\n",
      "Epoch 00035: val_acc did not improve from 0.91515\n",
      "Epoch 36/50\n",
      "8871/8871 [==============================] - 2s 246us/step - loss: 0.0111 - acc: 0.9965 - val_loss: 0.5841 - val_acc: 0.9128\n",
      "\n",
      "Epoch 00036: val_acc did not improve from 0.91515\n",
      "Epoch 37/50\n",
      "8871/8871 [==============================] - 2s 249us/step - loss: 0.0113 - acc: 0.9963 - val_loss: 0.5862 - val_acc: 0.9151\n",
      "\n",
      "Epoch 00037: val_acc improved from 0.91515 to 0.91515, saving model to best_model_over.h5\n",
      "Epoch 38/50\n",
      "8871/8871 [==============================] - 2s 251us/step - loss: 0.0071 - acc: 0.9980 - val_loss: 0.6702 - val_acc: 0.9040\n",
      "\n",
      "Epoch 00038: val_acc did not improve from 0.91515\n",
      "Epoch 39/50\n",
      "8871/8871 [==============================] - 2s 247us/step - loss: 0.0166 - acc: 0.9952 - val_loss: 0.6446 - val_acc: 0.9104\n",
      "\n",
      "Epoch 00039: val_acc did not improve from 0.91515\n",
      "Epoch 40/50\n",
      "8871/8871 [==============================] - 2s 247us/step - loss: 0.0096 - acc: 0.9973 - val_loss: 0.7254 - val_acc: 0.9009\n",
      "\n",
      "Epoch 00040: val_acc did not improve from 0.91515\n",
      "Epoch 41/50\n",
      "8871/8871 [==============================] - 2s 243us/step - loss: 0.0090 - acc: 0.9974 - val_loss: 0.6041 - val_acc: 0.9104\n",
      "\n",
      "Epoch 00041: val_acc did not improve from 0.91515\n",
      "Epoch 42/50\n",
      "8871/8871 [==============================] - 2s 233us/step - loss: 0.0079 - acc: 0.9977 - val_loss: 0.6271 - val_acc: 0.9104\n",
      "\n",
      "Epoch 00042: val_acc did not improve from 0.91515\n",
      "Epoch 43/50\n",
      "8871/8871 [==============================] - 2s 239us/step - loss: 0.0108 - acc: 0.9967 - val_loss: 0.6853 - val_acc: 0.9040\n",
      "\n",
      "Epoch 00043: val_acc did not improve from 0.91515\n",
      "Epoch 44/50\n",
      "8871/8871 [==============================] - 2s 245us/step - loss: 0.0050 - acc: 0.9988 - val_loss: 0.6270 - val_acc: 0.9111\n",
      "\n",
      "Epoch 00044: val_acc did not improve from 0.91515\n",
      "Epoch 45/50\n",
      "8871/8871 [==============================] - 2s 240us/step - loss: 0.0082 - acc: 0.9971 - val_loss: 0.7278 - val_acc: 0.9060\n",
      "\n",
      "Epoch 00045: val_acc did not improve from 0.91515\n",
      "Epoch 46/50\n",
      "8871/8871 [==============================] - 2s 243us/step - loss: 0.0074 - acc: 0.9981 - val_loss: 0.6163 - val_acc: 0.9138\n",
      "\n",
      "Epoch 00046: val_acc did not improve from 0.91515\n",
      "Epoch 47/50\n",
      "8871/8871 [==============================] - 2s 239us/step - loss: 0.0043 - acc: 0.9988 - val_loss: 0.6913 - val_acc: 0.9091\n",
      "\n",
      "Epoch 00047: val_acc did not improve from 0.91515\n",
      "Epoch 48/50\n",
      "8871/8871 [==============================] - 2s 243us/step - loss: 0.0060 - acc: 0.9984 - val_loss: 0.7304 - val_acc: 0.9077\n",
      "\n",
      "Epoch 00048: val_acc did not improve from 0.91515\n",
      "Epoch 49/50\n",
      "8871/8871 [==============================] - 2s 248us/step - loss: 0.0102 - acc: 0.9966 - val_loss: 0.6544 - val_acc: 0.9121\n",
      "\n",
      "Epoch 00049: val_acc did not improve from 0.91515\n",
      "Epoch 50/50\n",
      "8871/8871 [==============================] - 2s 254us/step - loss: 0.0052 - acc: 0.9983 - val_loss: 0.6873 - val_acc: 0.9067\n",
      "\n",
      "Epoch 00050: val_acc did not improve from 0.91515\n"
     ]
    }
   ],
   "source": [
    "full_model.compile(loss='categorical_crossentropy', optimizer='adadelta',metrics=['accuracy'])\n",
    "history = full_model.fit(x_train3, y_train2, batch_size=64,epochs=50,verbose=1, validation_data=(x_validation2, y_validation), callbacks=[best_model])"
   ]
  },
  {
   "cell_type": "code",
   "execution_count": 33,
   "metadata": {},
   "outputs": [
    {
     "data": {
      "image/png": "[encoded data removed]",
      "text/plain": [
       "<Figure size 432x288 with 1 Axes>"
      ]
     },
     "metadata": {},
     "output_type": "display_data"
    },
    {
     "data": {
      "image/png": "[encoded data removed]",
      "text/plain": [
       "<Figure size 432x288 with 1 Axes>"
      ]
     },
     "metadata": {},
     "output_type": "display_data"
    }
   ],
   "source": [
    "# Plot training & validation accuracy values\n",
    "plt.plot(history.history['acc'])\n",
    "plt.plot(history.history['val_acc'])\n",
    "plt.title('Model accuracy on 50 Epochs')\n",
    "plt.ylabel('Accuracy')\n",
    "plt.xlabel('Epoch')\n",
    "plt.legend(['Train', 'Validation'], loc='upper left')\n",
    "plt.show()\n",
    "\n",
    "# Plot training & validation loss values\n",
    "plt.plot(history.history['loss'])\n",
    "plt.plot(history.history['val_loss'])\n",
    "plt.title('Model loss')\n",
    "plt.ylabel('Loss')\n",
    "plt.xlabel('Epoch')\n",
    "plt.legend(['Train', 'Validation'], loc='upper left')\n",
    "plt.show()"
   ]
  },
  {
   "cell_type": "code",
   "execution_count": 34,
   "metadata": {},
   "outputs": [],
   "source": [
    "#Carico i pesi del miglior modello trovato precedentemente nelle 50 epoche di apprendimento\n",
    "full_model.load_weights(\"best_model_over.h5\")\n",
    "\n",
    "full_model.compile(optimizer='adadelta',\n",
    "              loss='categorical_crossentropy',\n",
    "              metrics=['accuracy'])"
   ]
  },
  {
   "cell_type": "code",
   "execution_count": 35,
   "metadata": {
    "scrolled": true
   },
   "outputs": [
    {
     "name": "stdout",
     "output_type": "stream",
     "text": [
      "2958/2958 [==============================] - 1s 221us/step\n"
     ]
    },
    {
     "data": {
      "text/plain": [
       "[0.5861589859433074, 0.9151453684116232]"
      ]
     },
     "execution_count": 35,
     "metadata": {},
     "output_type": "execute_result"
    }
   ],
   "source": [
    "full_model.evaluate(x_validation2, y_validation)"
   ]
  },
  {
   "cell_type": "markdown",
   "metadata": {},
   "source": [
    "# Si utilizza un convolutional Autoencoder"
   ]
  },
  {
   "cell_type": "code",
   "execution_count": 36,
   "metadata": {},
   "outputs": [],
   "source": [
    "from keras.layers import Input, Dense, Conv2D, MaxPooling2D, UpSampling2D\n",
    "from keras.models import Model\n",
    "from keras import backend as K\n",
    "\n",
    "input_img = Input(shape=(28, 28, 1))  # adapt this if using `channels_first` image data format\n",
    "\n",
    "x = Conv2D(16, (3, 3), activation='relu', padding='same')(input_img)\n",
    "x = MaxPooling2D((2, 2), padding='same')(x)\n",
    "x = Conv2D(8, (3, 3), activation='relu', padding='same')(x)\n",
    "x = MaxPooling2D((2, 2), padding='same')(x)\n",
    "x = Conv2D(8, (3, 3), activation='relu', padding='same')(x)\n",
    "encoded = MaxPooling2D((2, 2), padding='same')(x)\n",
    "\n",
    "# at this point the representation is (4, 4, 8) i.e. 128-dimensional\n",
    "\n",
    "x = Conv2D(8, (3, 3), activation='relu', padding='same')(encoded)\n",
    "x = UpSampling2D((2, 2))(x)\n",
    "x = Conv2D(8, (3, 3), activation='relu', padding='same')(x)\n",
    "x = UpSampling2D((2, 2))(x)\n",
    "x = Conv2D(16, (3, 3), activation='relu')(x)\n",
    "x = UpSampling2D((2, 2))(x)\n",
    "decoded = Conv2D(1, (3, 3), activation='sigmoid', padding='same')(x)\n",
    "\n",
    "autoencoder = Model(input_img, decoded)\n",
    "autoencoder.compile(optimizer='adadelta', loss='binary_crossentropy')"
   ]
  },
  {
   "cell_type": "code",
   "execution_count": 37,
   "metadata": {},
   "outputs": [
    {
     "data": {
      "text/plain": [
       "(8871, 28, 28, 1)"
      ]
     },
     "execution_count": 37,
     "metadata": {},
     "output_type": "execute_result"
    }
   ],
   "source": [
    "x_train2.shape"
   ]
  },
  {
   "cell_type": "code",
   "execution_count": 38,
   "metadata": {},
   "outputs": [
    {
     "data": {
      "text/plain": [
       "(2958, 28, 28, 1)"
      ]
     },
     "execution_count": 38,
     "metadata": {},
     "output_type": "execute_result"
    }
   ],
   "source": [
    "x_validation.shape"
   ]
  },
  {
   "cell_type": "markdown",
   "metadata": {},
   "source": [
    "Faccio un reshape del train e del test, dato che alla rete convoluzionale passerò matrici 28x28"
   ]
  },
  {
   "cell_type": "code",
   "execution_count": 41,
   "metadata": {},
   "outputs": [],
   "source": [
    "x_train = x_train.reshape(11829, 28, 28, 1)"
   ]
  },
  {
   "cell_type": "code",
   "execution_count": 42,
   "metadata": {},
   "outputs": [],
   "source": [
    "x_test = x_test.reshape(5070, 28, 28, 1)"
   ]
  },
  {
   "cell_type": "code",
   "execution_count": 43,
   "metadata": {
    "scrolled": false
   },
   "outputs": [
    {
     "name": "stdout",
     "output_type": "stream",
     "text": [
      "Train on 11829 samples, validate on 5070 samples\n",
      "Epoch 1/50\n",
      "11829/11829 [==============================] - 11s 905us/step - loss: 0.6636 - val_loss: 0.5667\n",
      "Epoch 2/50\n",
      "11829/11829 [==============================] - 6s 549us/step - loss: 0.5468 - val_loss: 0.4992\n",
      "Epoch 3/50\n",
      "11829/11829 [==============================] - 6s 549us/step - loss: 0.4605 - val_loss: 0.4611\n",
      "Epoch 4/50\n",
      "11829/11829 [==============================] - 6s 548us/step - loss: 0.4059 - val_loss: 0.3921\n",
      "Epoch 5/50\n",
      "11829/11829 [==============================] - 6s 549us/step - loss: 0.3752 - val_loss: 0.3739\n",
      "Epoch 6/50\n",
      "11829/11829 [==============================] - 7s 550us/step - loss: 0.3539 - val_loss: 0.3575\n",
      "Epoch 7/50\n",
      "11829/11829 [==============================] - 7s 554us/step - loss: 0.3395 - val_loss: 0.3288\n",
      "Epoch 8/50\n",
      "11829/11829 [==============================] - 7s 554us/step - loss: 0.3287 - val_loss: 0.3191\n",
      "Epoch 9/50\n",
      "11829/11829 [==============================] - 7s 551us/step - loss: 0.3190 - val_loss: 0.3195\n",
      "Epoch 10/50\n",
      "11829/11829 [==============================] - 7s 551us/step - loss: 0.3125 - val_loss: 0.3054\n",
      "Epoch 11/50\n",
      "11829/11829 [==============================] - 7s 550us/step - loss: 0.3050 - val_loss: 0.2975\n",
      "Epoch 12/50\n",
      "11829/11829 [==============================] - 7s 550us/step - loss: 0.3004 - val_loss: 0.2848\n",
      "Epoch 13/50\n",
      "11829/11829 [==============================] - 7s 550us/step - loss: 0.2953 - val_loss: 0.3045\n",
      "Epoch 14/50\n",
      "11829/11829 [==============================] - 6s 549us/step - loss: 0.2901 - val_loss: 0.2825\n",
      "Epoch 15/50\n",
      "11829/11829 [==============================] - 7s 550us/step - loss: 0.2874 - val_loss: 0.2803\n",
      "Epoch 16/50\n",
      "11829/11829 [==============================] - 7s 550us/step - loss: 0.2842 - val_loss: 0.2900\n",
      "Epoch 17/50\n",
      "11829/11829 [==============================] - 6s 549us/step - loss: 0.2802 - val_loss: 0.2775\n",
      "Epoch 18/50\n",
      "11829/11829 [==============================] - 7s 550us/step - loss: 0.2778 - val_loss: 0.2686\n",
      "Epoch 19/50\n",
      "11829/11829 [==============================] - 7s 550us/step - loss: 0.2743 - val_loss: 0.2710\n",
      "Epoch 20/50\n",
      "11829/11829 [==============================] - 7s 550us/step - loss: 0.2720 - val_loss: 0.2639\n",
      "Epoch 21/50\n",
      "11829/11829 [==============================] - 7s 550us/step - loss: 0.2684 - val_loss: 0.2845\n",
      "Epoch 22/50\n",
      "11829/11829 [==============================] - 6s 549us/step - loss: 0.2684 - val_loss: 0.2649\n",
      "Epoch 23/50\n",
      "11829/11829 [==============================] - 7s 551us/step - loss: 0.2652 - val_loss: 0.2740\n",
      "Epoch 24/50\n",
      "11829/11829 [==============================] - 6s 549us/step - loss: 0.2627 - val_loss: 0.2575\n",
      "Epoch 25/50\n",
      "11829/11829 [==============================] - 7s 550us/step - loss: 0.2613 - val_loss: 0.2816\n",
      "Epoch 26/50\n",
      "11829/11829 [==============================] - 7s 551us/step - loss: 0.2595 - val_loss: 0.2676\n",
      "Epoch 27/50\n",
      "11829/11829 [==============================] - 7s 551us/step - loss: 0.2576 - val_loss: 0.2501\n",
      "Epoch 28/50\n",
      "11829/11829 [==============================] - 6s 549us/step - loss: 0.2555 - val_loss: 0.2530\n",
      "Epoch 29/50\n",
      "11829/11829 [==============================] - 7s 550us/step - loss: 0.2545 - val_loss: 0.2589\n",
      "Epoch 30/50\n",
      "11829/11829 [==============================] - 6s 549us/step - loss: 0.2529 - val_loss: 0.2589\n",
      "Epoch 31/50\n",
      "11829/11829 [==============================] - 6s 549us/step - loss: 0.2521 - val_loss: 0.2465\n",
      "Epoch 32/50\n",
      "11829/11829 [==============================] - 7s 550us/step - loss: 0.2505 - val_loss: 0.2541\n",
      "Epoch 33/50\n",
      "11829/11829 [==============================] - 7s 551us/step - loss: 0.2493 - val_loss: 0.2427\n",
      "Epoch 34/50\n",
      "11829/11829 [==============================] - 6s 549us/step - loss: 0.2481 - val_loss: 0.2485\n",
      "Epoch 35/50\n",
      "11829/11829 [==============================] - 7s 556us/step - loss: 0.2471 - val_loss: 0.2562\n",
      "Epoch 36/50\n",
      "11829/11829 [==============================] - 7s 551us/step - loss: 0.2472 - val_loss: 0.2422\n",
      "Epoch 37/50\n",
      "11829/11829 [==============================] - 7s 550us/step - loss: 0.2442 - val_loss: 0.2478\n",
      "Epoch 38/50\n",
      "11829/11829 [==============================] - 7s 550us/step - loss: 0.2435 - val_loss: 0.2391\n",
      "Epoch 39/50\n",
      "11829/11829 [==============================] - 7s 553us/step - loss: 0.2427 - val_loss: 0.2564\n",
      "Epoch 40/50\n",
      "11829/11829 [==============================] - 6s 549us/step - loss: 0.2429 - val_loss: 0.2424\n",
      "Epoch 41/50\n",
      "11829/11829 [==============================] - 7s 551us/step - loss: 0.2405 - val_loss: 0.2319\n",
      "Epoch 42/50\n",
      "11829/11829 [==============================] - 7s 559us/step - loss: 0.2406 - val_loss: 0.2319\n",
      "Epoch 43/50\n",
      "11829/11829 [==============================] - 7s 559us/step - loss: 0.2389 - val_loss: 0.2475\n",
      "Epoch 44/50\n",
      "11829/11829 [==============================] - 7s 554us/step - loss: 0.2392 - val_loss: 0.2405\n",
      "Epoch 45/50\n",
      "11829/11829 [==============================] - 7s 552us/step - loss: 0.2374 - val_loss: 0.2343\n",
      "Epoch 46/50\n",
      "11829/11829 [==============================] - 7s 550us/step - loss: 0.2372 - val_loss: 0.2373\n",
      "Epoch 47/50\n",
      "11829/11829 [==============================] - 6s 549us/step - loss: 0.2361 - val_loss: 0.2375\n",
      "Epoch 48/50\n",
      "11829/11829 [==============================] - 6s 549us/step - loss: 0.2360 - val_loss: 0.2301\n",
      "Epoch 49/50\n",
      "11829/11829 [==============================] - 6s 549us/step - loss: 0.2342 - val_loss: 0.2395\n",
      "Epoch 50/50\n",
      "11829/11829 [==============================] - 7s 550us/step - loss: 0.2345 - val_loss: 0.2311\n"
     ]
    }
   ],
   "source": [
    "history2 = autoencoder.fit(x_train, x_train,\n",
    "                epochs=50,\n",
    "                batch_size=256,\n",
    "                shuffle=True,\n",
    "                validation_data=(x_test, x_test))"
   ]
  },
  {
   "cell_type": "code",
   "execution_count": 44,
   "metadata": {},
   "outputs": [
    {
     "data": {
      "image/png": "[encoded data removed]",
      "text/plain": [
       "<Figure size 1440x288 with 20 Axes>"
      ]
     },
     "metadata": {},
     "output_type": "display_data"
    }
   ],
   "source": [
    "decoded_imgs = autoencoder.predict(x_test)\n",
    "\n",
    "n = 10\n",
    "plt.figure(figsize=(20, 4))\n",
    "for i in range(n):\n",
    "    # display original\n",
    "    ax = plt.subplot(2, n, i+1)\n",
    "    plt.imshow(x_test[i].reshape(28, 28))\n",
    "    plt.gray()\n",
    "    ax.get_xaxis().set_visible(False)\n",
    "    ax.get_yaxis().set_visible(False)\n",
    "\n",
    "    # display reconstruction\n",
    "    ax = plt.subplot(2, n, i + n+1)\n",
    "    plt.imshow(decoded_imgs[i].reshape(28, 28))\n",
    "    plt.gray()\n",
    "    ax.get_xaxis().set_visible(False)\n",
    "    ax.get_yaxis().set_visible(False)\n",
    "plt.show()"
   ]
  },
  {
   "cell_type": "markdown",
   "metadata": {},
   "source": [
    "### Ora utilizzo ora la rete Convoluzionale come modello per predirre, e lo testo sul validation"
   ]
  },
  {
   "cell_type": "code",
   "execution_count": 45,
   "metadata": {},
   "outputs": [],
   "source": [
    "from keras.layers import Flatten\n",
    "num_classes = 10\n",
    "\n",
    "flat = Flatten()(encoded)  \n",
    "den = Dense(64, activation='relu')(flat)\n",
    "out = Dense(num_classes, activation='softmax')(den)\n",
    "\n",
    "convol_model = Model(input_img,out)"
   ]
  },
  {
   "cell_type": "code",
   "execution_count": 46,
   "metadata": {
    "scrolled": false
   },
   "outputs": [
    {
     "name": "stdout",
     "output_type": "stream",
     "text": [
      "Train on 8871 samples, validate on 2958 samples\n",
      "Epoch 1/50\n",
      "8871/8871 [==============================] - 5s 600us/step - loss: 0.7777 - acc: 0.7740 - val_loss: 0.4245 - val_acc: 0.8773\n",
      "\n",
      "Epoch 00001: val_acc improved from -inf to 0.87728, saving model to best_model_conv.h5\n",
      "Epoch 2/50\n",
      "8871/8871 [==============================] - 4s 436us/step - loss: 0.3728 - acc: 0.8969 - val_loss: 0.3641 - val_acc: 0.8891\n",
      "\n",
      "Epoch 00002: val_acc improved from 0.87728 to 0.88911, saving model to best_model_conv.h5\n",
      "Epoch 3/50\n",
      "8871/8871 [==============================] - 4s 441us/step - loss: 0.3166 - acc: 0.9096 - val_loss: 0.3172 - val_acc: 0.8976\n",
      "\n",
      "Epoch 00003: val_acc improved from 0.88911 to 0.89757, saving model to best_model_conv.h5\n",
      "Epoch 4/50\n",
      "8871/8871 [==============================] - 4s 449us/step - loss: 0.2810 - acc: 0.9189 - val_loss: 0.3094 - val_acc: 0.9026\n",
      "\n",
      "Epoch 00004: val_acc improved from 0.89757 to 0.90264, saving model to best_model_conv.h5\n",
      "Epoch 5/50\n",
      "8871/8871 [==============================] - 3s 362us/step - loss: 0.2570 - acc: 0.9251 - val_loss: 0.2853 - val_acc: 0.9128\n",
      "\n",
      "Epoch 00005: val_acc improved from 0.90264 to 0.91278, saving model to best_model_conv.h5\n",
      "Epoch 6/50\n",
      "8871/8871 [==============================] - 3s 370us/step - loss: 0.2373 - acc: 0.9300 - val_loss: 0.2826 - val_acc: 0.9077\n",
      "\n",
      "Epoch 00006: val_acc did not improve from 0.91278\n",
      "Epoch 7/50\n",
      "8871/8871 [==============================] - 3s 367us/step - loss: 0.2217 - acc: 0.9330 - val_loss: 0.2652 - val_acc: 0.9155\n",
      "\n",
      "Epoch 00007: val_acc improved from 0.91278 to 0.91548, saving model to best_model_conv.h5\n",
      "Epoch 8/50\n",
      "8871/8871 [==============================] - 3s 356us/step - loss: 0.2061 - acc: 0.9387 - val_loss: 0.2788 - val_acc: 0.9192\n",
      "\n",
      "Epoch 00008: val_acc improved from 0.91548 to 0.91920, saving model to best_model_conv.h5\n",
      "Epoch 9/50\n",
      "8871/8871 [==============================] - 3s 354us/step - loss: 0.1954 - acc: 0.9427 - val_loss: 0.2692 - val_acc: 0.9141\n",
      "\n",
      "Epoch 00009: val_acc did not improve from 0.91920\n",
      "Epoch 10/50\n",
      "8871/8871 [==============================] - 3s 357us/step - loss: 0.1809 - acc: 0.9452 - val_loss: 0.2586 - val_acc: 0.9185\n",
      "\n",
      "Epoch 00010: val_acc did not improve from 0.91920\n",
      "Epoch 11/50\n",
      "8871/8871 [==============================] - 3s 357us/step - loss: 0.1730 - acc: 0.9496 - val_loss: 0.2662 - val_acc: 0.9165\n",
      "\n",
      "Epoch 00011: val_acc did not improve from 0.91920\n",
      "Epoch 12/50\n",
      "8871/8871 [==============================] - 3s 369us/step - loss: 0.1623 - acc: 0.9512 - val_loss: 0.2863 - val_acc: 0.9097loss: 0.1622 - acc: 0.\n",
      "\n",
      "Epoch 00012: val_acc did not improve from 0.91920\n",
      "Epoch 13/50\n",
      "8871/8871 [==============================] - 3s 352us/step - loss: 0.1555 - acc: 0.9538 - val_loss: 0.2655 - val_acc: 0.9168\n",
      "\n",
      "Epoch 00013: val_acc did not improve from 0.91920\n",
      "Epoch 14/50\n",
      "8871/8871 [==============================] - 3s 356us/step - loss: 0.1434 - acc: 0.9564 - val_loss: 0.2905 - val_acc: 0.9172\n",
      "\n",
      "Epoch 00014: val_acc did not improve from 0.91920\n",
      "Epoch 15/50\n",
      "8871/8871 [==============================] - 3s 354us/step - loss: 0.1372 - acc: 0.9577 - val_loss: 0.2606 - val_acc: 0.9206\n",
      "\n",
      "Epoch 00015: val_acc improved from 0.91920 to 0.92055, saving model to best_model_conv.h5\n",
      "Epoch 16/50\n",
      "8871/8871 [==============================] - 3s 356us/step - loss: 0.1289 - acc: 0.9595 - val_loss: 0.3091 - val_acc: 0.9178\n",
      "\n",
      "Epoch 00016: val_acc did not improve from 0.92055\n",
      "Epoch 17/50\n",
      "8871/8871 [==============================] - 3s 358us/step - loss: 0.1207 - acc: 0.9621 - val_loss: 0.2999 - val_acc: 0.91282s - loss: 0.097 - ETA: 1s - loss: 0.1151 - acc: 0. - ETA: 1s - loss: 0.1\n",
      "\n",
      "Epoch 00017: val_acc did not improve from 0.92055\n",
      "Epoch 18/50\n",
      "8871/8871 [==============================] - 3s 357us/step - loss: 0.1135 - acc: 0.9654 - val_loss: 0.2794 - val_acc: 0.9185.965 - ETA: 0s - loss: 0.1134 - acc: 0.965 - ETA: 0s - loss: 0.1151 - acc\n",
      "\n",
      "Epoch 00018: val_acc did not improve from 0.92055\n",
      "Epoch 19/50\n",
      "8871/8871 [==============================] - 3s 358us/step - loss: 0.1042 - acc: 0.9681 - val_loss: 0.3001 - val_acc: 0.9182\n",
      "\n",
      "Epoch 00019: val_acc did not improve from 0.92055\n",
      "Epoch 20/50\n",
      "8871/8871 [==============================] - 3s 357us/step - loss: 0.1012 - acc: 0.9674 - val_loss: 0.3068 - val_acc: 0.9195\n",
      "\n",
      "Epoch 00020: val_acc did not improve from 0.92055\n",
      "Epoch 21/50\n",
      "8871/8871 [==============================] - 3s 357us/step - loss: 0.0923 - acc: 0.9700 - val_loss: 0.3029 - val_acc: 0.9192\n",
      "\n",
      "Epoch 00021: val_acc did not improve from 0.92055\n",
      "Epoch 22/50\n",
      "8871/8871 [==============================] - 3s 359us/step - loss: 0.0890 - acc: 0.9716 - val_loss: 0.3056 - val_acc: 0.9212\n",
      "\n",
      "Epoch 00022: val_acc improved from 0.92055 to 0.92123, saving model to best_model_conv.h5\n",
      "Epoch 23/50\n",
      "8871/8871 [==============================] - 3s 359us/step - loss: 0.0802 - acc: 0.9737 - val_loss: 0.3163 - val_acc: 0.9233\n",
      "\n",
      "Epoch 00023: val_acc improved from 0.92123 to 0.92326, saving model to best_model_conv.h5\n",
      "Epoch 24/50\n",
      "8871/8871 [==============================] - 3s 370us/step - loss: 0.0764 - acc: 0.9759 - val_loss: 0.3135 - val_acc: 0.9189\n",
      "\n",
      "Epoch 00024: val_acc did not improve from 0.92326\n",
      "Epoch 25/50\n",
      "8871/8871 [==============================] - 3s 358us/step - loss: 0.0700 - acc: 0.9795 - val_loss: 0.3327 - val_acc: 0.9212\n",
      "\n",
      "Epoch 00025: val_acc did not improve from 0.92326\n",
      "Epoch 26/50\n",
      "8871/8871 [==============================] - 3s 361us/step - loss: 0.0640 - acc: 0.9807 - val_loss: 0.3376 - val_acc: 0.9202\n",
      "\n",
      "Epoch 00026: val_acc did not improve from 0.92326\n",
      "Epoch 27/50\n",
      "8871/8871 [==============================] - 3s 352us/step - loss: 0.0592 - acc: 0.9815 - val_loss: 0.3707 - val_acc: 0.9178\n",
      "\n",
      "Epoch 00027: val_acc did not improve from 0.92326\n",
      "Epoch 28/50\n",
      "8871/8871 [==============================] - 3s 354us/step - loss: 0.0567 - acc: 0.9829 - val_loss: 0.3623 - val_acc: 0.9192\n",
      "\n",
      "Epoch 00028: val_acc did not improve from 0.92326\n",
      "Epoch 29/50\n",
      "8871/8871 [==============================] - 3s 355us/step - loss: 0.0506 - acc: 0.9847 - val_loss: 0.3782 - val_acc: 0.9151\n",
      "\n",
      "Epoch 00029: val_acc did not improve from 0.92326\n",
      "Epoch 30/50\n",
      "8871/8871 [==============================] - 3s 364us/step - loss: 0.0461 - acc: 0.9860 - val_loss: 0.4154 - val_acc: 0.9097 - acc: 0.98 - ETA: 0s - loss: 0.0458 - \n",
      "\n",
      "Epoch 00030: val_acc did not improve from 0.92326\n",
      "Epoch 31/50\n",
      "8871/8871 [==============================] - 3s 361us/step - loss: 0.0443 - acc: 0.9862 - val_loss: 0.3867 - val_acc: 0.9202\n",
      "\n",
      "Epoch 00031: val_acc did not improve from 0.92326\n",
      "Epoch 32/50\n",
      "8871/8871 [==============================] - 3s 354us/step - loss: 0.0384 - acc: 0.9896 - val_loss: 0.4003 - val_acc: 0.9175\n",
      "\n",
      "Epoch 00032: val_acc did not improve from 0.92326\n",
      "Epoch 33/50\n",
      "8871/8871 [==============================] - 3s 370us/step - loss: 0.0349 - acc: 0.9909 - val_loss: 0.4121 - val_acc: 0.9175\n",
      "\n",
      "Epoch 00033: val_acc did not improve from 0.92326\n",
      "Epoch 34/50\n",
      "8871/8871 [==============================] - 3s 360us/step - loss: 0.0327 - acc: 0.9897 - val_loss: 0.4056 - val_acc: 0.92338 - acc: 0.9\n",
      "\n",
      "Epoch 00034: val_acc improved from 0.92326 to 0.92326, saving model to best_model_conv.h5\n",
      "Epoch 35/50\n",
      "8871/8871 [==============================] - 3s 361us/step - loss: 0.0294 - acc: 0.9922 - val_loss: 0.4261 - val_acc: 0.9209\n",
      "\n",
      "Epoch 00035: val_acc did not improve from 0.92326\n",
      "Epoch 36/50\n",
      "8871/8871 [==============================] - 3s 367us/step - loss: 0.0280 - acc: 0.9919 - val_loss: 0.4311 - val_acc: 0.9202 loss: 0 - ETA: 0s - loss: 0.02\n",
      "\n",
      "Epoch 00036: val_acc did not improve from 0.92326\n",
      "Epoch 37/50\n",
      "8871/8871 [==============================] - 3s 367us/step - loss: 0.0237 - acc: 0.9938 - val_loss: 0.4672 - val_acc: 0.9165\n",
      "\n",
      "Epoch 00037: val_acc did not improve from 0.92326\n",
      "Epoch 38/50\n",
      "8871/8871 [==============================] - 3s 360us/step - loss: 0.0224 - acc: 0.9947 - val_loss: 0.4616 - val_acc: 0.9219\n",
      "\n",
      "Epoch 00038: val_acc did not improve from 0.92326\n",
      "Epoch 39/50\n",
      "8871/8871 [==============================] - 3s 361us/step - loss: 0.0206 - acc: 0.9953 - val_loss: 0.4642 - val_acc: 0.9226loss: 0.0186 - acc - ETA: 0s - loss: 0.0190 \n",
      "\n",
      "Epoch 00039: val_acc did not improve from 0.92326\n",
      "Epoch 40/50\n",
      "8871/8871 [==============================] - 3s 359us/step - loss: 0.0189 - acc: 0.9952 - val_loss: 0.4839 - val_acc: 0.9192\n",
      "\n",
      "Epoch 00040: val_acc did not improve from 0.92326\n",
      "Epoch 41/50\n",
      "8871/8871 [==============================] - 3s 370us/step - loss: 0.0175 - acc: 0.9957 - val_loss: 0.4808 - val_acc: 0.9246\n",
      "\n",
      "Epoch 00041: val_acc improved from 0.92326 to 0.92461, saving model to best_model_conv.h5\n",
      "Epoch 42/50\n",
      "8871/8871 [==============================] - 3s 359us/step - loss: 0.0170 - acc: 0.9954 - val_loss: 0.4956 - val_acc: 0.9185\n",
      "\n",
      "Epoch 00042: val_acc did not improve from 0.92461\n",
      "Epoch 43/50\n",
      "8871/8871 [==============================] - 3s 360us/step - loss: 0.0148 - acc: 0.9962 - val_loss: 0.5145 - val_acc: 0.9185\n",
      "\n",
      "Epoch 00043: val_acc did not improve from 0.92461\n",
      "Epoch 44/50\n",
      "8871/8871 [==============================] - 3s 354us/step - loss: 0.0141 - acc: 0.9959 - val_loss: 0.5329 - val_acc: 0.9168\n",
      "\n",
      "Epoch 00044: val_acc did not improve from 0.92461\n",
      "Epoch 45/50\n",
      "8871/8871 [==============================] - 3s 354us/step - loss: 0.0129 - acc: 0.9970 - val_loss: 0.5180 - val_acc: 0.9192\n",
      "\n",
      "Epoch 00045: val_acc did not improve from 0.92461\n",
      "Epoch 46/50\n",
      "8871/8871 [==============================] - 3s 356us/step - loss: 0.0128 - acc: 0.9962 - val_loss: 0.5053 - val_acc: 0.9236\n",
      "\n",
      "Epoch 00046: val_acc did not improve from 0.92461\n",
      "Epoch 47/50\n",
      "8871/8871 [==============================] - 3s 357us/step - loss: 0.0105 - acc: 0.9976 - val_loss: 0.5482 - val_acc: 0.9192s - loss: 0.0099 - a\n",
      "\n",
      "Epoch 00047: val_acc did not improve from 0.92461\n",
      "Epoch 48/50\n",
      "8871/8871 [==============================] - 3s 357us/step - loss: 0.0116 - acc: 0.9974 - val_loss: 0.5584 - val_acc: 0.9175\n",
      "\n",
      "Epoch 00048: val_acc did not improve from 0.92461\n",
      "Epoch 49/50\n",
      "8871/8871 [==============================] - 3s 359us/step - loss: 0.0086 - acc: 0.9979 - val_loss: 0.5573 - val_acc: 0.9222\n",
      "\n",
      "Epoch 00049: val_acc did not improve from 0.92461\n",
      "Epoch 50/50\n",
      "8871/8871 [==============================] - 3s 358us/step - loss: 0.0111 - acc: 0.9975 - val_loss: 0.5722 - val_acc: 0.9206\n",
      "\n",
      "Epoch 00050: val_acc did not improve from 0.92461\n"
     ]
    }
   ],
   "source": [
    "fBestModel = 'best_model_conv.h5'\n",
    "best_model = ModelCheckpoint(fBestModel, monitor = 'val_acc', verbose=1, save_best_only=True) #Imposto questa callback, in modo che il modello salvi i parametri migliori\n",
    "convol_model.compile(loss='categorical_crossentropy', optimizer='adadelta',metrics=['accuracy'])\n",
    "history3 = convol_model.fit(x_train2, y_train2, batch_size=64,epochs=50,verbose=1, validation_data = (x_validation, y_validation), callbacks=[best_model])"
   ]
  },
  {
   "cell_type": "code",
   "execution_count": 47,
   "metadata": {},
   "outputs": [
    {
     "data": {
      "image/png": "[encoded data removed]",
      "text/plain": [
       "<Figure size 432x288 with 1 Axes>"
      ]
     },
     "metadata": {},
     "output_type": "display_data"
    },
    {
     "data": {
      "image/png": "[encoded data removed]",
      "text/plain": [
       "<Figure size 432x288 with 1 Axes>"
      ]
     },
     "metadata": {},
     "output_type": "display_data"
    }
   ],
   "source": [
    "# Plot training & validation accuracy values\n",
    "plt.plot(history3.history['acc'])\n",
    "plt.plot(history3.history['val_acc'])\n",
    "plt.title('Model accuracy on 50 Epochs')\n",
    "plt.ylabel('Accuracy')\n",
    "plt.xlabel('Epoch')\n",
    "plt.legend(['Train', 'Test'], loc='upper left')\n",
    "plt.show()\n",
    "\n",
    "# Plot training & validation loss values\n",
    "plt.plot(history3.history['loss'])\n",
    "plt.plot(history3.history['val_loss'])\n",
    "plt.title('Model loss on 50 Epochs')\n",
    "plt.ylabel('Loss')\n",
    "plt.xlabel('Epoch')\n",
    "plt.legend(['Train', 'Test'], loc='upper left')\n",
    "plt.show()"
   ]
  },
  {
   "cell_type": "code",
   "execution_count": 48,
   "metadata": {},
   "outputs": [],
   "source": [
    "#Carico i pesi del miglior modello trovato precedentemente nelle 50 epoche di apprendimento\n",
    "convol_model.load_weights(\"best_model_conv.h5\")\n",
    "\n",
    "convol_model.compile(optimizer='adadelta',\n",
    "              loss='categorical_crossentropy',\n",
    "              metrics=['accuracy'])"
   ]
  },
  {
   "cell_type": "code",
   "execution_count": 49,
   "metadata": {},
   "outputs": [
    {
     "name": "stdout",
     "output_type": "stream",
     "text": [
      "2958/2958 [==============================] - 1s 259us/step\n"
     ]
    },
    {
     "data": {
      "text/plain": [
       "[0.48082672560901113, 0.9246112238401654]"
      ]
     },
     "execution_count": 49,
     "metadata": {},
     "output_type": "execute_result"
    }
   ],
   "source": [
    "convol_model.evaluate(x_validation, y_validation)"
   ]
  },
  {
   "cell_type": "markdown",
   "metadata": {},
   "source": [
    "### Confronto modelli"
   ]
  },
  {
   "cell_type": "code",
   "execution_count": 56,
   "metadata": {},
   "outputs": [
    {
     "data": {
      "image/png": "[encoded data removed]",
      "text/plain": [
       "<Figure size 864x576 with 1 Axes>"
      ]
     },
     "metadata": {},
     "output_type": "display_data"
    }
   ],
   "source": [
    "sns.set_style(\"whitegrid\")\n",
    "f, ax = plt.subplots(figsize= (12,8))\n",
    "\n",
    "plt.plot(history.history['val_acc'])\n",
    "plt.plot(history3.history['val_acc'])\n",
    "plt.title('Confronto Acc modelli su 50 epoche')\n",
    "plt.ylabel('Loss')\n",
    "plt.xlabel('Epoch')\n",
    "plt.legend(['Deep', 'Convolutional'], loc='lower right')\n",
    "plt.show()"
   ]
  },
  {
   "cell_type": "markdown",
   "metadata": {},
   "source": [
    "### Il miglior modello convoluzionle ha accuracy sul validation maggiore rispetto al miglior modello deep"
   ]
  },
  {
   "cell_type": "markdown",
   "metadata": {},
   "source": [
    "### Il modello convoluzionale raggiunge livelli più alti di accuracy sul validation, pertanto verrà utilizzato sul test."
   ]
  },
  {
   "cell_type": "code",
   "execution_count": 57,
   "metadata": {},
   "outputs": [],
   "source": [
    "predicted_classes = convol_model.predict(x_test)\n",
    "predicted_classes = np.argmax(np.round(predicted_classes),axis=1)"
   ]
  },
  {
   "cell_type": "code",
   "execution_count": 58,
   "metadata": {},
   "outputs": [
    {
     "data": {
      "text/plain": [
       "array([3, 6, 5, ..., 6, 0, 6], dtype=int64)"
      ]
     },
     "execution_count": 58,
     "metadata": {},
     "output_type": "execute_result"
    }
   ],
   "source": [
    "predicted_classes"
   ]
  },
  {
   "cell_type": "markdown",
   "metadata": {},
   "source": [
    "Creo txt per la submission"
   ]
  },
  {
   "cell_type": "code",
   "execution_count": 59,
   "metadata": {},
   "outputs": [],
   "source": [
    "diz = {0:'A', 1:'B', 2:'C', 3:'D', 4:'E', 5:'F', 6:'G', 7:'H', 8:'I', 9:'J'}"
   ]
  },
  {
   "cell_type": "code",
   "execution_count": 60,
   "metadata": {},
   "outputs": [],
   "source": [
    "preddf = pd.DataFrame(predicted_classes)"
   ]
  },
  {
   "cell_type": "code",
   "execution_count": 61,
   "metadata": {},
   "outputs": [],
   "source": [
    "pred_letters = preddf.replace(diz)"
   ]
  },
  {
   "cell_type": "code",
   "execution_count": 62,
   "metadata": {
    "scrolled": true
   },
   "outputs": [
    {
     "data": {
      "text/html": [
       "<div>\n",
       "<style scoped>\n",
       "    .dataframe tbody tr th:only-of-type {\n",
       "        vertical-align: middle;\n",
       "    }\n",
       "\n",
       "    .dataframe tbody tr th {\n",
       "        vertical-align: top;\n",
       "    }\n",
       "\n",
       "    .dataframe thead th {\n",
       "        text-align: right;\n",
       "    }\n",
       "</style>\n",
       "<table border=\"1\" class=\"dataframe\">\n",
       "  <thead>\n",
       "    <tr style=\"text-align: right;\">\n",
       "      <th></th>\n",
       "      <th>0</th>\n",
       "    </tr>\n",
       "  </thead>\n",
       "  <tbody>\n",
       "    <tr>\n",
       "      <th>0</th>\n",
       "      <td>D</td>\n",
       "    </tr>\n",
       "    <tr>\n",
       "      <th>1</th>\n",
       "      <td>G</td>\n",
       "    </tr>\n",
       "    <tr>\n",
       "      <th>2</th>\n",
       "      <td>F</td>\n",
       "    </tr>\n",
       "    <tr>\n",
       "      <th>3</th>\n",
       "      <td>E</td>\n",
       "    </tr>\n",
       "    <tr>\n",
       "      <th>4</th>\n",
       "      <td>E</td>\n",
       "    </tr>\n",
       "  </tbody>\n",
       "</table>\n",
       "</div>"
      ],
      "text/plain": [
       "   0\n",
       "0  D\n",
       "1  G\n",
       "2  F\n",
       "3  E\n",
       "4  E"
      ]
     },
     "execution_count": 62,
     "metadata": {},
     "output_type": "execute_result"
    }
   ],
   "source": [
    "pred_letters.head()"
   ]
  },
  {
   "cell_type": "code",
   "execution_count": 63,
   "metadata": {},
   "outputs": [],
   "source": [
    "pred_letters.rename(index=str, columns={0:\"predicted_classes\"}, inplace=True)"
   ]
  },
  {
   "cell_type": "code",
   "execution_count": 64,
   "metadata": {},
   "outputs": [],
   "source": [
    "pred_letters.to_csv('davide_brinati_771458_score2.csv')"
   ]
  },
  {
   "cell_type": "code",
   "execution_count": null,
   "metadata": {},
   "outputs": [],
   "source": []
  }
 ],
 "metadata": {
  "kernelspec": {
   "display_name": "Python 3",
   "language": "python",
   "name": "python3"
  },
  "language_info": {
   "codemirror_mode": {
    "name": "ipython",
    "version": 3
   },
   "file_extension": ".py",
   "mimetype": "text/x-python",
   "name": "python",
   "nbconvert_exporter": "python",
   "pygments_lexer": "ipython3",
   "version": "3.6.5"
  }
 },
 "nbformat": 4,
 "nbformat_minor": 2
}
