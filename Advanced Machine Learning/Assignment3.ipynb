{
 "cells": [
  {
   "cell_type": "code",
   "execution_count": 1,
   "metadata": {},
   "outputs": [
    {
     "name": "stderr",
     "output_type": "stream",
     "text": [
      "C:\\Users\\done-\\Anaconda3\\lib\\site-packages\\h5py\\__init__.py:36: FutureWarning: Conversion of the second argument of issubdtype from `float` to `np.floating` is deprecated. In future, it will be treated as `np.float64 == np.dtype(float).type`.\n",
      "  from ._conv import register_converters as _register_converters\n",
      "Using TensorFlow backend.\n"
     ]
    }
   ],
   "source": [
    "import numpy as np\n",
    "import pandas as pd\n",
    "import matplotlib.pyplot as plt\n",
    "%matplotlib inline\n",
    "\n",
    "from keras.models import Model\n",
    "from keras.models import Sequential\n",
    "from keras.datasets import mnist\n",
    "from keras.utils import np_utils, to_categorical\n",
    "from keras.callbacks import Callback, ModelCheckpoint\n",
    "from keras import optimizers\n",
    "from keras import layers\n",
    "from keras.layers import Dense\n",
    "from keras.layers import Flatten\n",
    "from keras.layers import Dropout\n",
    "\n",
    "from sklearn import preprocessing\n",
    "from sklearn.model_selection import train_test_split"
   ]
  },
  {
   "cell_type": "code",
   "execution_count": 2,
   "metadata": {},
   "outputs": [],
   "source": [
    "#Carico il dataset\n",
    "(x_train, y_train), (x_test, y_test) = mnist.load_data()"
   ]
  },
  {
   "cell_type": "code",
   "execution_count": 3,
   "metadata": {},
   "outputs": [
    {
     "name": "stdout",
     "output_type": "stream",
     "text": [
      "Train Shape --> x: (60000, 28, 28)\ty:(60000,)\n",
      "Test Shape --> x: (10000, 28, 28)\ty:(10000,)\n"
     ]
    }
   ],
   "source": [
    "print('Train Shape --> x: {}\\ty:{}\\nTest Shape --> x: {}\\ty:{}'.format(x_train.shape, y_train.shape, x_test.shape, y_test.shape))"
   ]
  },
  {
   "cell_type": "markdown",
   "metadata": {},
   "source": [
    "Osserviamo il numero di classi"
   ]
  },
  {
   "cell_type": "code",
   "execution_count": 4,
   "metadata": {},
   "outputs": [
    {
     "data": {
      "text/plain": [
       "{0, 1, 2, 3, 4, 5, 6, 7, 8, 9}"
      ]
     },
     "execution_count": 4,
     "metadata": {},
     "output_type": "execute_result"
    }
   ],
   "source": [
    "classi = set(y_train)\n",
    "classi"
   ]
  },
  {
   "cell_type": "code",
   "execution_count": 5,
   "metadata": {},
   "outputs": [
    {
     "data": {
      "image/png": "[encoded data removed]",
      "text/plain": [
       "<Figure size 1152x1152 with 10 Axes>"
      ]
     },
     "metadata": {},
     "output_type": "display_data"
    }
   ],
   "source": [
    "plt.figure(figsize=(16, 16))\n",
    "\n",
    "i = 1\n",
    "for cl in classi:\n",
    "    image = x_train[y_train.tolist().index(cl)]\n",
    "    plt.subplot(10, 10, i)\n",
    "    plt.axis('off')\n",
    "    plt.title(\"{0}: ({1})\".format(cl, y_train.tolist().count(cl)))\n",
    "    i += 1\n",
    "    _= plt.imshow(image, 'gray')"
   ]
  },
  {
   "cell_type": "code",
   "execution_count": 6,
   "metadata": {},
   "outputs": [
    {
     "data": {
      "text/plain": [
       "dtype('uint8')"
      ]
     },
     "execution_count": 6,
     "metadata": {},
     "output_type": "execute_result"
    }
   ],
   "source": [
    "x_train.dtype"
   ]
  },
  {
   "cell_type": "markdown",
   "metadata": {},
   "source": [
    "Si effettuerà ora una conversione in float32 e si dividerà per 255, dato che ogni pixel ha un valore compreso tra 0 e 255, per avere valori compresi tra 0 e 1"
   ]
  },
  {
   "cell_type": "code",
   "execution_count": 7,
   "metadata": {},
   "outputs": [],
   "source": [
    "x_train = x_train.astype('float32')/255.\n",
    "x_test = x_test.astype('float32')/255."
   ]
  },
  {
   "cell_type": "code",
   "execution_count": 8,
   "metadata": {},
   "outputs": [
    {
     "data": {
      "text/plain": [
       "(60000,)"
      ]
     },
     "execution_count": 8,
     "metadata": {},
     "output_type": "execute_result"
    }
   ],
   "source": [
    "y_train.shape"
   ]
  },
  {
   "cell_type": "markdown",
   "metadata": {},
   "source": [
    "Si ricodificano le variabili di classificazione come one hot"
   ]
  },
  {
   "cell_type": "code",
   "execution_count": 9,
   "metadata": {},
   "outputs": [],
   "source": [
    "y_train = np_utils.to_categorical(y_train, 10)\n",
    "y_test = np_utils.to_categorical(y_test, 10)"
   ]
  },
  {
   "cell_type": "code",
   "execution_count": 10,
   "metadata": {},
   "outputs": [
    {
     "data": {
      "text/plain": [
       "(60000, 10)"
      ]
     },
     "execution_count": 10,
     "metadata": {},
     "output_type": "execute_result"
    }
   ],
   "source": [
    "y_train.shape"
   ]
  },
  {
   "cell_type": "markdown",
   "metadata": {},
   "source": [
    "### Modello 1"
   ]
  },
  {
   "cell_type": "code",
   "execution_count": 11,
   "metadata": {},
   "outputs": [],
   "source": [
    "input_shape = (28,28,1)\n",
    "x_train = x_train.reshape(x_train.shape[0], 28, 28, 1)\n",
    "x_test = x_test.reshape(x_test.shape[0], 28, 28, 1)"
   ]
  },
  {
   "cell_type": "code",
   "execution_count": 12,
   "metadata": {},
   "outputs": [],
   "source": [
    "model = Sequential()\n",
    "\n",
    "model.add(layers.Conv2D(32, kernel_size=(3, 3), strides = (2,2), activation='relu', input_shape=input_shape))\n",
    "model.add(layers.MaxPooling2D(pool_size=(2, 2)))\n",
    "\n",
    "model.add(layers.Conv2D(10, kernel_size=(3, 3), strides = (1,1), activation='relu', input_shape=input_shape))\n",
    "model.add(layers.MaxPooling2D(pool_size=(2, 2)))\n",
    "\n",
    "model.add(layers.Flatten())\n",
    "\n",
    "model.add(Dense(40, activation='relu'))\n",
    "model.add(Dense(20, activation='relu'))\n",
    "model.add(layers.Dropout(0.5))\n",
    "model.add(Dense(10, activation='softmax'))"
   ]
  },
  {
   "cell_type": "code",
   "execution_count": 13,
   "metadata": {},
   "outputs": [
    {
     "name": "stdout",
     "output_type": "stream",
     "text": [
      "_________________________________________________________________\n",
      "Layer (type)                 Output Shape              Param #   \n",
      "=================================================================\n",
      "conv2d_1 (Conv2D)            (None, 13, 13, 32)        320       \n",
      "_________________________________________________________________\n",
      "max_pooling2d_1 (MaxPooling2 (None, 6, 6, 32)          0         \n",
      "_________________________________________________________________\n",
      "conv2d_2 (Conv2D)            (None, 4, 4, 10)          2890      \n",
      "_________________________________________________________________\n",
      "max_pooling2d_2 (MaxPooling2 (None, 2, 2, 10)          0         \n",
      "_________________________________________________________________\n",
      "flatten_1 (Flatten)          (None, 40)                0         \n",
      "_________________________________________________________________\n",
      "dense_1 (Dense)              (None, 40)                1640      \n",
      "_________________________________________________________________\n",
      "dense_2 (Dense)              (None, 20)                820       \n",
      "_________________________________________________________________\n",
      "dropout_1 (Dropout)          (None, 20)                0         \n",
      "_________________________________________________________________\n",
      "dense_3 (Dense)              (None, 10)                210       \n",
      "=================================================================\n",
      "Total params: 5,880\n",
      "Trainable params: 5,880\n",
      "Non-trainable params: 0\n",
      "_________________________________________________________________\n"
     ]
    }
   ],
   "source": [
    "model.summary()"
   ]
  },
  {
   "cell_type": "code",
   "execution_count": 14,
   "metadata": {},
   "outputs": [],
   "source": [
    "model.compile(loss='categorical_crossentropy', optimizer='adam', metrics=['accuracy'])"
   ]
  },
  {
   "cell_type": "code",
   "execution_count": 15,
   "metadata": {},
   "outputs": [
    {
     "name": "stdout",
     "output_type": "stream",
     "text": [
      "Train on 60000 samples, validate on 10000 samples\n",
      "Epoch 1/30\n",
      "60000/60000 [==============================] - 8s 139us/step - loss: 1.5330 - acc: 0.4366 - val_loss: 0.6566 - val_acc: 0.8470\n",
      "Epoch 2/30\n",
      "60000/60000 [==============================] - 6s 102us/step - loss: 0.9414 - acc: 0.6612 - val_loss: 0.3683 - val_acc: 0.9148\n",
      "Epoch 3/30\n",
      "60000/60000 [==============================] - 6s 96us/step - loss: 0.7905 - acc: 0.7086 - val_loss: 0.2763 - val_acc: 0.9320\n",
      "Epoch 4/30\n",
      "60000/60000 [==============================] - 6s 94us/step - loss: 0.7209 - acc: 0.7362 - val_loss: 0.2285 - val_acc: 0.9390\n",
      "Epoch 5/30\n",
      "60000/60000 [==============================] - 6s 94us/step - loss: 0.6697 - acc: 0.7565 - val_loss: 0.2092 - val_acc: 0.9488\n",
      "Epoch 6/30\n",
      "60000/60000 [==============================] - 6s 94us/step - loss: 0.6299 - acc: 0.7709 - val_loss: 0.1767 - val_acc: 0.9555\n",
      "Epoch 7/30\n",
      "60000/60000 [==============================] - 10s 166us/step - loss: 0.5683 - acc: 0.7907 - val_loss: 0.1632 - val_acc: 0.9566\n",
      "Epoch 8/30\n",
      "60000/60000 [==============================] - 6s 93us/step - loss: 0.5360 - acc: 0.8042 - val_loss: 0.1542 - val_acc: 0.9585\n",
      "Epoch 9/30\n",
      "60000/60000 [==============================] - 6s 93us/step - loss: 0.5113 - acc: 0.8121 - val_loss: 0.1393 - val_acc: 0.9617\n",
      "Epoch 10/30\n",
      "60000/60000 [==============================] - 6s 93us/step - loss: 0.4703 - acc: 0.8338 - val_loss: 0.1302 - val_acc: 0.9663\n",
      "Epoch 11/30\n",
      "60000/60000 [==============================] - 6s 93us/step - loss: 0.4348 - acc: 0.8514 - val_loss: 0.1246 - val_acc: 0.9681\n",
      "Epoch 12/30\n",
      "60000/60000 [==============================] - 10s 168us/step - loss: 0.4184 - acc: 0.8552 - val_loss: 0.1192 - val_acc: 0.9700\n",
      "Epoch 13/30\n",
      "60000/60000 [==============================] - 6s 95us/step - loss: 0.4076 - acc: 0.8603 - val_loss: 0.1176 - val_acc: 0.9692\n",
      "Epoch 14/30\n",
      "60000/60000 [==============================] - 6s 95us/step - loss: 0.3758 - acc: 0.8744 - val_loss: 0.1218 - val_acc: 0.9686\n",
      "Epoch 15/30\n",
      "60000/60000 [==============================] - 20s 330us/step - loss: 0.3587 - acc: 0.8802 - val_loss: 0.1154 - val_acc: 0.9711\n",
      "Epoch 16/30\n",
      "60000/60000 [==============================] - 6s 98us/step - loss: 0.3465 - acc: 0.8828 - val_loss: 0.1214 - val_acc: 0.9705\n",
      "Epoch 17/30\n",
      "60000/60000 [==============================] - 17s 276us/step - loss: 0.3188 - acc: 0.8953 - val_loss: 0.1335 - val_acc: 0.9691\n",
      "Epoch 18/30\n",
      "60000/60000 [==============================] - 11s 188us/step - loss: 0.2886 - acc: 0.9069 - val_loss: 0.1162 - val_acc: 0.9721\n",
      "Epoch 19/30\n",
      "60000/60000 [==============================] - 6s 99us/step - loss: 0.2782 - acc: 0.9113 - val_loss: 0.1128 - val_acc: 0.9727\n",
      "Epoch 20/30\n",
      "60000/60000 [==============================] - 10s 171us/step - loss: 0.2723 - acc: 0.9166 - val_loss: 0.1149 - val_acc: 0.9731\n",
      "Epoch 21/30\n",
      "60000/60000 [==============================] - 6s 93us/step - loss: 0.2675 - acc: 0.9167 - val_loss: 0.1113 - val_acc: 0.9731\n",
      "Epoch 22/30\n",
      "60000/60000 [==============================] - 6s 96us/step - loss: 0.2634 - acc: 0.9183 - val_loss: 0.1246 - val_acc: 0.9711\n",
      "Epoch 23/30\n",
      "60000/60000 [==============================] - 5s 91us/step - loss: 0.2574 - acc: 0.9219 - val_loss: 0.1163 - val_acc: 0.9719\n",
      "Epoch 24/30\n",
      "60000/60000 [==============================] - 5s 91us/step - loss: 0.2416 - acc: 0.9262 - val_loss: 0.1209 - val_acc: 0.9751\n",
      "Epoch 25/30\n",
      "60000/60000 [==============================] - 5s 90us/step - loss: 0.2385 - acc: 0.9276 - val_loss: 0.1114 - val_acc: 0.9762\n",
      "Epoch 26/30\n",
      "60000/60000 [==============================] - 5s 91us/step - loss: 0.2304 - acc: 0.9310 - val_loss: 0.1098 - val_acc: 0.9754\n",
      "Epoch 27/30\n",
      "60000/60000 [==============================] - 11s 182us/step - loss: 0.2262 - acc: 0.9329 - val_loss: 0.1082 - val_acc: 0.9763: 6s - loss: 0.2262 - ac - ETA: 4s  - ETA: 0s - loss: 0.2261 - acc: 0.932\n",
      "Epoch 28/30\n",
      "60000/60000 [==============================] - 10s 174us/step - loss: 0.2240 - acc: 0.9323 - val_loss: 0.1129 - val_acc: 0.9746\n",
      "Epoch 29/30\n",
      "60000/60000 [==============================] - 10s 166us/step - loss: 0.2162 - acc: 0.9347 - val_loss: 0.1124 - val_acc: 0.9770\n",
      "Epoch 30/30\n",
      "60000/60000 [==============================] - 6s 94us/step - loss: 0.2145 - acc: 0.9350 - val_loss: 0.1163 - val_acc: 0.9757\n"
     ]
    }
   ],
   "source": [
    "history = model.fit(x_train, y_train, batch_size = 128, epochs= 30, verbose=1, validation_data=(x_test, y_test))"
   ]
  },
  {
   "cell_type": "code",
   "execution_count": 16,
   "metadata": {},
   "outputs": [
    {
     "data": {
      "image/png": "[encoded data removed]",
      "text/plain": [
       "<Figure size 432x288 with 1 Axes>"
      ]
     },
     "metadata": {},
     "output_type": "display_data"
    },
    {
     "data": {
      "image/png": "[encoded data removed]",
      "text/plain": [
       "<Figure size 432x288 with 1 Axes>"
      ]
     },
     "metadata": {},
     "output_type": "display_data"
    }
   ],
   "source": [
    "# Plot training & validation accuracy values\n",
    "plt.plot(history.history['acc'])\n",
    "plt.plot(history.history['val_acc'])\n",
    "plt.title('Model accuracy')\n",
    "plt.ylabel('Accuracy')\n",
    "plt.xlabel('Epoch')\n",
    "plt.legend(['Train', 'Test'], loc='upper left')\n",
    "plt.show()\n",
    "\n",
    "# Plot training & validation loss values\n",
    "plt.plot(history.history['loss'])\n",
    "plt.plot(history.history['val_loss'])\n",
    "plt.title('Model loss')\n",
    "plt.ylabel('Loss')\n",
    "plt.xlabel('Epoch')\n",
    "plt.legend(['Train', 'Test'], loc='upper left')\n",
    "plt.show()"
   ]
  },
  {
   "cell_type": "markdown",
   "metadata": {},
   "source": [
    "### Modello 2"
   ]
  },
  {
   "cell_type": "code",
   "execution_count": 17,
   "metadata": {},
   "outputs": [],
   "source": [
    "model2 = Sequential()\n",
    "\n",
    "model2.add(layers.Conv2D(6, kernel_size=(3, 3), strides = (2,2), activation='relu', input_shape=input_shape))\n",
    "model2.add(layers.MaxPooling2D(pool_size=(2, 2)))\n",
    "\n",
    "model2.add(layers.Flatten())\n",
    "model2.add(Dense(40, activation='relu'))\n",
    "model2.add(layers.Dropout(0.5))\n",
    "model2.add(Dense(10, activation='softmax'))"
   ]
  },
  {
   "cell_type": "code",
   "execution_count": 18,
   "metadata": {
    "scrolled": false
   },
   "outputs": [
    {
     "name": "stdout",
     "output_type": "stream",
     "text": [
      "_________________________________________________________________\n",
      "Layer (type)                 Output Shape              Param #   \n",
      "=================================================================\n",
      "conv2d_3 (Conv2D)            (None, 13, 13, 6)         60        \n",
      "_________________________________________________________________\n",
      "max_pooling2d_3 (MaxPooling2 (None, 6, 6, 6)           0         \n",
      "_________________________________________________________________\n",
      "flatten_2 (Flatten)          (None, 216)               0         \n",
      "_________________________________________________________________\n",
      "dense_4 (Dense)              (None, 40)                8680      \n",
      "_________________________________________________________________\n",
      "dropout_2 (Dropout)          (None, 40)                0         \n",
      "_________________________________________________________________\n",
      "dense_5 (Dense)              (None, 10)                410       \n",
      "=================================================================\n",
      "Total params: 9,150\n",
      "Trainable params: 9,150\n",
      "Non-trainable params: 0\n",
      "_________________________________________________________________\n"
     ]
    }
   ],
   "source": [
    "model2.summary()"
   ]
  },
  {
   "cell_type": "code",
   "execution_count": 19,
   "metadata": {},
   "outputs": [],
   "source": [
    "model2.compile(loss='categorical_crossentropy', optimizer='adam', metrics=['accuracy'])"
   ]
  },
  {
   "cell_type": "code",
   "execution_count": 20,
   "metadata": {},
   "outputs": [
    {
     "name": "stdout",
     "output_type": "stream",
     "text": [
      "Train on 60000 samples, validate on 10000 samples\n",
      "Epoch 1/30\n",
      "60000/60000 [==============================] - 4s 69us/step - loss: 1.0314 - acc: 0.6623 - val_loss: 0.3955 - val_acc: 0.8838\n",
      "Epoch 2/30\n",
      "60000/60000 [==============================] - 4s 59us/step - loss: 0.5814 - acc: 0.8150 - val_loss: 0.2999 - val_acc: 0.9080\n",
      "Epoch 3/30\n",
      "60000/60000 [==============================] - 4s 61us/step - loss: 0.4948 - acc: 0.8426 - val_loss: 0.2594 - val_acc: 0.9217\n",
      "Epoch 4/30\n",
      "60000/60000 [==============================] - 4s 60us/step - loss: 0.4494 - acc: 0.8582 - val_loss: 0.2277 - val_acc: 0.9308\n",
      "Epoch 5/30\n",
      "60000/60000 [==============================] - 4s 59us/step - loss: 0.4179 - acc: 0.8683 - val_loss: 0.2098 - val_acc: 0.9344\n",
      "Epoch 6/30\n",
      "60000/60000 [==============================] - 4s 68us/step - loss: 0.3920 - acc: 0.8778 - val_loss: 0.1949 - val_acc: 0.9417\n",
      "Epoch 7/30\n",
      "60000/60000 [==============================] - 4s 65us/step - loss: 0.3718 - acc: 0.8843 - val_loss: 0.1807 - val_acc: 0.9443\n",
      "Epoch 8/30\n",
      "60000/60000 [==============================] - 4s 60us/step - loss: 0.3509 - acc: 0.8892 - val_loss: 0.1756 - val_acc: 0.9459\n",
      "Epoch 9/30\n",
      "60000/60000 [==============================] - 4s 60us/step - loss: 0.3395 - acc: 0.8925 - val_loss: 0.1636 - val_acc: 0.9505\n",
      "Epoch 10/30\n",
      "60000/60000 [==============================] - 4s 59us/step - loss: 0.3296 - acc: 0.8948 - val_loss: 0.1588 - val_acc: 0.9510\n",
      "Epoch 11/30\n",
      "60000/60000 [==============================] - 4s 67us/step - loss: 0.3214 - acc: 0.8992 - val_loss: 0.1512 - val_acc: 0.9524\n",
      "Epoch 12/30\n",
      "60000/60000 [==============================] - 4s 68us/step - loss: 0.3128 - acc: 0.9015 - val_loss: 0.1466 - val_acc: 0.9546\n",
      "Epoch 13/30\n",
      "60000/60000 [==============================] - 4s 59us/step - loss: 0.3022 - acc: 0.9035 - val_loss: 0.1423 - val_acc: 0.9558- ETA: 0s - loss: 0.3013 - acc: 0.90\n",
      "Epoch 14/30\n",
      "60000/60000 [==============================] - 4s 64us/step - loss: 0.3022 - acc: 0.9054 - val_loss: 0.1394 - val_acc: 0.9569\n",
      "Epoch 15/30\n",
      "60000/60000 [==============================] - 4s 65us/step - loss: 0.2883 - acc: 0.9095 - val_loss: 0.1326 - val_acc: 0.9581\n",
      "Epoch 16/30\n",
      "60000/60000 [==============================] - 4s 60us/step - loss: 0.2845 - acc: 0.9090 - val_loss: 0.1308 - val_acc: 0.9578 loss\n",
      "Epoch 17/30\n",
      "60000/60000 [==============================] - 4s 64us/step - loss: 0.2825 - acc: 0.9091 - val_loss: 0.1292 - val_acc: 0.9593\n",
      "Epoch 18/30\n",
      "60000/60000 [==============================] - 4s 65us/step - loss: 0.2728 - acc: 0.9146 - val_loss: 0.1312 - val_acc: 0.9586\n",
      "Epoch 19/30\n",
      "60000/60000 [==============================] - 5s 75us/step - loss: 0.2703 - acc: 0.9138 - val_loss: 0.1256 - val_acc: 0.9591\n",
      "Epoch 20/30\n",
      "60000/60000 [==============================] - 4s 71us/step - loss: 0.2678 - acc: 0.9150 - val_loss: 0.1269 - val_acc: 0.9608\n",
      "Epoch 21/30\n",
      "60000/60000 [==============================] - 4s 64us/step - loss: 0.2670 - acc: 0.9152 - val_loss: 0.1230 - val_acc: 0.9612\n",
      "Epoch 22/30\n",
      "60000/60000 [==============================] - 4s 69us/step - loss: 0.2636 - acc: 0.9172 - val_loss: 0.1206 - val_acc: 0.9611\n",
      "Epoch 23/30\n",
      "60000/60000 [==============================] - 4s 62us/step - loss: 0.2582 - acc: 0.9198 - val_loss: 0.1211 - val_acc: 0.9605\n",
      "Epoch 24/30\n",
      "60000/60000 [==============================] - 5s 75us/step - loss: 0.2571 - acc: 0.9193 - val_loss: 0.1202 - val_acc: 0.9609\n",
      "Epoch 25/30\n",
      "60000/60000 [==============================] - 4s 59us/step - loss: 0.2529 - acc: 0.9193 - val_loss: 0.1219 - val_acc: 0.9618\n",
      "Epoch 26/30\n",
      "60000/60000 [==============================] - 4s 59us/step - loss: 0.2494 - acc: 0.9207 - val_loss: 0.1168 - val_acc: 0.9622ss: 0.2509 - acc: 0.91 - ETA: 1s - loss: 0. - ETA: 0s - loss: 0.2507 - acc: - ETA: 0s - loss: 0.2494 - acc: \n",
      "Epoch 27/30\n",
      "60000/60000 [==============================] - 4s 59us/step - loss: 0.2507 - acc: 0.9209 - val_loss: 0.1152 - val_acc: 0.9622\n",
      "Epoch 28/30\n",
      "60000/60000 [==============================] - 4s 60us/step - loss: 0.2450 - acc: 0.9231 - val_loss: 0.1162 - val_acc: 0.9633\n",
      "Epoch 29/30\n",
      "60000/60000 [==============================] - 4s 73us/step - loss: 0.2458 - acc: 0.9216 - val_loss: 0.1161 - val_acc: 0.9627\n",
      "Epoch 30/30\n",
      "60000/60000 [==============================] - 4s 62us/step - loss: 0.2432 - acc: 0.9235 - val_loss: 0.1125 - val_acc: 0.9637\n"
     ]
    }
   ],
   "source": [
    "history2 = model2.fit(x_train, y_train, batch_size = 128, epochs= 30, verbose=1, validation_data=(x_test, y_test))"
   ]
  },
  {
   "cell_type": "code",
   "execution_count": 21,
   "metadata": {},
   "outputs": [
    {
     "data": {
      "image/png": "[encoded data removed]",
      "text/plain": [
       "<Figure size 432x288 with 1 Axes>"
      ]
     },
     "metadata": {},
     "output_type": "display_data"
    },
    {
     "data": {
      "image/png": "[encoded data removed]",
      "text/plain": [
       "<Figure size 432x288 with 1 Axes>"
      ]
     },
     "metadata": {},
     "output_type": "display_data"
    }
   ],
   "source": [
    "# Plot training & validation accuracy values\n",
    "plt.plot(history2.history['acc'])\n",
    "plt.plot(history2.history['val_acc'])\n",
    "plt.title('Model accuracy')\n",
    "plt.ylabel('Accuracy')\n",
    "plt.xlabel('Epoch')\n",
    "plt.legend(['Train', 'Test'], loc='upper left')\n",
    "plt.show()\n",
    "\n",
    "# Plot training & validation loss values\n",
    "plt.plot(history2.history['loss'])\n",
    "plt.plot(history2.history['val_loss'])\n",
    "plt.title('Model loss')\n",
    "plt.ylabel('Loss')\n",
    "plt.xlabel('Epoch')\n",
    "plt.legend(['Train', 'Test'], loc='upper left')\n",
    "plt.show()"
   ]
  },
  {
   "cell_type": "markdown",
   "metadata": {},
   "source": [
    "Confrontiamo loss e accuracy dei due modelli sul test"
   ]
  },
  {
   "cell_type": "code",
   "execution_count": 22,
   "metadata": {},
   "outputs": [],
   "source": [
    "import seaborn as sns"
   ]
  },
  {
   "cell_type": "code",
   "execution_count": 23,
   "metadata": {},
   "outputs": [
    {
     "data": {
      "image/png": "[encoded data removed]",
      "text/plain": [
       "<Figure size 864x576 with 1 Axes>"
      ]
     },
     "metadata": {},
     "output_type": "display_data"
    }
   ],
   "source": [
    "sns.set_style(\"whitegrid\")\n",
    "f, ax = plt.subplots(figsize= (12,8))\n",
    "plt.plot(history.history['val_loss'], color = 'green')\n",
    "plt.plot(history.history['val_acc'], color = 'red')\n",
    "plt.plot(history2.history['val_loss'], color = 'blue')\n",
    "plt.plot(history2.history['val_acc'], color = 'black')\n",
    "plt.title('Comparazione accuracy dei due modelli sul test in 30 epoche')\n",
    "plt.ylabel('Loss')\n",
    "plt.xlabel('Epoch')\n",
    "plt.legend(['Model 1 Loss', 'Model 1 Acc', 'Model 2 Loss', 'Model 2 Acc'], loc='center right')\n",
    "plt.show()"
   ]
  },
  {
   "cell_type": "markdown",
   "metadata": {},
   "source": [
    "Il primo modello elaborato è quello che da migliori risultati in termini di loss e di accuracy sul test"
   ]
  },
  {
   "cell_type": "code",
   "execution_count": 27,
   "metadata": {},
   "outputs": [
    {
     "name": "stdout",
     "output_type": "stream",
     "text": [
      "Test loss: 0.11631735169892199\n",
      "Test accuracy: 0.9757\n"
     ]
    }
   ],
   "source": [
    "score = model.evaluate(x_test, y_test, verbose=0)\n",
    "print('Test loss:', score[0])\n",
    "print('Test accuracy:', score[1])"
   ]
  },
  {
   "cell_type": "code",
   "execution_count": 28,
   "metadata": {},
   "outputs": [],
   "source": [
    "pred = model.predict(x_test)"
   ]
  },
  {
   "cell_type": "code",
   "execution_count": 30,
   "metadata": {},
   "outputs": [],
   "source": [
    "from sklearn.metrics import classification_report"
   ]
  },
  {
   "cell_type": "code",
   "execution_count": 34,
   "metadata": {},
   "outputs": [
    {
     "data": {
      "text/plain": [
       "array([7, 2, 1, ..., 4, 5, 6], dtype=int64)"
      ]
     },
     "execution_count": 34,
     "metadata": {},
     "output_type": "execute_result"
    }
   ],
   "source": [
    "#Riporto la predizione da one-hot a vettore monodimensionale\n",
    "np.argmax(pred, axis=1)"
   ]
  },
  {
   "cell_type": "code",
   "execution_count": 36,
   "metadata": {},
   "outputs": [],
   "source": [
    "prediz = np.argmax(pred, axis=1)"
   ]
  },
  {
   "cell_type": "code",
   "execution_count": 37,
   "metadata": {
    "scrolled": false
   },
   "outputs": [
    {
     "data": {
      "text/plain": [
       "array([7, 2, 1, ..., 4, 5, 6], dtype=int64)"
      ]
     },
     "execution_count": 37,
     "metadata": {},
     "output_type": "execute_result"
    }
   ],
   "source": [
    "prediz"
   ]
  },
  {
   "cell_type": "code",
   "execution_count": 40,
   "metadata": {},
   "outputs": [],
   "source": [
    "y_test = np.argmax(y_test, axis=1)"
   ]
  },
  {
   "cell_type": "code",
   "execution_count": 42,
   "metadata": {
    "scrolled": true
   },
   "outputs": [
    {
     "name": "stdout",
     "output_type": "stream",
     "text": [
      "             precision    recall  f1-score   support\n",
      "\n",
      "          0       0.98      0.99      0.98       980\n",
      "          1       0.99      0.99      0.99      1135\n",
      "          2       0.97      0.98      0.98      1032\n",
      "          3       0.99      0.97      0.98      1010\n",
      "          4       0.98      0.98      0.98       982\n",
      "          5       0.95      0.98      0.96       892\n",
      "          6       0.97      0.98      0.98       958\n",
      "          7       0.97      0.96      0.96      1028\n",
      "          8       0.98      0.97      0.97       974\n",
      "          9       0.98      0.95      0.96      1009\n",
      "\n",
      "avg / total       0.98      0.98      0.98     10000\n",
      "\n"
     ]
    }
   ],
   "source": [
    "print(classification_report(y_test, prediz))"
   ]
  },
  {
   "cell_type": "code",
   "execution_count": 50,
   "metadata": {},
   "outputs": [],
   "source": [
    "from sklearn.metrics import confusion_matrix"
   ]
  },
  {
   "cell_type": "code",
   "execution_count": 51,
   "metadata": {},
   "outputs": [],
   "source": [
    "def plot_confusion_matrix(cm, classes,\n",
    "                          title='Confusion matrix',\n",
    "                          cmap=plt.cm.Blues):\n",
    "\n",
    "    plt.imshow(cm, interpolation='nearest', cmap=cmap)\n",
    "    plt.title(title)\n",
    "    plt.colorbar()\n",
    "    tick_marks = np.arange(len(classes))\n",
    "    plt.xticks(tick_marks, classes, rotation=45)\n",
    "    plt.yticks(tick_marks, classes)\n",
    "    plt.ylabel('True label')\n",
    "    plt.xlabel('Predicted label')\n",
    "    plt.tight_layout()"
   ]
  },
  {
   "cell_type": "code",
   "execution_count": 59,
   "metadata": {},
   "outputs": [
    {
     "name": "stdout",
     "output_type": "stream",
     "text": [
      "[[ 967    0    1    0    0    2    7    2    1    0]\n",
      " [   2 1121    4    1    0    2    1    2    1    1]\n",
      " [   3    3 1012    0    1    1    2    6    4    0]\n",
      " [   0    0    2  983    0   14    0    8    2    1]\n",
      " [   1    0    1    0  965    1    7    1    1    5]\n",
      " [   3    0    0    6    0  876    4    1    1    1]\n",
      " [   5    4    0    0    3    3  943    0    0    0]\n",
      " [   1    7   18    1    0    4    0  991    1    5]\n",
      " [   3    0    2    4    1    7    4    5  940    8]\n",
      " [   2    3    0    2   12   15    1   10    5  959]]\n"
     ]
    },
    {
     "data": {
      "image/png": "[encoded data removed]",
      "text/plain": [
       "<Figure size 432x432 with 2 Axes>"
      ]
     },
     "metadata": {},
     "output_type": "display_data"
    }
   ],
   "source": [
    "cmp = confusion_matrix(y_test, prediz, labels=[0,1,2,3,4,5,6,7,8,9], sample_weight=None)\n",
    "print(cmp)\n",
    "\n",
    "class_names = ['0','1','2','3','4','5','6','7','8','9']\n",
    "plt.figure(figsize=(6, 6))\n",
    "plot_confusion_matrix(cmp, classes=class_names, title='Confusion matrix')"
   ]
  },
  {
   "cell_type": "code",
   "execution_count": null,
   "metadata": {},
   "outputs": [],
   "source": []
  }
 ],
 "metadata": {
  "kernelspec": {
   "display_name": "Python 3",
   "language": "python",
   "name": "python3"
  },
  "language_info": {
   "codemirror_mode": {
    "name": "ipython",
    "version": 3
   },
   "file_extension": ".py",
   "mimetype": "text/x-python",
   "name": "python",
   "nbconvert_exporter": "python",
   "pygments_lexer": "ipython3",
   "version": "3.6.5"
  }
 },
 "nbformat": 4,
 "nbformat_minor": 2
}
