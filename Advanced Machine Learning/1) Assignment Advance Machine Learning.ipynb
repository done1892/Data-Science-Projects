{
 "cells": [
  {
   "cell_type": "code",
   "execution_count": 1,
   "metadata": {},
   "outputs": [],
   "source": [
    "import numpy as np\n",
    "import pandas as pd\n",
    "import scipy as sp\n",
    "import matplotlib.pyplot as plt\n",
    "import seaborn as sns\n",
    "%matplotlib inline"
   ]
  },
  {
   "cell_type": "code",
   "execution_count": 2,
   "metadata": {},
   "outputs": [],
   "source": [
    "train = pd.read_csv('D:/uni/SECONDO ANNO/ADVANCE MACHINE LEARNING/Assignment/training_data.csv')\n",
    "test = pd.read_csv('D:/uni/SECONDO ANNO/ADVANCE MACHINE LEARNING/Assignment/testing_data.csv')"
   ]
  },
  {
   "cell_type": "code",
   "execution_count": 3,
   "metadata": {},
   "outputs": [
    {
     "data": {
      "text/html": [
       "<div>\n",
       "<style scoped>\n",
       "    .dataframe tbody tr th:only-of-type {\n",
       "        vertical-align: middle;\n",
       "    }\n",
       "\n",
       "    .dataframe tbody tr th {\n",
       "        vertical-align: top;\n",
       "    }\n",
       "\n",
       "    .dataframe thead th {\n",
       "        text-align: right;\n",
       "    }\n",
       "</style>\n",
       "<table border=\"1\" class=\"dataframe\">\n",
       "  <thead>\n",
       "    <tr style=\"text-align: right;\">\n",
       "      <th></th>\n",
       "      <th>LIMIT_BAL</th>\n",
       "      <th>SEX</th>\n",
       "      <th>EDUCATION</th>\n",
       "      <th>MARRIAGE</th>\n",
       "      <th>AGE</th>\n",
       "      <th>PAY_0</th>\n",
       "      <th>PAY_2</th>\n",
       "      <th>PAY_3</th>\n",
       "      <th>PAY_4</th>\n",
       "      <th>PAY_5</th>\n",
       "      <th>...</th>\n",
       "      <th>BILL_AMT4</th>\n",
       "      <th>BILL_AMT5</th>\n",
       "      <th>BILL_AMT6</th>\n",
       "      <th>PAY_AMT1</th>\n",
       "      <th>PAY_AMT2</th>\n",
       "      <th>PAY_AMT3</th>\n",
       "      <th>PAY_AMT4</th>\n",
       "      <th>PAY_AMT5</th>\n",
       "      <th>PAY_AMT6</th>\n",
       "      <th>default.payment.next.month</th>\n",
       "    </tr>\n",
       "  </thead>\n",
       "  <tbody>\n",
       "    <tr>\n",
       "      <th>0</th>\n",
       "      <td>200000.0</td>\n",
       "      <td>1</td>\n",
       "      <td>2</td>\n",
       "      <td>2</td>\n",
       "      <td>27</td>\n",
       "      <td>0</td>\n",
       "      <td>0</td>\n",
       "      <td>0</td>\n",
       "      <td>0</td>\n",
       "      <td>0</td>\n",
       "      <td>...</td>\n",
       "      <td>183180.0</td>\n",
       "      <td>192223.0</td>\n",
       "      <td>189681.0</td>\n",
       "      <td>7000.0</td>\n",
       "      <td>8100.0</td>\n",
       "      <td>6600.0</td>\n",
       "      <td>12000.0</td>\n",
       "      <td>0.0</td>\n",
       "      <td>6054.0</td>\n",
       "      <td>1</td>\n",
       "    </tr>\n",
       "    <tr>\n",
       "      <th>1</th>\n",
       "      <td>160000.0</td>\n",
       "      <td>1</td>\n",
       "      <td>5</td>\n",
       "      <td>2</td>\n",
       "      <td>46</td>\n",
       "      <td>0</td>\n",
       "      <td>0</td>\n",
       "      <td>0</td>\n",
       "      <td>0</td>\n",
       "      <td>-2</td>\n",
       "      <td>...</td>\n",
       "      <td>0.0</td>\n",
       "      <td>0.0</td>\n",
       "      <td>0.0</td>\n",
       "      <td>4318.0</td>\n",
       "      <td>4000.0</td>\n",
       "      <td>0.0</td>\n",
       "      <td>0.0</td>\n",
       "      <td>0.0</td>\n",
       "      <td>73175.0</td>\n",
       "      <td>0</td>\n",
       "    </tr>\n",
       "    <tr>\n",
       "      <th>2</th>\n",
       "      <td>130000.0</td>\n",
       "      <td>2</td>\n",
       "      <td>1</td>\n",
       "      <td>2</td>\n",
       "      <td>27</td>\n",
       "      <td>1</td>\n",
       "      <td>-2</td>\n",
       "      <td>-1</td>\n",
       "      <td>0</td>\n",
       "      <td>0</td>\n",
       "      <td>...</td>\n",
       "      <td>29426.0</td>\n",
       "      <td>29100.0</td>\n",
       "      <td>-1410.0</td>\n",
       "      <td>326.0</td>\n",
       "      <td>32100.0</td>\n",
       "      <td>0.0</td>\n",
       "      <td>0.0</td>\n",
       "      <td>0.0</td>\n",
       "      <td>0.0</td>\n",
       "      <td>1</td>\n",
       "    </tr>\n",
       "    <tr>\n",
       "      <th>3</th>\n",
       "      <td>70000.0</td>\n",
       "      <td>1</td>\n",
       "      <td>2</td>\n",
       "      <td>2</td>\n",
       "      <td>26</td>\n",
       "      <td>0</td>\n",
       "      <td>0</td>\n",
       "      <td>0</td>\n",
       "      <td>0</td>\n",
       "      <td>0</td>\n",
       "      <td>...</td>\n",
       "      <td>60540.0</td>\n",
       "      <td>26890.0</td>\n",
       "      <td>18923.0</td>\n",
       "      <td>3000.0</td>\n",
       "      <td>4000.0</td>\n",
       "      <td>2000.0</td>\n",
       "      <td>4030.0</td>\n",
       "      <td>0.0</td>\n",
       "      <td>1000.0</td>\n",
       "      <td>0</td>\n",
       "    </tr>\n",
       "    <tr>\n",
       "      <th>4</th>\n",
       "      <td>330000.0</td>\n",
       "      <td>2</td>\n",
       "      <td>1</td>\n",
       "      <td>1</td>\n",
       "      <td>37</td>\n",
       "      <td>-2</td>\n",
       "      <td>-2</td>\n",
       "      <td>-2</td>\n",
       "      <td>-2</td>\n",
       "      <td>-2</td>\n",
       "      <td>...</td>\n",
       "      <td>0.0</td>\n",
       "      <td>442.0</td>\n",
       "      <td>0.0</td>\n",
       "      <td>0.0</td>\n",
       "      <td>10776.0</td>\n",
       "      <td>0.0</td>\n",
       "      <td>442.0</td>\n",
       "      <td>0.0</td>\n",
       "      <td>297.0</td>\n",
       "      <td>0</td>\n",
       "    </tr>\n",
       "  </tbody>\n",
       "</table>\n",
       "<p>5 rows × 24 columns</p>\n",
       "</div>"
      ],
      "text/plain": [
       "   LIMIT_BAL  SEX  EDUCATION  MARRIAGE  AGE  PAY_0  PAY_2  PAY_3  PAY_4  \\\n",
       "0   200000.0    1          2         2   27      0      0      0      0   \n",
       "1   160000.0    1          5         2   46      0      0      0      0   \n",
       "2   130000.0    2          1         2   27      1     -2     -1      0   \n",
       "3    70000.0    1          2         2   26      0      0      0      0   \n",
       "4   330000.0    2          1         1   37     -2     -2     -2     -2   \n",
       "\n",
       "   PAY_5             ...              BILL_AMT4  BILL_AMT5  BILL_AMT6  \\\n",
       "0      0             ...               183180.0   192223.0   189681.0   \n",
       "1     -2             ...                    0.0        0.0        0.0   \n",
       "2      0             ...                29426.0    29100.0    -1410.0   \n",
       "3      0             ...                60540.0    26890.0    18923.0   \n",
       "4     -2             ...                    0.0      442.0        0.0   \n",
       "\n",
       "   PAY_AMT1  PAY_AMT2  PAY_AMT3  PAY_AMT4  PAY_AMT5  PAY_AMT6  \\\n",
       "0    7000.0    8100.0    6600.0   12000.0       0.0    6054.0   \n",
       "1    4318.0    4000.0       0.0       0.0       0.0   73175.0   \n",
       "2     326.0   32100.0       0.0       0.0       0.0       0.0   \n",
       "3    3000.0    4000.0    2000.0    4030.0       0.0    1000.0   \n",
       "4       0.0   10776.0       0.0     442.0       0.0     297.0   \n",
       "\n",
       "   default.payment.next.month  \n",
       "0                           1  \n",
       "1                           0  \n",
       "2                           1  \n",
       "3                           0  \n",
       "4                           0  \n",
       "\n",
       "[5 rows x 24 columns]"
      ]
     },
     "execution_count": 3,
     "metadata": {},
     "output_type": "execute_result"
    }
   ],
   "source": [
    "train.head()"
   ]
  },
  {
   "cell_type": "code",
   "execution_count": 4,
   "metadata": {},
   "outputs": [],
   "source": [
    "train.rename(columns = {'default.payment.next.month':'default_payment_next_month'}, inplace = True)"
   ]
  },
  {
   "cell_type": "code",
   "execution_count": 5,
   "metadata": {},
   "outputs": [
    {
     "data": {
      "text/plain": [
       "(27000, 24)"
      ]
     },
     "execution_count": 5,
     "metadata": {},
     "output_type": "execute_result"
    }
   ],
   "source": [
    "train.shape"
   ]
  },
  {
   "cell_type": "code",
   "execution_count": 6,
   "metadata": {},
   "outputs": [
    {
     "data": {
      "text/html": [
       "<div>\n",
       "<style scoped>\n",
       "    .dataframe tbody tr th:only-of-type {\n",
       "        vertical-align: middle;\n",
       "    }\n",
       "\n",
       "    .dataframe tbody tr th {\n",
       "        vertical-align: top;\n",
       "    }\n",
       "\n",
       "    .dataframe thead th {\n",
       "        text-align: right;\n",
       "    }\n",
       "</style>\n",
       "<table border=\"1\" class=\"dataframe\">\n",
       "  <thead>\n",
       "    <tr style=\"text-align: right;\">\n",
       "      <th></th>\n",
       "      <th>LIMIT_BAL</th>\n",
       "      <th>SEX</th>\n",
       "      <th>EDUCATION</th>\n",
       "      <th>MARRIAGE</th>\n",
       "      <th>AGE</th>\n",
       "      <th>PAY_0</th>\n",
       "      <th>PAY_2</th>\n",
       "      <th>PAY_3</th>\n",
       "      <th>PAY_4</th>\n",
       "      <th>PAY_5</th>\n",
       "      <th>...</th>\n",
       "      <th>BILL_AMT3</th>\n",
       "      <th>BILL_AMT4</th>\n",
       "      <th>BILL_AMT5</th>\n",
       "      <th>BILL_AMT6</th>\n",
       "      <th>PAY_AMT1</th>\n",
       "      <th>PAY_AMT2</th>\n",
       "      <th>PAY_AMT3</th>\n",
       "      <th>PAY_AMT4</th>\n",
       "      <th>PAY_AMT5</th>\n",
       "      <th>PAY_AMT6</th>\n",
       "    </tr>\n",
       "  </thead>\n",
       "  <tbody>\n",
       "    <tr>\n",
       "      <th>0</th>\n",
       "      <td>20000.0</td>\n",
       "      <td>1</td>\n",
       "      <td>1</td>\n",
       "      <td>2</td>\n",
       "      <td>33</td>\n",
       "      <td>1</td>\n",
       "      <td>2</td>\n",
       "      <td>2</td>\n",
       "      <td>2</td>\n",
       "      <td>2</td>\n",
       "      <td>...</td>\n",
       "      <td>19057.0</td>\n",
       "      <td>18453.0</td>\n",
       "      <td>19755.0</td>\n",
       "      <td>19288.0</td>\n",
       "      <td>0.0</td>\n",
       "      <td>2260.0</td>\n",
       "      <td>0.0</td>\n",
       "      <td>1600.0</td>\n",
       "      <td>0.0</td>\n",
       "      <td>644.0</td>\n",
       "    </tr>\n",
       "    <tr>\n",
       "      <th>1</th>\n",
       "      <td>20000.0</td>\n",
       "      <td>2</td>\n",
       "      <td>2</td>\n",
       "      <td>2</td>\n",
       "      <td>35</td>\n",
       "      <td>0</td>\n",
       "      <td>0</td>\n",
       "      <td>2</td>\n",
       "      <td>0</td>\n",
       "      <td>0</td>\n",
       "      <td>...</td>\n",
       "      <td>18600.0</td>\n",
       "      <td>19000.0</td>\n",
       "      <td>19000.0</td>\n",
       "      <td>20000.0</td>\n",
       "      <td>3400.0</td>\n",
       "      <td>0.0</td>\n",
       "      <td>1000.0</td>\n",
       "      <td>0.0</td>\n",
       "      <td>1000.0</td>\n",
       "      <td>0.0</td>\n",
       "    </tr>\n",
       "    <tr>\n",
       "      <th>2</th>\n",
       "      <td>230000.0</td>\n",
       "      <td>2</td>\n",
       "      <td>1</td>\n",
       "      <td>1</td>\n",
       "      <td>44</td>\n",
       "      <td>1</td>\n",
       "      <td>-1</td>\n",
       "      <td>-1</td>\n",
       "      <td>-1</td>\n",
       "      <td>-1</td>\n",
       "      <td>...</td>\n",
       "      <td>2864.0</td>\n",
       "      <td>933.0</td>\n",
       "      <td>0.0</td>\n",
       "      <td>0.0</td>\n",
       "      <td>949.0</td>\n",
       "      <td>2873.0</td>\n",
       "      <td>933.0</td>\n",
       "      <td>0.0</td>\n",
       "      <td>0.0</td>\n",
       "      <td>0.0</td>\n",
       "    </tr>\n",
       "    <tr>\n",
       "      <th>3</th>\n",
       "      <td>100000.0</td>\n",
       "      <td>1</td>\n",
       "      <td>2</td>\n",
       "      <td>1</td>\n",
       "      <td>42</td>\n",
       "      <td>0</td>\n",
       "      <td>0</td>\n",
       "      <td>0</td>\n",
       "      <td>0</td>\n",
       "      <td>0</td>\n",
       "      <td>...</td>\n",
       "      <td>16138.0</td>\n",
       "      <td>17758.0</td>\n",
       "      <td>18774.0</td>\n",
       "      <td>20272.0</td>\n",
       "      <td>5000.0</td>\n",
       "      <td>2000.0</td>\n",
       "      <td>2000.0</td>\n",
       "      <td>2000.0</td>\n",
       "      <td>2000.0</td>\n",
       "      <td>2000.0</td>\n",
       "    </tr>\n",
       "    <tr>\n",
       "      <th>4</th>\n",
       "      <td>150000.0</td>\n",
       "      <td>1</td>\n",
       "      <td>1</td>\n",
       "      <td>2</td>\n",
       "      <td>29</td>\n",
       "      <td>-2</td>\n",
       "      <td>-2</td>\n",
       "      <td>-2</td>\n",
       "      <td>-2</td>\n",
       "      <td>-2</td>\n",
       "      <td>...</td>\n",
       "      <td>831.0</td>\n",
       "      <td>6469.0</td>\n",
       "      <td>5138.0</td>\n",
       "      <td>7810.0</td>\n",
       "      <td>6989.0</td>\n",
       "      <td>833.0</td>\n",
       "      <td>6488.0</td>\n",
       "      <td>5153.0</td>\n",
       "      <td>7833.0</td>\n",
       "      <td>7130.0</td>\n",
       "    </tr>\n",
       "  </tbody>\n",
       "</table>\n",
       "<p>5 rows × 23 columns</p>\n",
       "</div>"
      ],
      "text/plain": [
       "   LIMIT_BAL  SEX  EDUCATION  MARRIAGE  AGE  PAY_0  PAY_2  PAY_3  PAY_4  \\\n",
       "0    20000.0    1          1         2   33      1      2      2      2   \n",
       "1    20000.0    2          2         2   35      0      0      2      0   \n",
       "2   230000.0    2          1         1   44      1     -1     -1     -1   \n",
       "3   100000.0    1          2         1   42      0      0      0      0   \n",
       "4   150000.0    1          1         2   29     -2     -2     -2     -2   \n",
       "\n",
       "   PAY_5    ...     BILL_AMT3  BILL_AMT4  BILL_AMT5  BILL_AMT6  PAY_AMT1  \\\n",
       "0      2    ...       19057.0    18453.0    19755.0    19288.0       0.0   \n",
       "1      0    ...       18600.0    19000.0    19000.0    20000.0    3400.0   \n",
       "2     -1    ...        2864.0      933.0        0.0        0.0     949.0   \n",
       "3      0    ...       16138.0    17758.0    18774.0    20272.0    5000.0   \n",
       "4     -2    ...         831.0     6469.0     5138.0     7810.0    6989.0   \n",
       "\n",
       "   PAY_AMT2  PAY_AMT3  PAY_AMT4  PAY_AMT5  PAY_AMT6  \n",
       "0    2260.0       0.0    1600.0       0.0     644.0  \n",
       "1       0.0    1000.0       0.0    1000.0       0.0  \n",
       "2    2873.0     933.0       0.0       0.0       0.0  \n",
       "3    2000.0    2000.0    2000.0    2000.0    2000.0  \n",
       "4     833.0    6488.0    5153.0    7833.0    7130.0  \n",
       "\n",
       "[5 rows x 23 columns]"
      ]
     },
     "execution_count": 6,
     "metadata": {},
     "output_type": "execute_result"
    }
   ],
   "source": [
    "test.head()"
   ]
  },
  {
   "cell_type": "code",
   "execution_count": 7,
   "metadata": {},
   "outputs": [
    {
     "data": {
      "text/plain": [
       "(3000, 23)"
      ]
     },
     "execution_count": 7,
     "metadata": {},
     "output_type": "execute_result"
    }
   ],
   "source": [
    "test.shape"
   ]
  },
  {
   "cell_type": "code",
   "execution_count": 8,
   "metadata": {},
   "outputs": [
    {
     "name": "stdout",
     "output_type": "stream",
     "text": [
      "count     27000.000000\n",
      "mean     167649.247407\n",
      "std      129646.456604\n",
      "min       10000.000000\n",
      "25%       50000.000000\n",
      "50%      140000.000000\n",
      "75%      240000.000000\n",
      "max      800000.000000\n",
      "Name: LIMIT_BAL, dtype: float64\n",
      "\n",
      "\n",
      "count    27000.000000\n",
      "mean         1.602444\n",
      "std          0.489402\n",
      "min          1.000000\n",
      "25%          1.000000\n",
      "50%          2.000000\n",
      "75%          2.000000\n",
      "max          2.000000\n",
      "Name: SEX, dtype: float64\n",
      "\n",
      "\n",
      "count    27000.000000\n",
      "mean         1.854185\n",
      "std          0.790020\n",
      "min          0.000000\n",
      "25%          1.000000\n",
      "50%          2.000000\n",
      "75%          2.000000\n",
      "max          6.000000\n",
      "Name: EDUCATION, dtype: float64\n",
      "\n",
      "\n",
      "count    27000.000000\n",
      "mean         1.551630\n",
      "std          0.521831\n",
      "min          0.000000\n",
      "25%          1.000000\n",
      "50%          2.000000\n",
      "75%          2.000000\n",
      "max          3.000000\n",
      "Name: MARRIAGE, dtype: float64\n",
      "\n",
      "\n",
      "count    27000.000000\n",
      "mean        35.490778\n",
      "std          9.201953\n",
      "min         21.000000\n",
      "25%         28.000000\n",
      "50%         34.000000\n",
      "75%         41.000000\n",
      "max         79.000000\n",
      "Name: AGE, dtype: float64\n",
      "\n",
      "\n",
      "count    27000.000000\n",
      "mean        -0.013778\n",
      "std          1.126255\n",
      "min         -2.000000\n",
      "25%         -1.000000\n",
      "50%          0.000000\n",
      "75%          0.000000\n",
      "max          8.000000\n",
      "Name: PAY_0, dtype: float64\n",
      "\n",
      "\n",
      "count    27000.000000\n",
      "mean        -0.131333\n",
      "std          1.196936\n",
      "min         -2.000000\n",
      "25%         -1.000000\n",
      "50%          0.000000\n",
      "75%          0.000000\n",
      "max          7.000000\n",
      "Name: PAY_2, dtype: float64\n",
      "\n",
      "\n",
      "count    27000.000000\n",
      "mean        -0.162593\n",
      "std          1.197956\n",
      "min         -2.000000\n",
      "25%         -1.000000\n",
      "50%          0.000000\n",
      "75%          0.000000\n",
      "max          8.000000\n",
      "Name: PAY_3, dtype: float64\n",
      "\n",
      "\n",
      "count    27000.000000\n",
      "mean        -0.217148\n",
      "std          1.170932\n",
      "min         -2.000000\n",
      "25%         -1.000000\n",
      "50%          0.000000\n",
      "75%          0.000000\n",
      "max          8.000000\n",
      "Name: PAY_4, dtype: float64\n",
      "\n",
      "\n",
      "count    27000.000000\n",
      "mean        -0.264741\n",
      "std          1.134785\n",
      "min         -2.000000\n",
      "25%         -1.000000\n",
      "50%          0.000000\n",
      "75%          0.000000\n",
      "max          8.000000\n",
      "Name: PAY_5, dtype: float64\n",
      "\n",
      "\n",
      "count    27000.000000\n",
      "mean        -0.287926\n",
      "std          1.152790\n",
      "min         -2.000000\n",
      "25%         -1.000000\n",
      "50%          0.000000\n",
      "75%          0.000000\n",
      "max          8.000000\n",
      "Name: PAY_6, dtype: float64\n",
      "\n",
      "\n",
      "count     27000.000000\n",
      "mean      51331.579333\n",
      "std       73524.895669\n",
      "min     -165580.000000\n",
      "25%        3580.000000\n",
      "50%       22408.000000\n",
      "75%       67371.750000\n",
      "max      746814.000000\n",
      "Name: BILL_AMT1, dtype: float64\n",
      "\n",
      "\n",
      "count     27000.000000\n",
      "mean      49251.141556\n",
      "std       71021.215459\n",
      "min      -69777.000000\n",
      "25%        2989.750000\n",
      "50%       21216.000000\n",
      "75%       64112.000000\n",
      "max      743970.000000\n",
      "Name: BILL_AMT2, dtype: float64\n",
      "\n",
      "\n",
      "count    2.700000e+04\n",
      "mean     4.718227e+04\n",
      "std      6.957029e+04\n",
      "min     -1.572640e+05\n",
      "25%      2.683500e+03\n",
      "50%      2.011150e+04\n",
      "75%      6.038500e+04\n",
      "max      1.664089e+06\n",
      "Name: BILL_AMT3, dtype: float64\n",
      "\n",
      "\n",
      "count     27000.000000\n",
      "mean      43313.345963\n",
      "std       64220.381445\n",
      "min     -170000.000000\n",
      "25%        2302.500000\n",
      "50%       19078.000000\n",
      "75%       54647.750000\n",
      "max      706864.000000\n",
      "Name: BILL_AMT4, dtype: float64\n",
      "\n",
      "\n",
      "count     27000.000000\n",
      "mean      40403.449667\n",
      "std       60754.862564\n",
      "min      -81334.000000\n",
      "25%        1762.750000\n",
      "50%       18124.000000\n",
      "75%       50321.250000\n",
      "max      823540.000000\n",
      "Name: BILL_AMT5, dtype: float64\n",
      "\n",
      "\n",
      "count     27000.000000\n",
      "mean      38901.138407\n",
      "std       59425.350898\n",
      "min     -339603.000000\n",
      "25%        1244.750000\n",
      "50%       17086.500000\n",
      "75%       49198.250000\n",
      "max      699944.000000\n",
      "Name: BILL_AMT6, dtype: float64\n",
      "\n",
      "\n",
      "count     27000.000000\n",
      "mean       5666.966370\n",
      "std       16563.523051\n",
      "min           0.000000\n",
      "25%        1000.000000\n",
      "50%        2109.500000\n",
      "75%        5011.000000\n",
      "max      873552.000000\n",
      "Name: PAY_AMT1, dtype: float64\n",
      "\n",
      "\n",
      "count    2.700000e+04\n",
      "mean     5.986009e+03\n",
      "std      2.372928e+04\n",
      "min      0.000000e+00\n",
      "25%      8.200000e+02\n",
      "50%      2.010000e+03\n",
      "75%      5.000000e+03\n",
      "max      1.684259e+06\n",
      "Name: PAY_AMT2, dtype: float64\n",
      "\n",
      "\n",
      "count     27000.000000\n",
      "mean       5190.126778\n",
      "std       16861.400630\n",
      "min           0.000000\n",
      "25%         390.000000\n",
      "50%        1800.000000\n",
      "75%        4523.250000\n",
      "max      889043.000000\n",
      "Name: PAY_AMT3, dtype: float64\n",
      "\n",
      "\n",
      "count     27000.000000\n",
      "mean       4830.773222\n",
      "std       15718.072917\n",
      "min           0.000000\n",
      "25%         300.000000\n",
      "50%        1500.000000\n",
      "75%        4018.250000\n",
      "max      621000.000000\n",
      "Name: PAY_AMT4, dtype: float64\n",
      "\n",
      "\n",
      "count     27000.000000\n",
      "mean       4789.847000\n",
      "std       15037.984935\n",
      "min           0.000000\n",
      "25%         248.000000\n",
      "50%        1500.000000\n",
      "75%        4055.000000\n",
      "max      388071.000000\n",
      "Name: PAY_AMT5, dtype: float64\n",
      "\n",
      "\n",
      "count     27000.000000\n",
      "mean       5225.453111\n",
      "std       17851.558621\n",
      "min           0.000000\n",
      "25%         117.750000\n",
      "50%        1500.000000\n",
      "75%        4000.000000\n",
      "max      528666.000000\n",
      "Name: PAY_AMT6, dtype: float64\n",
      "\n",
      "\n",
      "count    27000.000000\n",
      "mean         0.222074\n",
      "std          0.415648\n",
      "min          0.000000\n",
      "25%          0.000000\n",
      "50%          0.000000\n",
      "75%          0.000000\n",
      "max          1.000000\n",
      "Name: default_payment_next_month, dtype: float64\n",
      "\n",
      "\n"
     ]
    }
   ],
   "source": [
    "for i in train.columns:\n",
    "    print(train[i].describe())\n",
    "    print('\\n')"
   ]
  },
  {
   "cell_type": "code",
   "execution_count": 9,
   "metadata": {},
   "outputs": [
    {
     "data": {
      "text/plain": [
       "Index(['LIMIT_BAL', 'SEX', 'EDUCATION', 'MARRIAGE', 'AGE', 'PAY_0', 'PAY_2',\n",
       "       'PAY_3', 'PAY_4', 'PAY_5', 'PAY_6', 'BILL_AMT1', 'BILL_AMT2',\n",
       "       'BILL_AMT3', 'BILL_AMT4', 'BILL_AMT5', 'BILL_AMT6', 'PAY_AMT1',\n",
       "       'PAY_AMT2', 'PAY_AMT3', 'PAY_AMT4', 'PAY_AMT5', 'PAY_AMT6',\n",
       "       'default_payment_next_month'],\n",
       "      dtype='object')"
      ]
     },
     "execution_count": 9,
     "metadata": {},
     "output_type": "execute_result"
    }
   ],
   "source": [
    "train.columns"
   ]
  },
  {
   "cell_type": "code",
   "execution_count": 10,
   "metadata": {},
   "outputs": [
    {
     "data": {
      "text/plain": [
       "Index(['LIMIT_BAL', 'SEX', 'EDUCATION', 'MARRIAGE', 'AGE', 'PAY_0', 'PAY_2',\n",
       "       'PAY_3', 'PAY_4', 'PAY_5', 'PAY_6', 'BILL_AMT1', 'BILL_AMT2',\n",
       "       'BILL_AMT3', 'BILL_AMT4', 'BILL_AMT5', 'BILL_AMT6', 'PAY_AMT1',\n",
       "       'PAY_AMT2', 'PAY_AMT3', 'PAY_AMT4', 'PAY_AMT5', 'PAY_AMT6'],\n",
       "      dtype='object')"
      ]
     },
     "execution_count": 10,
     "metadata": {},
     "output_type": "execute_result"
    }
   ],
   "source": [
    "test.columns"
   ]
  },
  {
   "cell_type": "code",
   "execution_count": 11,
   "metadata": {},
   "outputs": [
    {
     "data": {
      "text/plain": [
       "False"
      ]
     },
     "execution_count": 11,
     "metadata": {},
     "output_type": "execute_result"
    }
   ],
   "source": [
    "#Ci sono missing values?\n",
    "train.isnull().any().any()"
   ]
  },
  {
   "cell_type": "code",
   "execution_count": 12,
   "metadata": {},
   "outputs": [
    {
     "data": {
      "text/plain": [
       "False"
      ]
     },
     "execution_count": 12,
     "metadata": {},
     "output_type": "execute_result"
    }
   ],
   "source": [
    "test.isnull().any().any()"
   ]
  },
  {
   "cell_type": "markdown",
   "metadata": {},
   "source": [
    "Correlation Matrix"
   ]
  },
  {
   "cell_type": "code",
   "execution_count": 13,
   "metadata": {},
   "outputs": [
    {
     "data": {
      "image/png": "[encoded data removed]",
      "text/plain": [
       "<Figure size 864x576 with 2 Axes>"
      ]
     },
     "metadata": {},
     "output_type": "display_data"
    }
   ],
   "source": [
    "x = train.corr()\n",
    "f, ax = plt.subplots(figsize= (12,8))\n",
    "mask = np.zeros_like(x)\n",
    "mask[np.triu_indices_from(mask)] = True\n",
    "with sns.axes_style(\"white\"):\n",
    "    ax = sns.heatmap(x, mask=mask, center = 0, square=True)"
   ]
  },
  {
   "cell_type": "markdown",
   "metadata": {},
   "source": [
    "Vediamo come si distribuiscono i valori del target"
   ]
  },
  {
   "cell_type": "code",
   "execution_count": 14,
   "metadata": {},
   "outputs": [],
   "source": [
    "target_count = train.default_payment_next_month.value_counts()"
   ]
  },
  {
   "cell_type": "code",
   "execution_count": 15,
   "metadata": {
    "scrolled": false
   },
   "outputs": [
    {
     "data": {
      "text/plain": [
       "<matplotlib.axes._subplots.AxesSubplot at 0x1bf07dd8668>"
      ]
     },
     "execution_count": 15,
     "metadata": {},
     "output_type": "execute_result"
    },
    {
     "data": {
      "image/png": "[encoded data removed]",
      "text/plain": [
       "<Figure size 576x432 with 1 Axes>"
      ]
     },
     "metadata": {},
     "output_type": "display_data"
    }
   ],
   "source": [
    "sns.set_style('whitegrid')\n",
    "f, ax = plt.subplots(figsize= (8,6))\n",
    "target_count.plot(kind='bar', title='Count (target)')"
   ]
  },
  {
   "cell_type": "code",
   "execution_count": 16,
   "metadata": {},
   "outputs": [
    {
     "data": {
      "text/plain": [
       "0.22207407407407406"
      ]
     },
     "execution_count": 16,
     "metadata": {},
     "output_type": "execute_result"
    }
   ],
   "source": [
    "target_count[1] / train.shape[0]   #target_count[1] contiene il numero di osservazioni aventi come target la classe positiva (1)"
   ]
  },
  {
   "cell_type": "markdown",
   "metadata": {},
   "source": [
    "## Class imbalance!!!!"
   ]
  },
  {
   "cell_type": "markdown",
   "metadata": {},
   "source": [
    "###### Prima divido il train in train e validation"
   ]
  },
  {
   "cell_type": "code",
   "execution_count": 17,
   "metadata": {},
   "outputs": [],
   "source": [
    "validation = train[-4000:] #prendo le ultime 4000 righe dal train"
   ]
  },
  {
   "cell_type": "code",
   "execution_count": 18,
   "metadata": {},
   "outputs": [
    {
     "data": {
      "text/plain": [
       "(4000, 24)"
      ]
     },
     "execution_count": 18,
     "metadata": {},
     "output_type": "execute_result"
    }
   ],
   "source": [
    "validation.shape"
   ]
  },
  {
   "cell_type": "code",
   "execution_count": 19,
   "metadata": {},
   "outputs": [],
   "source": [
    "train.drop(train.tail(4000).index,inplace=True) #droppo le ultime 4000 righe dal train"
   ]
  },
  {
   "cell_type": "code",
   "execution_count": 20,
   "metadata": {},
   "outputs": [
    {
     "data": {
      "text/plain": [
       "(23000, 24)"
      ]
     },
     "execution_count": 20,
     "metadata": {},
     "output_type": "execute_result"
    }
   ],
   "source": [
    "train.shape"
   ]
  },
  {
   "cell_type": "code",
   "execution_count": 21,
   "metadata": {},
   "outputs": [],
   "source": [
    "target_train = train.default_payment_next_month.values\n",
    "train.drop('default_payment_next_month', axis = 1, inplace = True)"
   ]
  },
  {
   "cell_type": "code",
   "execution_count": 22,
   "metadata": {},
   "outputs": [
    {
     "name": "stderr",
     "output_type": "stream",
     "text": [
      "C:\\Users\\done-\\Anaconda3\\lib\\site-packages\\pandas\\core\\frame.py:3694: SettingWithCopyWarning: \n",
      "A value is trying to be set on a copy of a slice from a DataFrame\n",
      "\n",
      "See the caveats in the documentation: http://pandas.pydata.org/pandas-docs/stable/indexing.html#indexing-view-versus-copy\n",
      "  errors=errors)\n"
     ]
    }
   ],
   "source": [
    "target_validation = validation.default_payment_next_month.values\n",
    "validation.drop('default_payment_next_month', axis = 1, inplace = True)"
   ]
  },
  {
   "cell_type": "code",
   "execution_count": 23,
   "metadata": {},
   "outputs": [
    {
     "data": {
      "text/plain": [
       "(4000,)"
      ]
     },
     "execution_count": 23,
     "metadata": {},
     "output_type": "execute_result"
    }
   ],
   "source": [
    "target_validation.shape"
   ]
  },
  {
   "cell_type": "code",
   "execution_count": 24,
   "metadata": {},
   "outputs": [
    {
     "data": {
      "text/plain": [
       "(4000, 23)"
      ]
     },
     "execution_count": 24,
     "metadata": {},
     "output_type": "execute_result"
    }
   ],
   "source": [
    "validation.shape"
   ]
  },
  {
   "cell_type": "code",
   "execution_count": 25,
   "metadata": {},
   "outputs": [
    {
     "data": {
      "text/plain": [
       "(23000, 23)"
      ]
     },
     "execution_count": 25,
     "metadata": {},
     "output_type": "execute_result"
    }
   ],
   "source": [
    "train.shape"
   ]
  },
  {
   "cell_type": "code",
   "execution_count": 26,
   "metadata": {},
   "outputs": [
    {
     "data": {
      "text/plain": [
       "(23000,)"
      ]
     },
     "execution_count": 26,
     "metadata": {},
     "output_type": "execute_result"
    }
   ],
   "source": [
    "target_train.shape"
   ]
  },
  {
   "cell_type": "markdown",
   "metadata": {},
   "source": [
    "### Class imbalance: si procede con il ricampionamento della classe positiva sul train (oversampling)"
   ]
  },
  {
   "cell_type": "code",
   "execution_count": 27,
   "metadata": {},
   "outputs": [],
   "source": [
    "x_train = pd.DataFrame(train)\n",
    "y_train = pd.DataFrame(target_train)"
   ]
  },
  {
   "cell_type": "code",
   "execution_count": 28,
   "metadata": {},
   "outputs": [],
   "source": [
    "train2 = pd.concat([x_train, y_train], axis = 1)"
   ]
  },
  {
   "cell_type": "code",
   "execution_count": 29,
   "metadata": {
    "scrolled": true
   },
   "outputs": [
    {
     "data": {
      "text/plain": [
       "(23000, 24)"
      ]
     },
     "execution_count": 29,
     "metadata": {},
     "output_type": "execute_result"
    }
   ],
   "source": [
    "train2.shape"
   ]
  },
  {
   "cell_type": "code",
   "execution_count": 30,
   "metadata": {
    "scrolled": true
   },
   "outputs": [],
   "source": [
    "train2.rename(index=str, columns={0: \"default_payment_next_month\"}, inplace = True)"
   ]
  },
  {
   "cell_type": "code",
   "execution_count": 31,
   "metadata": {},
   "outputs": [
    {
     "data": {
      "text/html": [
       "<div>\n",
       "<style scoped>\n",
       "    .dataframe tbody tr th:only-of-type {\n",
       "        vertical-align: middle;\n",
       "    }\n",
       "\n",
       "    .dataframe tbody tr th {\n",
       "        vertical-align: top;\n",
       "    }\n",
       "\n",
       "    .dataframe thead th {\n",
       "        text-align: right;\n",
       "    }\n",
       "</style>\n",
       "<table border=\"1\" class=\"dataframe\">\n",
       "  <thead>\n",
       "    <tr style=\"text-align: right;\">\n",
       "      <th></th>\n",
       "      <th>LIMIT_BAL</th>\n",
       "      <th>SEX</th>\n",
       "      <th>EDUCATION</th>\n",
       "      <th>MARRIAGE</th>\n",
       "      <th>AGE</th>\n",
       "      <th>PAY_0</th>\n",
       "      <th>PAY_2</th>\n",
       "      <th>PAY_3</th>\n",
       "      <th>PAY_4</th>\n",
       "      <th>PAY_5</th>\n",
       "      <th>...</th>\n",
       "      <th>BILL_AMT4</th>\n",
       "      <th>BILL_AMT5</th>\n",
       "      <th>BILL_AMT6</th>\n",
       "      <th>PAY_AMT1</th>\n",
       "      <th>PAY_AMT2</th>\n",
       "      <th>PAY_AMT3</th>\n",
       "      <th>PAY_AMT4</th>\n",
       "      <th>PAY_AMT5</th>\n",
       "      <th>PAY_AMT6</th>\n",
       "      <th>default_payment_next_month</th>\n",
       "    </tr>\n",
       "  </thead>\n",
       "  <tbody>\n",
       "    <tr>\n",
       "      <th>0</th>\n",
       "      <td>200000.0</td>\n",
       "      <td>1</td>\n",
       "      <td>2</td>\n",
       "      <td>2</td>\n",
       "      <td>27</td>\n",
       "      <td>0</td>\n",
       "      <td>0</td>\n",
       "      <td>0</td>\n",
       "      <td>0</td>\n",
       "      <td>0</td>\n",
       "      <td>...</td>\n",
       "      <td>183180.0</td>\n",
       "      <td>192223.0</td>\n",
       "      <td>189681.0</td>\n",
       "      <td>7000.0</td>\n",
       "      <td>8100.0</td>\n",
       "      <td>6600.0</td>\n",
       "      <td>12000.0</td>\n",
       "      <td>0.0</td>\n",
       "      <td>6054.0</td>\n",
       "      <td>1</td>\n",
       "    </tr>\n",
       "    <tr>\n",
       "      <th>1</th>\n",
       "      <td>160000.0</td>\n",
       "      <td>1</td>\n",
       "      <td>5</td>\n",
       "      <td>2</td>\n",
       "      <td>46</td>\n",
       "      <td>0</td>\n",
       "      <td>0</td>\n",
       "      <td>0</td>\n",
       "      <td>0</td>\n",
       "      <td>-2</td>\n",
       "      <td>...</td>\n",
       "      <td>0.0</td>\n",
       "      <td>0.0</td>\n",
       "      <td>0.0</td>\n",
       "      <td>4318.0</td>\n",
       "      <td>4000.0</td>\n",
       "      <td>0.0</td>\n",
       "      <td>0.0</td>\n",
       "      <td>0.0</td>\n",
       "      <td>73175.0</td>\n",
       "      <td>0</td>\n",
       "    </tr>\n",
       "    <tr>\n",
       "      <th>2</th>\n",
       "      <td>130000.0</td>\n",
       "      <td>2</td>\n",
       "      <td>1</td>\n",
       "      <td>2</td>\n",
       "      <td>27</td>\n",
       "      <td>1</td>\n",
       "      <td>-2</td>\n",
       "      <td>-1</td>\n",
       "      <td>0</td>\n",
       "      <td>0</td>\n",
       "      <td>...</td>\n",
       "      <td>29426.0</td>\n",
       "      <td>29100.0</td>\n",
       "      <td>-1410.0</td>\n",
       "      <td>326.0</td>\n",
       "      <td>32100.0</td>\n",
       "      <td>0.0</td>\n",
       "      <td>0.0</td>\n",
       "      <td>0.0</td>\n",
       "      <td>0.0</td>\n",
       "      <td>1</td>\n",
       "    </tr>\n",
       "    <tr>\n",
       "      <th>3</th>\n",
       "      <td>70000.0</td>\n",
       "      <td>1</td>\n",
       "      <td>2</td>\n",
       "      <td>2</td>\n",
       "      <td>26</td>\n",
       "      <td>0</td>\n",
       "      <td>0</td>\n",
       "      <td>0</td>\n",
       "      <td>0</td>\n",
       "      <td>0</td>\n",
       "      <td>...</td>\n",
       "      <td>60540.0</td>\n",
       "      <td>26890.0</td>\n",
       "      <td>18923.0</td>\n",
       "      <td>3000.0</td>\n",
       "      <td>4000.0</td>\n",
       "      <td>2000.0</td>\n",
       "      <td>4030.0</td>\n",
       "      <td>0.0</td>\n",
       "      <td>1000.0</td>\n",
       "      <td>0</td>\n",
       "    </tr>\n",
       "    <tr>\n",
       "      <th>4</th>\n",
       "      <td>330000.0</td>\n",
       "      <td>2</td>\n",
       "      <td>1</td>\n",
       "      <td>1</td>\n",
       "      <td>37</td>\n",
       "      <td>-2</td>\n",
       "      <td>-2</td>\n",
       "      <td>-2</td>\n",
       "      <td>-2</td>\n",
       "      <td>-2</td>\n",
       "      <td>...</td>\n",
       "      <td>0.0</td>\n",
       "      <td>442.0</td>\n",
       "      <td>0.0</td>\n",
       "      <td>0.0</td>\n",
       "      <td>10776.0</td>\n",
       "      <td>0.0</td>\n",
       "      <td>442.0</td>\n",
       "      <td>0.0</td>\n",
       "      <td>297.0</td>\n",
       "      <td>0</td>\n",
       "    </tr>\n",
       "  </tbody>\n",
       "</table>\n",
       "<p>5 rows × 24 columns</p>\n",
       "</div>"
      ],
      "text/plain": [
       "   LIMIT_BAL  SEX  EDUCATION  MARRIAGE  AGE  PAY_0  PAY_2  PAY_3  PAY_4  \\\n",
       "0   200000.0    1          2         2   27      0      0      0      0   \n",
       "1   160000.0    1          5         2   46      0      0      0      0   \n",
       "2   130000.0    2          1         2   27      1     -2     -1      0   \n",
       "3    70000.0    1          2         2   26      0      0      0      0   \n",
       "4   330000.0    2          1         1   37     -2     -2     -2     -2   \n",
       "\n",
       "   PAY_5             ...              BILL_AMT4  BILL_AMT5  BILL_AMT6  \\\n",
       "0      0             ...               183180.0   192223.0   189681.0   \n",
       "1     -2             ...                    0.0        0.0        0.0   \n",
       "2      0             ...                29426.0    29100.0    -1410.0   \n",
       "3      0             ...                60540.0    26890.0    18923.0   \n",
       "4     -2             ...                    0.0      442.0        0.0   \n",
       "\n",
       "   PAY_AMT1  PAY_AMT2  PAY_AMT3  PAY_AMT4  PAY_AMT5  PAY_AMT6  \\\n",
       "0    7000.0    8100.0    6600.0   12000.0       0.0    6054.0   \n",
       "1    4318.0    4000.0       0.0       0.0       0.0   73175.0   \n",
       "2     326.0   32100.0       0.0       0.0       0.0       0.0   \n",
       "3    3000.0    4000.0    2000.0    4030.0       0.0    1000.0   \n",
       "4       0.0   10776.0       0.0     442.0       0.0     297.0   \n",
       "\n",
       "   default_payment_next_month  \n",
       "0                           1  \n",
       "1                           0  \n",
       "2                           1  \n",
       "3                           0  \n",
       "4                           0  \n",
       "\n",
       "[5 rows x 24 columns]"
      ]
     },
     "execution_count": 31,
     "metadata": {},
     "output_type": "execute_result"
    }
   ],
   "source": [
    "train2.head()"
   ]
  },
  {
   "cell_type": "code",
   "execution_count": 32,
   "metadata": {},
   "outputs": [],
   "source": [
    "df = train2.loc[train2['default_payment_next_month'] == 1] #dentro df metto tutte le righe con la classe rara (positiva)\n",
    "train3 = train2[train2.default_payment_next_month != 1]  #Rimuovo dal train le righe prese sopra"
   ]
  },
  {
   "cell_type": "code",
   "execution_count": 33,
   "metadata": {},
   "outputs": [
    {
     "data": {
      "text/plain": [
       "(17909, 24)"
      ]
     },
     "execution_count": 33,
     "metadata": {},
     "output_type": "execute_result"
    }
   ],
   "source": [
    "train3.shape       #dataframe avente come target 0"
   ]
  },
  {
   "cell_type": "code",
   "execution_count": 34,
   "metadata": {
    "scrolled": true
   },
   "outputs": [
    {
     "data": {
      "text/plain": [
       "(5091, 24)"
      ]
     },
     "execution_count": 34,
     "metadata": {},
     "output_type": "execute_result"
    }
   ],
   "source": [
    "df.shape           #dataframe contente solo classe rara"
   ]
  },
  {
   "cell_type": "markdown",
   "metadata": {},
   "source": [
    "###### L'oversampling della classe rara sarà pari al numero di righe della classe negativa (17909)"
   ]
  },
  {
   "cell_type": "code",
   "execution_count": 35,
   "metadata": {},
   "outputs": [],
   "source": [
    "df1 = df.sample(17909, replace = True)   #Eseguo il ricampionamento con replacement"
   ]
  },
  {
   "cell_type": "code",
   "execution_count": 36,
   "metadata": {},
   "outputs": [
    {
     "data": {
      "text/plain": [
       "(17909, 24)"
      ]
     },
     "execution_count": 36,
     "metadata": {},
     "output_type": "execute_result"
    }
   ],
   "source": [
    "df1.shape"
   ]
  },
  {
   "cell_type": "code",
   "execution_count": 37,
   "metadata": {},
   "outputs": [],
   "source": [
    "trainfin = pd.concat([train3, df1], ignore_index= True)"
   ]
  },
  {
   "cell_type": "code",
   "execution_count": 38,
   "metadata": {},
   "outputs": [
    {
     "data": {
      "text/plain": [
       "(35818, 24)"
      ]
     },
     "execution_count": 38,
     "metadata": {},
     "output_type": "execute_result"
    }
   ],
   "source": [
    "trainfin.shape"
   ]
  },
  {
   "cell_type": "markdown",
   "metadata": {},
   "source": [
    "Rimescolo le righe del dataframe"
   ]
  },
  {
   "cell_type": "code",
   "execution_count": 39,
   "metadata": {
    "scrolled": true
   },
   "outputs": [],
   "source": [
    "trainfin = trainfin.sample(frac=1)"
   ]
  },
  {
   "cell_type": "code",
   "execution_count": 40,
   "metadata": {},
   "outputs": [
    {
     "data": {
      "text/html": [
       "<div>\n",
       "<style scoped>\n",
       "    .dataframe tbody tr th:only-of-type {\n",
       "        vertical-align: middle;\n",
       "    }\n",
       "\n",
       "    .dataframe tbody tr th {\n",
       "        vertical-align: top;\n",
       "    }\n",
       "\n",
       "    .dataframe thead th {\n",
       "        text-align: right;\n",
       "    }\n",
       "</style>\n",
       "<table border=\"1\" class=\"dataframe\">\n",
       "  <thead>\n",
       "    <tr style=\"text-align: right;\">\n",
       "      <th></th>\n",
       "      <th>LIMIT_BAL</th>\n",
       "      <th>SEX</th>\n",
       "      <th>EDUCATION</th>\n",
       "      <th>MARRIAGE</th>\n",
       "      <th>AGE</th>\n",
       "      <th>PAY_0</th>\n",
       "      <th>PAY_2</th>\n",
       "      <th>PAY_3</th>\n",
       "      <th>PAY_4</th>\n",
       "      <th>PAY_5</th>\n",
       "      <th>...</th>\n",
       "      <th>BILL_AMT4</th>\n",
       "      <th>BILL_AMT5</th>\n",
       "      <th>BILL_AMT6</th>\n",
       "      <th>PAY_AMT1</th>\n",
       "      <th>PAY_AMT2</th>\n",
       "      <th>PAY_AMT3</th>\n",
       "      <th>PAY_AMT4</th>\n",
       "      <th>PAY_AMT5</th>\n",
       "      <th>PAY_AMT6</th>\n",
       "      <th>default_payment_next_month</th>\n",
       "    </tr>\n",
       "  </thead>\n",
       "  <tbody>\n",
       "    <tr>\n",
       "      <th>16852</th>\n",
       "      <td>30000.0</td>\n",
       "      <td>2</td>\n",
       "      <td>3</td>\n",
       "      <td>1</td>\n",
       "      <td>37</td>\n",
       "      <td>0</td>\n",
       "      <td>0</td>\n",
       "      <td>0</td>\n",
       "      <td>0</td>\n",
       "      <td>0</td>\n",
       "      <td>...</td>\n",
       "      <td>29680.0</td>\n",
       "      <td>29689.0</td>\n",
       "      <td>31050.0</td>\n",
       "      <td>1898.0</td>\n",
       "      <td>2632.0</td>\n",
       "      <td>1000.0</td>\n",
       "      <td>1176.0</td>\n",
       "      <td>830.0</td>\n",
       "      <td>0.0</td>\n",
       "      <td>0</td>\n",
       "    </tr>\n",
       "    <tr>\n",
       "      <th>31485</th>\n",
       "      <td>50000.0</td>\n",
       "      <td>1</td>\n",
       "      <td>2</td>\n",
       "      <td>2</td>\n",
       "      <td>27</td>\n",
       "      <td>0</td>\n",
       "      <td>0</td>\n",
       "      <td>0</td>\n",
       "      <td>0</td>\n",
       "      <td>0</td>\n",
       "      <td>...</td>\n",
       "      <td>20099.0</td>\n",
       "      <td>18682.0</td>\n",
       "      <td>18538.0</td>\n",
       "      <td>2055.0</td>\n",
       "      <td>1935.0</td>\n",
       "      <td>675.0</td>\n",
       "      <td>662.0</td>\n",
       "      <td>650.0</td>\n",
       "      <td>666.0</td>\n",
       "      <td>1</td>\n",
       "    </tr>\n",
       "    <tr>\n",
       "      <th>5771</th>\n",
       "      <td>70000.0</td>\n",
       "      <td>1</td>\n",
       "      <td>1</td>\n",
       "      <td>2</td>\n",
       "      <td>29</td>\n",
       "      <td>1</td>\n",
       "      <td>-1</td>\n",
       "      <td>-1</td>\n",
       "      <td>0</td>\n",
       "      <td>-1</td>\n",
       "      <td>...</td>\n",
       "      <td>13155.0</td>\n",
       "      <td>3929.0</td>\n",
       "      <td>1953.0</td>\n",
       "      <td>6000.0</td>\n",
       "      <td>15000.0</td>\n",
       "      <td>4000.0</td>\n",
       "      <td>4000.0</td>\n",
       "      <td>0.0</td>\n",
       "      <td>1000.0</td>\n",
       "      <td>0</td>\n",
       "    </tr>\n",
       "    <tr>\n",
       "      <th>22849</th>\n",
       "      <td>80000.0</td>\n",
       "      <td>2</td>\n",
       "      <td>2</td>\n",
       "      <td>2</td>\n",
       "      <td>24</td>\n",
       "      <td>0</td>\n",
       "      <td>0</td>\n",
       "      <td>0</td>\n",
       "      <td>0</td>\n",
       "      <td>0</td>\n",
       "      <td>...</td>\n",
       "      <td>79061.0</td>\n",
       "      <td>79834.0</td>\n",
       "      <td>81257.0</td>\n",
       "      <td>5501.0</td>\n",
       "      <td>3450.0</td>\n",
       "      <td>3000.0</td>\n",
       "      <td>3059.0</td>\n",
       "      <td>2915.0</td>\n",
       "      <td>2758.0</td>\n",
       "      <td>1</td>\n",
       "    </tr>\n",
       "    <tr>\n",
       "      <th>2117</th>\n",
       "      <td>50000.0</td>\n",
       "      <td>2</td>\n",
       "      <td>2</td>\n",
       "      <td>2</td>\n",
       "      <td>23</td>\n",
       "      <td>0</td>\n",
       "      <td>0</td>\n",
       "      <td>0</td>\n",
       "      <td>0</td>\n",
       "      <td>0</td>\n",
       "      <td>...</td>\n",
       "      <td>14859.0</td>\n",
       "      <td>9446.0</td>\n",
       "      <td>7246.0</td>\n",
       "      <td>1523.0</td>\n",
       "      <td>1353.0</td>\n",
       "      <td>1017.0</td>\n",
       "      <td>1000.0</td>\n",
       "      <td>1000.0</td>\n",
       "      <td>0.0</td>\n",
       "      <td>0</td>\n",
       "    </tr>\n",
       "  </tbody>\n",
       "</table>\n",
       "<p>5 rows × 24 columns</p>\n",
       "</div>"
      ],
      "text/plain": [
       "       LIMIT_BAL  SEX  EDUCATION  MARRIAGE  AGE  PAY_0  PAY_2  PAY_3  PAY_4  \\\n",
       "16852    30000.0    2          3         1   37      0      0      0      0   \n",
       "31485    50000.0    1          2         2   27      0      0      0      0   \n",
       "5771     70000.0    1          1         2   29      1     -1     -1      0   \n",
       "22849    80000.0    2          2         2   24      0      0      0      0   \n",
       "2117     50000.0    2          2         2   23      0      0      0      0   \n",
       "\n",
       "       PAY_5             ...              BILL_AMT4  BILL_AMT5  BILL_AMT6  \\\n",
       "16852      0             ...                29680.0    29689.0    31050.0   \n",
       "31485      0             ...                20099.0    18682.0    18538.0   \n",
       "5771      -1             ...                13155.0     3929.0     1953.0   \n",
       "22849      0             ...                79061.0    79834.0    81257.0   \n",
       "2117       0             ...                14859.0     9446.0     7246.0   \n",
       "\n",
       "       PAY_AMT1  PAY_AMT2  PAY_AMT3  PAY_AMT4  PAY_AMT5  PAY_AMT6  \\\n",
       "16852    1898.0    2632.0    1000.0    1176.0     830.0       0.0   \n",
       "31485    2055.0    1935.0     675.0     662.0     650.0     666.0   \n",
       "5771     6000.0   15000.0    4000.0    4000.0       0.0    1000.0   \n",
       "22849    5501.0    3450.0    3000.0    3059.0    2915.0    2758.0   \n",
       "2117     1523.0    1353.0    1017.0    1000.0    1000.0       0.0   \n",
       "\n",
       "       default_payment_next_month  \n",
       "16852                           0  \n",
       "31485                           1  \n",
       "5771                            0  \n",
       "22849                           1  \n",
       "2117                            0  \n",
       "\n",
       "[5 rows x 24 columns]"
      ]
     },
     "execution_count": 40,
     "metadata": {},
     "output_type": "execute_result"
    }
   ],
   "source": [
    "trainfin.head()"
   ]
  },
  {
   "cell_type": "code",
   "execution_count": 41,
   "metadata": {},
   "outputs": [
    {
     "data": {
      "text/plain": [
       "(35818, 24)"
      ]
     },
     "execution_count": 41,
     "metadata": {},
     "output_type": "execute_result"
    }
   ],
   "source": [
    "trainfin.shape"
   ]
  },
  {
   "cell_type": "code",
   "execution_count": 42,
   "metadata": {},
   "outputs": [
    {
     "data": {
      "text/plain": [
       "<matplotlib.axes._subplots.AxesSubplot at 0x1bf07b0c160>"
      ]
     },
     "execution_count": 42,
     "metadata": {},
     "output_type": "execute_result"
    },
    {
     "data": {
      "image/png": "[encoded data removed]",
      "text/plain": [
       "<Figure size 576x432 with 1 Axes>"
      ]
     },
     "metadata": {},
     "output_type": "display_data"
    }
   ],
   "source": [
    "f, ax = plt.subplots(figsize= (8,6))\n",
    "target_count = trainfin.default_payment_next_month.value_counts()\n",
    "target_count.plot(kind='bar', title='Count (target)')"
   ]
  },
  {
   "cell_type": "code",
   "execution_count": 43,
   "metadata": {},
   "outputs": [],
   "source": [
    "target_train = trainfin.default_payment_next_month.values\n",
    "trainfin.drop('default_payment_next_month', axis = 1, inplace = True)"
   ]
  },
  {
   "cell_type": "code",
   "execution_count": 44,
   "metadata": {},
   "outputs": [
    {
     "name": "stderr",
     "output_type": "stream",
     "text": [
      "C:\\Users\\done-\\Anaconda3\\lib\\site-packages\\h5py\\__init__.py:36: FutureWarning: Conversion of the second argument of issubdtype from `float` to `np.floating` is deprecated. In future, it will be treated as `np.float64 == np.dtype(float).type`.\n",
      "  from ._conv import register_converters as _register_converters\n",
      "Using TensorFlow backend.\n"
     ]
    }
   ],
   "source": [
    "from keras.utils import np_utils\n",
    "import keras\n",
    "from keras.models import Sequential\n",
    "from keras import layers\n",
    "from keras.layers import Dropout\n",
    "from keras.layers import Flatten\n",
    "from keras.layers import Dense\n",
    "from keras.optimizers import SGD\n",
    "\n",
    "from sklearn import preprocessing\n",
    "from sklearn.preprocessing import LabelEncoder, OneHotEncoder\n",
    "from sklearn import metrics\n",
    "from sklearn.metrics import roc_curve, auc\n",
    "from sklearn.metrics import confusion_matrix, classification_report"
   ]
  },
  {
   "cell_type": "markdown",
   "metadata": {},
   "source": [
    "Si normalizzano i dati"
   ]
  },
  {
   "cell_type": "code",
   "execution_count": 45,
   "metadata": {},
   "outputs": [],
   "source": [
    "df_scaler = preprocessing.MinMaxScaler(feature_range = (0,1))\n",
    "df_scaler.fit(trainfin)\n",
    "trainfin_norm = df_scaler.transform(trainfin)"
   ]
  },
  {
   "cell_type": "code",
   "execution_count": 46,
   "metadata": {},
   "outputs": [],
   "source": [
    "df_scaler.fit(test)\n",
    "test_norm = df_scaler.transform(test)"
   ]
  },
  {
   "cell_type": "code",
   "execution_count": 47,
   "metadata": {},
   "outputs": [],
   "source": [
    "#Normalizzo anche il validation\n",
    "df_scaler.fit(validation)\n",
    "validation_norm = df_scaler.transform(validation)"
   ]
  },
  {
   "cell_type": "markdown",
   "metadata": {},
   "source": [
    "Preparo il target del train"
   ]
  },
  {
   "cell_type": "code",
   "execution_count": 48,
   "metadata": {},
   "outputs": [
    {
     "data": {
      "text/plain": [
       "(35818,)"
      ]
     },
     "execution_count": 48,
     "metadata": {},
     "output_type": "execute_result"
    }
   ],
   "source": [
    "target_train.shape"
   ]
  },
  {
   "cell_type": "code",
   "execution_count": 49,
   "metadata": {},
   "outputs": [
    {
     "data": {
      "text/plain": [
       "array([[0],\n",
       "       [1],\n",
       "       [0],\n",
       "       ...,\n",
       "       [0],\n",
       "       [1],\n",
       "       [1]], dtype=int64)"
      ]
     },
     "execution_count": 49,
     "metadata": {},
     "output_type": "execute_result"
    }
   ],
   "source": [
    "target_train.reshape(35818, 1)"
   ]
  },
  {
   "cell_type": "code",
   "execution_count": 50,
   "metadata": {},
   "outputs": [],
   "source": [
    "y_train = np_utils.to_categorical(target_train)"
   ]
  },
  {
   "cell_type": "code",
   "execution_count": 51,
   "metadata": {},
   "outputs": [
    {
     "data": {
      "text/plain": [
       "array([[1., 0.],\n",
       "       [0., 1.],\n",
       "       [1., 0.],\n",
       "       ...,\n",
       "       [1., 0.],\n",
       "       [0., 1.],\n",
       "       [0., 1.]], dtype=float32)"
      ]
     },
     "execution_count": 51,
     "metadata": {},
     "output_type": "execute_result"
    }
   ],
   "source": [
    "y_train"
   ]
  },
  {
   "cell_type": "markdown",
   "metadata": {},
   "source": [
    "Preparo il target del validation"
   ]
  },
  {
   "cell_type": "code",
   "execution_count": 52,
   "metadata": {},
   "outputs": [
    {
     "data": {
      "text/plain": [
       "(4000,)"
      ]
     },
     "execution_count": 52,
     "metadata": {},
     "output_type": "execute_result"
    }
   ],
   "source": [
    "target_validation.shape"
   ]
  },
  {
   "cell_type": "code",
   "execution_count": 53,
   "metadata": {},
   "outputs": [
    {
     "data": {
      "text/plain": [
       "array([[0],\n",
       "       [0],\n",
       "       [1],\n",
       "       ...,\n",
       "       [0],\n",
       "       [0],\n",
       "       [0]], dtype=int64)"
      ]
     },
     "execution_count": 53,
     "metadata": {},
     "output_type": "execute_result"
    }
   ],
   "source": [
    "target_validation.reshape(4000, 1)"
   ]
  },
  {
   "cell_type": "code",
   "execution_count": 54,
   "metadata": {},
   "outputs": [],
   "source": [
    "y_validation = np_utils.to_categorical(target_validation)"
   ]
  },
  {
   "cell_type": "markdown",
   "metadata": {},
   "source": [
    "Creo la Rete Neaurale"
   ]
  },
  {
   "cell_type": "code",
   "execution_count": 55,
   "metadata": {},
   "outputs": [
    {
     "name": "stdout",
     "output_type": "stream",
     "text": [
      "_________________________________________________________________\n",
      "Layer (type)                 Output Shape              Param #   \n",
      "=================================================================\n",
      "dense_1 (Dense)              (None, 1000)              24000     \n",
      "_________________________________________________________________\n",
      "dense_2 (Dense)              (None, 400)               400400    \n",
      "_________________________________________________________________\n",
      "dropout_1 (Dropout)          (None, 400)               0         \n",
      "_________________________________________________________________\n",
      "dense_3 (Dense)              (None, 100)               40100     \n",
      "_________________________________________________________________\n",
      "dense_4 (Dense)              (None, 90)                9090      \n",
      "_________________________________________________________________\n",
      "dense_5 (Dense)              (None, 80)                7280      \n",
      "_________________________________________________________________\n",
      "dense_6 (Dense)              (None, 60)                4860      \n",
      "_________________________________________________________________\n",
      "dropout_2 (Dropout)          (None, 60)                0         \n",
      "_________________________________________________________________\n",
      "dense_7 (Dense)              (None, 40)                2440      \n",
      "_________________________________________________________________\n",
      "dense_8 (Dense)              (None, 30)                1230      \n",
      "_________________________________________________________________\n",
      "dense_9 (Dense)              (None, 20)                620       \n",
      "_________________________________________________________________\n",
      "dense_10 (Dense)             (None, 10)                210       \n",
      "_________________________________________________________________\n",
      "dense_11 (Dense)             (None, 5)                 55        \n",
      "_________________________________________________________________\n",
      "dense_12 (Dense)             (None, 2)                 12        \n",
      "=================================================================\n",
      "Total params: 490,297\n",
      "Trainable params: 490,297\n",
      "Non-trainable params: 0\n",
      "_________________________________________________________________\n"
     ]
    }
   ],
   "source": [
    "model = Sequential()\n",
    "\n",
    "model.add(Dense(1000, input_dim = trainfin_norm.shape[1], activation = 'relu'))\n",
    "model.add(Dense(400, activation = 'relu'))\n",
    "model.add(Dropout(0.5))\n",
    "model.add(Dense(100, activation = 'relu'))\n",
    "model.add(Dense(90, activation = 'relu'))\n",
    "model.add(Dense(80, activation = 'relu'))\n",
    "model.add(Dense(60, activation = 'relu'))\n",
    "model.add(Dropout(0.25))\n",
    "model.add(Dense(40, activation = 'relu'))\n",
    "model.add(Dense(30, activation = 'relu'))\n",
    "model.add(Dense(20, activation = 'relu'))\n",
    "model.add(Dense(10, activation = 'relu'))\n",
    "model.add(Dense(5, activation = 'relu'))\n",
    "model.add(Dense(2, activation = 'sigmoid'))\n",
    "\n",
    "model.summary()"
   ]
  },
  {
   "cell_type": "code",
   "execution_count": 56,
   "metadata": {},
   "outputs": [],
   "source": [
    "model.compile(loss = 'binary_crossentropy', optimizer = 'adam', metrics = ['accuracy'])"
   ]
  },
  {
   "cell_type": "code",
   "execution_count": 57,
   "metadata": {
    "scrolled": false
   },
   "outputs": [
    {
     "name": "stdout",
     "output_type": "stream",
     "text": [
      "Train on 35818 samples, validate on 4000 samples\n",
      "Epoch 1/50\n",
      "35818/35818 [==============================] - 5s 138us/step - loss: 0.6619 - acc: 0.5812 - val_loss: 4.4440 - val_acc: 0.7234\n",
      "Epoch 2/50\n",
      "35818/35818 [==============================] - 3s 71us/step - loss: 0.6139 - acc: 0.6788 - val_loss: 5.6348 - val_acc: 0.6485\n",
      "Epoch 3/50\n",
      "35818/35818 [==============================] - 3s 71us/step - loss: 0.5858 - acc: 0.7023 - val_loss: 6.9170 - val_acc: 0.5685\n",
      "Epoch 4/50\n",
      "35818/35818 [==============================] - 3s 71us/step - loss: 0.5723 - acc: 0.7067 - val_loss: 5.5570 - val_acc: 0.6531\n",
      "Epoch 5/50\n",
      "35818/35818 [==============================] - 3s 71us/step - loss: 0.5665 - acc: 0.7098 - val_loss: 5.3623 - val_acc: 0.6655\n",
      "Epoch 6/50\n",
      "35818/35818 [==============================] - 3s 72us/step - loss: 0.5632 - acc: 0.7112 - val_loss: 6.8388 - val_acc: 0.5734\n",
      "Epoch 7/50\n",
      "35818/35818 [==============================] - 3s 76us/step - loss: 0.5582 - acc: 0.7140 - val_loss: 4.5288 - val_acc: 0.7175\n",
      "Epoch 8/50\n",
      "35818/35818 [==============================] - 3s 74us/step - loss: 0.5548 - acc: 0.7172 - val_loss: 5.0095 - val_acc: 0.6875\n",
      "Epoch 9/50\n",
      "35818/35818 [==============================] - 3s 72us/step - loss: 0.5524 - acc: 0.7184 - val_loss: 5.5545 - val_acc: 0.6535\n",
      "Epoch 10/50\n",
      "35818/35818 [==============================] - 3s 72us/step - loss: 0.5506 - acc: 0.7176 - val_loss: 5.2459 - val_acc: 0.6728\n",
      "Epoch 11/50\n",
      "35818/35818 [==============================] - 3s 72us/step - loss: 0.5499 - acc: 0.7197 - val_loss: 6.8109 - val_acc: 0.5751\n",
      "Epoch 12/50\n",
      "35818/35818 [==============================] - 3s 72us/step - loss: 0.5479 - acc: 0.7204 - val_loss: 5.2398 - val_acc: 0.6731\n",
      "Epoch 13/50\n",
      "35818/35818 [==============================] - 3s 72us/step - loss: 0.5468 - acc: 0.7232 - val_loss: 5.6707 - val_acc: 0.6463\n",
      "Epoch 14/50\n",
      "35818/35818 [==============================] - 3s 71us/step - loss: 0.5436 - acc: 0.7244 - val_loss: 5.4783 - val_acc: 0.6583\n",
      "Epoch 15/50\n",
      "35818/35818 [==============================] - 3s 72us/step - loss: 0.5398 - acc: 0.7269 - val_loss: 6.5103 - val_acc: 0.5939\n",
      "Epoch 16/50\n",
      "35818/35818 [==============================] - 3s 77us/step - loss: 0.5381 - acc: 0.7293 - val_loss: 5.4102 - val_acc: 0.6625\n",
      "Epoch 17/50\n",
      "35818/35818 [==============================] - 8s 219us/step - loss: 0.5368 - acc: 0.7290 - val_loss: 5.4844 - val_acc: 0.6579\n",
      "Epoch 18/50\n",
      "35818/35818 [==============================] - 4s 101us/step - loss: 0.5352 - acc: 0.7306 - val_loss: 5.5024 - val_acc: 0.6568\n",
      "Epoch 19/50\n",
      "35818/35818 [==============================] - 4s 101us/step - loss: 0.5323 - acc: 0.7293 - val_loss: 5.6446 - val_acc: 0.6479\n",
      "Epoch 20/50\n",
      "35818/35818 [==============================] - 4s 101us/step - loss: 0.5305 - acc: 0.7333 - val_loss: 5.0495 - val_acc: 0.6850\n",
      "Epoch 21/50\n",
      "35818/35818 [==============================] - 4s 102us/step - loss: 0.5284 - acc: 0.7323 - val_loss: 5.4423 - val_acc: 0.6605\n",
      "Epoch 22/50\n",
      "35818/35818 [==============================] - 4s 101us/step - loss: 0.5285 - acc: 0.7326 - val_loss: 6.0354 - val_acc: 0.6235\n",
      "Epoch 23/50\n",
      "35818/35818 [==============================] - 4s 102us/step - loss: 0.5247 - acc: 0.7365 - val_loss: 5.5986 - val_acc: 0.6507\n",
      "Epoch 24/50\n",
      "35818/35818 [==============================] - 4s 101us/step - loss: 0.5212 - acc: 0.7387 - val_loss: 6.6845 - val_acc: 0.5830 0s - loss: 0.5218 - acc: 0.73\n",
      "Epoch 25/50\n",
      "35818/35818 [==============================] - 4s 101us/step - loss: 0.5212 - acc: 0.7389 - val_loss: 5.6647 - val_acc: 0.6466\n",
      "Epoch 26/50\n",
      "35818/35818 [==============================] - 4s 101us/step - loss: 0.5179 - acc: 0.7406 - val_loss: 4.0497 - val_acc: 0.7474\n",
      "Epoch 27/50\n",
      "35818/35818 [==============================] - 4s 101us/step - loss: 0.5173 - acc: 0.7401 - val_loss: 6.2418 - val_acc: 0.6106\n",
      "Epoch 28/50\n",
      "35818/35818 [==============================] - 4s 102us/step - loss: 0.5139 - acc: 0.7429 - val_loss: 7.4540 - val_acc: 0.5350\n",
      "Epoch 29/50\n",
      "35818/35818 [==============================] - 4s 101us/step - loss: 0.5108 - acc: 0.7439 - val_loss: 6.7807 - val_acc: 0.5770\n",
      "Epoch 30/50\n",
      "35818/35818 [==============================] - 4s 102us/step - loss: 0.5088 - acc: 0.7456 - val_loss: 4.3201 - val_acc: 0.7305088 - acc: 0.\n",
      "Epoch 31/50\n",
      "35818/35818 [==============================] - 4s 101us/step - loss: 0.5063 - acc: 0.7472 - val_loss: 4.2982 - val_acc: 0.7319\n",
      "Epoch 32/50\n",
      "35818/35818 [==============================] - 4s 102us/step - loss: 0.5063 - acc: 0.7465 - val_loss: 4.6026 - val_acc: 0.7129\n",
      "Epoch 33/50\n",
      "35818/35818 [==============================] - 4s 101us/step - loss: 0.5009 - acc: 0.7506 - val_loss: 4.2520 - val_acc: 0.7348\n",
      "Epoch 34/50\n",
      "35818/35818 [==============================] - 3s 98us/step - loss: 0.4988 - acc: 0.7519 - val_loss: 4.3642 - val_acc: 0.7277\n",
      "Epoch 35/50\n",
      "35818/35818 [==============================] - 3s 73us/step - loss: 0.4982 - acc: 0.7528 - val_loss: 4.1799 - val_acc: 0.7393\n",
      "Epoch 36/50\n",
      "35818/35818 [==============================] - 3s 73us/step - loss: 0.4929 - acc: 0.7559 - val_loss: 4.7950 - val_acc: 0.7009\n",
      "Epoch 37/50\n",
      "35818/35818 [==============================] - 3s 73us/step - loss: 0.4899 - acc: 0.7574 - val_loss: 4.9914 - val_acc: 0.6886\n",
      "Epoch 38/50\n",
      "35818/35818 [==============================] - 3s 73us/step - loss: 0.4865 - acc: 0.7596 - val_loss: 4.9352 - val_acc: 0.6921\n",
      "Epoch 39/50\n",
      "35818/35818 [==============================] - 3s 73us/step - loss: 0.4882 - acc: 0.7570 - val_loss: 4.6087 - val_acc: 0.7125\n",
      "Epoch 40/50\n",
      "35818/35818 [==============================] - 3s 72us/step - loss: 0.4832 - acc: 0.7618 - val_loss: 4.4624 - val_acc: 0.7216\n",
      "Epoch 41/50\n",
      "35818/35818 [==============================] - 3s 73us/step - loss: 0.4814 - acc: 0.7598 - val_loss: 4.0696 - val_acc: 0.7461\n",
      "Epoch 42/50\n",
      "35818/35818 [==============================] - 3s 72us/step - loss: 0.4775 - acc: 0.7666 - val_loss: 4.6607 - val_acc: 0.7093\n",
      "Epoch 43/50\n",
      "35818/35818 [==============================] - 3s 72us/step - loss: 0.4761 - acc: 0.7654 - val_loss: 4.3922 - val_acc: 0.7260\n",
      "Epoch 44/50\n",
      "35818/35818 [==============================] - 3s 73us/step - loss: 0.4719 - acc: 0.7669 - val_loss: 3.9454 - val_acc: 0.7539\n",
      "Epoch 45/50\n",
      "35818/35818 [==============================] - 3s 73us/step - loss: 0.4717 - acc: 0.7692 - val_loss: 4.9693 - val_acc: 0.6900\n",
      "Epoch 46/50\n",
      "35818/35818 [==============================] - 3s 72us/step - loss: 0.4686 - acc: 0.7708 - val_loss: 4.8090 - val_acc: 0.7000\n",
      "Epoch 47/50\n",
      "35818/35818 [==============================] - 3s 72us/step - loss: 0.4638 - acc: 0.7741 - val_loss: 4.5485 - val_acc: 0.7162\n",
      "Epoch 48/50\n",
      "35818/35818 [==============================] - ETA: 0s - loss: 0.4643 - acc: 0.773 - 3s 72us/step - loss: 0.4642 - acc: 0.7732 - val_loss: 3.8652 - val_acc: 0.7589\n",
      "Epoch 49/50\n",
      "35818/35818 [==============================] - 3s 72us/step - loss: 0.4599 - acc: 0.7776 - val_loss: 3.8292 - val_acc: 0.7611\n",
      "Epoch 50/50\n",
      "35818/35818 [==============================] - 3s 72us/step - loss: 0.4595 - acc: 0.7745 - val_loss: 4.0336 - val_acc: 0.7484\n"
     ]
    }
   ],
   "source": [
    "history = model.fit(trainfin_norm, y_train, batch_size = 256, epochs = 50, verbose = 1, validation_data = (validation, y_validation))"
   ]
  },
  {
   "cell_type": "code",
   "execution_count": 115,
   "metadata": {},
   "outputs": [
    {
     "name": "stdout",
     "output_type": "stream",
     "text": [
      "4000/4000 [==============================] - 1s 140us/step\n"
     ]
    },
    {
     "data": {
      "text/plain": [
       "[4.033598010063171, 0.748375]"
      ]
     },
     "execution_count": 115,
     "metadata": {},
     "output_type": "execute_result"
    }
   ],
   "source": [
    "model.evaluate(validation, y_validation)"
   ]
  },
  {
   "cell_type": "markdown",
   "metadata": {},
   "source": [
    "Si prova una pca dato che fra alcune variabili era presente una forte correlazione (si veda la matrice di correlazione)"
   ]
  },
  {
   "cell_type": "code",
   "execution_count": 58,
   "metadata": {},
   "outputs": [],
   "source": [
    "from sklearn.decomposition import PCA"
   ]
  },
  {
   "cell_type": "code",
   "execution_count": 59,
   "metadata": {},
   "outputs": [],
   "source": [
    "pca = PCA(n_components=10)"
   ]
  },
  {
   "cell_type": "code",
   "execution_count": 60,
   "metadata": {},
   "outputs": [],
   "source": [
    "train10f = pca.fit_transform(trainfin_norm)"
   ]
  },
  {
   "cell_type": "code",
   "execution_count": 61,
   "metadata": {},
   "outputs": [
    {
     "data": {
      "text/plain": [
       "(35818, 10)"
      ]
     },
     "execution_count": 61,
     "metadata": {},
     "output_type": "execute_result"
    }
   ],
   "source": [
    "train10f.shape"
   ]
  },
  {
   "cell_type": "code",
   "execution_count": 62,
   "metadata": {},
   "outputs": [
    {
     "data": {
      "text/plain": [
       "<matplotlib.axes._subplots.AxesSubplot at 0x1bf7ed037b8>"
      ]
     },
     "execution_count": 62,
     "metadata": {},
     "output_type": "execute_result"
    },
    {
     "data": {
      "image/png": "[encoded data removed]",
      "text/plain": [
       "<Figure size 1008x576 with 2 Axes>"
      ]
     },
     "metadata": {},
     "output_type": "display_data"
    }
   ],
   "source": [
    "df = pd.DataFrame(pca.components_, columns = train.columns)\n",
    "plt.figure(figsize=(14, 8))\n",
    "sns.heatmap(df)"
   ]
  },
  {
   "cell_type": "code",
   "execution_count": 63,
   "metadata": {},
   "outputs": [
    {
     "data": {
      "text/plain": [
       "array([0.50288152, 0.16974508, 0.08955892, 0.07510548, 0.03505178,\n",
       "       0.03268105, 0.02542488, 0.02201633, 0.01433682, 0.00986123])"
      ]
     },
     "execution_count": 63,
     "metadata": {},
     "output_type": "execute_result"
    }
   ],
   "source": [
    "pca.explained_variance_ratio_"
   ]
  },
  {
   "cell_type": "code",
   "execution_count": 64,
   "metadata": {},
   "outputs": [],
   "source": [
    "test10f = pca.fit_transform(test_norm)"
   ]
  },
  {
   "cell_type": "code",
   "execution_count": 65,
   "metadata": {},
   "outputs": [
    {
     "data": {
      "text/plain": [
       "(3000, 10)"
      ]
     },
     "execution_count": 65,
     "metadata": {},
     "output_type": "execute_result"
    }
   ],
   "source": [
    "test10f.shape"
   ]
  },
  {
   "cell_type": "code",
   "execution_count": 67,
   "metadata": {},
   "outputs": [],
   "source": [
    "validation10f = pca.fit_transform(validation)"
   ]
  },
  {
   "cell_type": "markdown",
   "metadata": {},
   "source": [
    "Costruisco un nuovo modello e come input do il dataframe sottoposto a pca"
   ]
  },
  {
   "cell_type": "code",
   "execution_count": 68,
   "metadata": {},
   "outputs": [
    {
     "data": {
      "text/plain": [
       "(35818, 10)"
      ]
     },
     "execution_count": 68,
     "metadata": {},
     "output_type": "execute_result"
    }
   ],
   "source": [
    "train10f.shape"
   ]
  },
  {
   "cell_type": "code",
   "execution_count": 72,
   "metadata": {},
   "outputs": [
    {
     "name": "stdout",
     "output_type": "stream",
     "text": [
      "_________________________________________________________________\n",
      "Layer (type)                 Output Shape              Param #   \n",
      "=================================================================\n",
      "dense_25 (Dense)             (None, 1000)              11000     \n",
      "_________________________________________________________________\n",
      "dense_26 (Dense)             (None, 400)               400400    \n",
      "_________________________________________________________________\n",
      "dropout_5 (Dropout)          (None, 400)               0         \n",
      "_________________________________________________________________\n",
      "dense_27 (Dense)             (None, 100)               40100     \n",
      "_________________________________________________________________\n",
      "dense_28 (Dense)             (None, 90)                9090      \n",
      "_________________________________________________________________\n",
      "dense_29 (Dense)             (None, 80)                7280      \n",
      "_________________________________________________________________\n",
      "dense_30 (Dense)             (None, 60)                4860      \n",
      "_________________________________________________________________\n",
      "dropout_6 (Dropout)          (None, 60)                0         \n",
      "_________________________________________________________________\n",
      "dense_31 (Dense)             (None, 40)                2440      \n",
      "_________________________________________________________________\n",
      "dense_32 (Dense)             (None, 30)                1230      \n",
      "_________________________________________________________________\n",
      "dense_33 (Dense)             (None, 20)                620       \n",
      "_________________________________________________________________\n",
      "dense_34 (Dense)             (None, 10)                210       \n",
      "_________________________________________________________________\n",
      "dense_35 (Dense)             (None, 5)                 55        \n",
      "_________________________________________________________________\n",
      "dense_36 (Dense)             (None, 2)                 12        \n",
      "=================================================================\n",
      "Total params: 477,297\n",
      "Trainable params: 477,297\n",
      "Non-trainable params: 0\n",
      "_________________________________________________________________\n"
     ]
    }
   ],
   "source": [
    "model2 = Sequential()\n",
    "\n",
    "model2.add(Dense(1000, input_dim = train10f.shape[1], activation = 'relu'))\n",
    "model2.add(Dense(400, activation = 'relu'))\n",
    "model2.add(Dropout(0.5))\n",
    "model2.add(Dense(100, activation = 'relu'))\n",
    "model2.add(Dense(90, activation = 'relu'))\n",
    "model2.add(Dense(80, activation = 'relu'))\n",
    "model2.add(Dense(60, activation = 'relu'))\n",
    "model2.add(Dropout(0.25))\n",
    "model2.add(Dense(40, activation = 'relu'))\n",
    "model2.add(Dense(30, activation = 'relu'))\n",
    "model2.add(Dense(20, activation = 'relu'))\n",
    "model2.add(Dense(10, activation = 'relu'))\n",
    "model2.add(Dense(5, activation = 'relu'))\n",
    "model2.add(Dense(2, activation = 'sigmoid'))\n",
    "\n",
    "model2.summary()"
   ]
  },
  {
   "cell_type": "code",
   "execution_count": 73,
   "metadata": {},
   "outputs": [],
   "source": [
    "model2.compile(loss = 'binary_crossentropy', optimizer = 'adam', metrics = ['accuracy'])"
   ]
  },
  {
   "cell_type": "code",
   "execution_count": 74,
   "metadata": {
    "scrolled": true
   },
   "outputs": [
    {
     "name": "stdout",
     "output_type": "stream",
     "text": [
      "Train on 35818 samples, validate on 4000 samples\n",
      "Epoch 1/50\n",
      "35818/35818 [==============================] - 4s 104us/step - loss: 0.6169 - acc: 0.6518 - val_loss: 8.1758 - val_acc: 0.4900\n",
      "Epoch 2/50\n",
      "35818/35818 [==============================] - 3s 72us/step - loss: 0.5811 - acc: 0.7024 - val_loss: 10.3842 - val_acc: 0.3521\n",
      "Epoch 3/50\n",
      "35818/35818 [==============================] - 3s 71us/step - loss: 0.5697 - acc: 0.7080 - val_loss: 8.6075 - val_acc: 0.4622\n",
      "Epoch 4/50\n",
      "35818/35818 [==============================] - 3s 71us/step - loss: 0.5646 - acc: 0.7096 - val_loss: 10.1466 - val_acc: 0.3661\n",
      "Epoch 5/50\n",
      "35818/35818 [==============================] - 3s 71us/step - loss: 0.5630 - acc: 0.7101 - val_loss: 9.3709 - val_acc: 0.4154\n",
      "Epoch 6/50\n",
      "35818/35818 [==============================] - 3s 71us/step - loss: 0.5590 - acc: 0.7141 - val_loss: 11.1359 - val_acc: 0.3048\n",
      "Epoch 7/50\n",
      "35818/35818 [==============================] - 3s 72us/step - loss: 0.5561 - acc: 0.7153 - val_loss: 11.6380 - val_acc: 0.2740\n",
      "Epoch 8/50\n",
      "35818/35818 [==============================] - 3s 71us/step - loss: 0.5543 - acc: 0.7148 - val_loss: 10.9768 - val_acc: 0.3153\n",
      "Epoch 9/50\n",
      "35818/35818 [==============================] - 3s 73us/step - loss: 0.5513 - acc: 0.7170 - val_loss: 11.8551 - val_acc: 0.2604\n",
      "Epoch 10/50\n",
      "35818/35818 [==============================] - 3s 75us/step - loss: 0.5482 - acc: 0.7179 - val_loss: 11.6700 - val_acc: 0.2720\n",
      "Epoch 11/50\n",
      "35818/35818 [==============================] - 3s 74us/step - loss: 0.5476 - acc: 0.7205 - val_loss: 11.9666 - val_acc: 0.2535\n",
      "Epoch 12/50\n",
      "35818/35818 [==============================] - 3s 74us/step - loss: 0.5457 - acc: 0.7214 - val_loss: 11.7151 - val_acc: 0.2685\n",
      "Epoch 13/50\n",
      "35818/35818 [==============================] - 3s 74us/step - loss: 0.5420 - acc: 0.7214 - val_loss: 11.4456 - val_acc: 0.2860\n",
      "Epoch 14/50\n",
      "35818/35818 [==============================] - 3s 72us/step - loss: 0.5377 - acc: 0.7235 - val_loss: 11.9105 - val_acc: 0.2570\n",
      "Epoch 15/50\n",
      "35818/35818 [==============================] - 3s 74us/step - loss: 0.5349 - acc: 0.7263 - val_loss: 11.5598 - val_acc: 0.2789\n",
      "Epoch 16/50\n",
      "35818/35818 [==============================] - 3s 72us/step - loss: 0.5336 - acc: 0.7264 - val_loss: 12.0127 - val_acc: 0.2506\n",
      "Epoch 17/50\n",
      "35818/35818 [==============================] - 3s 72us/step - loss: 0.5302 - acc: 0.7273 - val_loss: 11.3875 - val_acc: 0.2896\n",
      "Epoch 18/50\n",
      "35818/35818 [==============================] - 3s 72us/step - loss: 0.5273 - acc: 0.7308 - val_loss: 12.0628 - val_acc: 0.2475\n",
      "Epoch 19/50\n",
      "35818/35818 [==============================] - 3s 72us/step - loss: 0.5219 - acc: 0.7331 - val_loss: 12.1830 - val_acc: 0.2400\n",
      "Epoch 20/50\n",
      "35818/35818 [==============================] - 3s 72us/step - loss: 0.5203 - acc: 0.7350 - val_loss: 11.9465 - val_acc: 0.2547\n",
      "Epoch 21/50\n",
      "35818/35818 [==============================] - 3s 72us/step - loss: 0.5183 - acc: 0.7345 - val_loss: 11.9425 - val_acc: 0.2550\n",
      "Epoch 22/50\n",
      "35818/35818 [==============================] - 3s 72us/step - loss: 0.5150 - acc: 0.7385 - val_loss: 11.8523 - val_acc: 0.2606\n",
      "Epoch 23/50\n",
      "35818/35818 [==============================] - 3s 72us/step - loss: 0.5117 - acc: 0.7387 - val_loss: 12.0988 - val_acc: 0.2453\n",
      "Epoch 24/50\n",
      "35818/35818 [==============================] - 3s 73us/step - loss: 0.5056 - acc: 0.7429 - val_loss: 12.0788 - val_acc: 0.2465\n",
      "Epoch 25/50\n",
      "35818/35818 [==============================] - 3s 73us/step - loss: 0.5030 - acc: 0.7444 - val_loss: 12.2150 - val_acc: 0.2380\n",
      "Epoch 26/50\n",
      "35818/35818 [==============================] - 3s 73us/step - loss: 0.5003 - acc: 0.7475 - val_loss: 12.0707 - val_acc: 0.2470\n",
      "Epoch 27/50\n",
      "35818/35818 [==============================] - 3s 72us/step - loss: 0.4950 - acc: 0.7489 - val_loss: 11.9345 - val_acc: 0.2555\n",
      "Epoch 28/50\n",
      "35818/35818 [==============================] - 3s 72us/step - loss: 0.4929 - acc: 0.7514 - val_loss: 11.4515 - val_acc: 0.2856\n",
      "Epoch 29/50\n",
      "35818/35818 [==============================] - 3s 72us/step - loss: 0.4891 - acc: 0.7554 - val_loss: 11.9165 - val_acc: 0.2566\n",
      "Epoch 30/50\n",
      "35818/35818 [==============================] - 3s 72us/step - loss: 0.4846 - acc: 0.7573 - val_loss: 11.5778 - val_acc: 0.2777\n",
      "Epoch 31/50\n",
      "35818/35818 [==============================] - 3s 72us/step - loss: 0.4830 - acc: 0.7591 - val_loss: 11.5669 - val_acc: 0.2784\n",
      "Epoch 32/50\n",
      "35818/35818 [==============================] - 3s 72us/step - loss: 0.4789 - acc: 0.7628 - val_loss: 11.6659 - val_acc: 0.2722\n",
      "Epoch 33/50\n",
      "35818/35818 [==============================] - 3s 72us/step - loss: 0.4748 - acc: 0.7643 - val_loss: 11.6349 - val_acc: 0.2741\n",
      "Epoch 34/50\n",
      "35818/35818 [==============================] - 3s 72us/step - loss: 0.4700 - acc: 0.7683 - val_loss: 11.6479 - val_acc: 0.2734\n",
      "Epoch 35/50\n",
      "35818/35818 [==============================] - 3s 72us/step - loss: 0.4641 - acc: 0.7697 - val_loss: 11.6045 - val_acc: 0.2760\n",
      "Epoch 36/50\n",
      "35818/35818 [==============================] - 3s 72us/step - loss: 0.4633 - acc: 0.7692 - val_loss: 11.6759 - val_acc: 0.2716\n",
      "Epoch 37/50\n",
      "35818/35818 [==============================] - 3s 72us/step - loss: 0.4583 - acc: 0.7759 - val_loss: 11.3914 - val_acc: 0.289458\n",
      "Epoch 38/50\n",
      "35818/35818 [==============================] - 3s 72us/step - loss: 0.4550 - acc: 0.7738 - val_loss: 10.9926 - val_acc: 0.3142\n",
      "Epoch 39/50\n",
      "35818/35818 [==============================] - 3s 72us/step - loss: 0.4520 - acc: 0.7750 - val_loss: 11.3393 - val_acc: 0.2926\n",
      "Epoch 40/50\n",
      "35818/35818 [==============================] - 3s 72us/step - loss: 0.4481 - acc: 0.7813 - val_loss: 11.1603 - val_acc: 0.3037\n",
      "Epoch 41/50\n",
      "35818/35818 [==============================] - 3s 72us/step - loss: 0.4439 - acc: 0.7821 - val_loss: 11.4255 - val_acc: 0.2873\n",
      "Epoch 42/50\n",
      "35818/35818 [==============================] - 3s 72us/step - loss: 0.4390 - acc: 0.7862 - val_loss: 11.1089 - val_acc: 0.3070\n",
      "Epoch 43/50\n",
      "35818/35818 [==============================] - 3s 72us/step - loss: 0.4359 - acc: 0.7871 - val_loss: 11.3393 - val_acc: 0.2926\n",
      "Epoch 44/50\n",
      "35818/35818 [==============================] - 3s 72us/step - loss: 0.4294 - acc: 0.7897 - val_loss: 11.1690 - val_acc: 0.3033\n",
      "Epoch 45/50\n",
      "35818/35818 [==============================] - 3s 72us/step - loss: 0.4298 - acc: 0.7925 - val_loss: 11.2807 - val_acc: 0.2963\n",
      "Epoch 46/50\n",
      "35818/35818 [==============================] - 3s 73us/step - loss: 0.4254 - acc: 0.7929 - val_loss: 11.0715 - val_acc: 0.3093\n",
      "Epoch 47/50\n",
      "35818/35818 [==============================] - 3s 73us/step - loss: 0.4232 - acc: 0.7954 - val_loss: 10.7764 - val_acc: 0.3276\n",
      "Epoch 48/50\n",
      "35818/35818 [==============================] - 3s 72us/step - loss: 0.4167 - acc: 0.7966 - val_loss: 10.9125 - val_acc: 0.3192\n",
      "Epoch 49/50\n",
      "35818/35818 [==============================] - 3s 73us/step - loss: 0.4153 - acc: 0.7979 - val_loss: 10.8402 - val_acc: 0.3237\n",
      "Epoch 50/50\n",
      "35818/35818 [==============================] - 3s 72us/step - loss: 0.4113 - acc: 0.8004 - val_loss: 11.1690 - val_acc: 0.3033\n"
     ]
    }
   ],
   "source": [
    "history2 = model2.fit(train10f, y_train, batch_size = 256, epochs = 50, verbose = 1, validation_data = (validation10f, y_validation))"
   ]
  },
  {
   "cell_type": "code",
   "execution_count": 116,
   "metadata": {},
   "outputs": [
    {
     "name": "stdout",
     "output_type": "stream",
     "text": [
      "4000/4000 [==============================] - 1s 132us/step\n"
     ]
    },
    {
     "data": {
      "text/plain": [
       "[11.169047172546387, 0.30325]"
      ]
     },
     "execution_count": 116,
     "metadata": {},
     "output_type": "execute_result"
    }
   ],
   "source": [
    "model2.evaluate(validation10f, y_validation)"
   ]
  },
  {
   "cell_type": "markdown",
   "metadata": {},
   "source": [
    "##### Comparazione accuracy dei 2 modelli"
   ]
  },
  {
   "cell_type": "code",
   "execution_count": 75,
   "metadata": {},
   "outputs": [
    {
     "data": {
      "image/png": "[encoded data removed]",
      "text/plain": [
       "<Figure size 864x576 with 1 Axes>"
      ]
     },
     "metadata": {},
     "output_type": "display_data"
    }
   ],
   "source": [
    "# Plot training & validation accuracy values\n",
    "sns.set_style(\"whitegrid\")\n",
    "f, ax = plt.subplots(figsize= (12,8))\n",
    "\n",
    "plt.plot(history.history['acc'])\n",
    "plt.plot(history.history['val_acc'])\n",
    "plt.title('Model accuracy')\n",
    "plt.plot(history2.history['acc'])\n",
    "plt.plot(history2.history['val_acc'])\n",
    "plt.title('Model accuracy on 50 epochs')\n",
    "plt.ylabel('Accuracy')\n",
    "plt.xlabel('Epoch')\n",
    "plt.legend(['Train', 'Validation', 'Train 10 features', 'Validation 10 features'], loc='lower right')\n",
    "plt.show()"
   ]
  },
  {
   "cell_type": "markdown",
   "metadata": {},
   "source": [
    "La PCA non sembra la strada migliore, soprattutto per i risultati sul validation"
   ]
  },
  {
   "cell_type": "markdown",
   "metadata": {},
   "source": [
    "Si visualizzano andamento di accuracy e loss nelle 50 epoche del modello che ha in input tutte le features"
   ]
  },
  {
   "cell_type": "code",
   "execution_count": 76,
   "metadata": {},
   "outputs": [
    {
     "data": {
      "image/png": "[encoded data removed]",
      "text/plain": [
       "<Figure size 432x288 with 1 Axes>"
      ]
     },
     "metadata": {},
     "output_type": "display_data"
    },
    {
     "data": {
      "image/png": "[encoded data removed]",
      "text/plain": [
       "<Figure size 432x288 with 1 Axes>"
      ]
     },
     "metadata": {},
     "output_type": "display_data"
    }
   ],
   "source": [
    "# Plot training & validation accuracy values\n",
    "plt.plot(history.history['acc'])\n",
    "plt.plot(history.history['val_acc'])\n",
    "plt.title('Model accuracy')\n",
    "plt.ylabel('Accuracy')\n",
    "plt.xlabel('Epoch')\n",
    "plt.legend(['Train', 'Test'], loc='upper left')\n",
    "plt.show()\n",
    "\n",
    "# Plot training & validation loss values\n",
    "plt.plot(history.history['loss'])\n",
    "plt.plot(history.history['val_loss'])\n",
    "plt.title('Model loss')\n",
    "plt.ylabel('Loss')\n",
    "plt.xlabel('Epoch')\n",
    "plt.legend(['Train', 'Test'], loc='upper left')\n",
    "plt.show()"
   ]
  },
  {
   "cell_type": "markdown",
   "metadata": {},
   "source": [
    "-----------------------------------------------------------------"
   ]
  },
  {
   "cell_type": "markdown",
   "metadata": {},
   "source": [
    "### Si procede ora addestrando il modello dando in input tutto il train "
   ]
  },
  {
   "cell_type": "markdown",
   "metadata": {},
   "source": [
    "Rieseguo la lettura e manipolazione del dataframe in quanto troppo rimaneggiato durante la divisione in test e validation"
   ]
  },
  {
   "cell_type": "code",
   "execution_count": 79,
   "metadata": {},
   "outputs": [],
   "source": [
    "#Ricarico il train, dato che ha subito molteplici manipolazioni\n",
    "train = pd.read_csv('D:/uni/SECONDO ANNO/ADVANCE MACHINE LEARNING/Assignment/training_data.csv')"
   ]
  },
  {
   "cell_type": "code",
   "execution_count": 82,
   "metadata": {},
   "outputs": [],
   "source": [
    "#Ora effettuo un over sampling di tutto il train\n",
    "train.rename(index=str, columns={'default.payment.next.month': \"default_payment_next_month\"}, inplace = True)\n",
    "df = train.loc[train['default_payment_next_month'] == 1] #dentro df metto tutte le righe con la classe rara (positiva)\n",
    "train = train[train.default_payment_next_month != 1] "
   ]
  },
  {
   "cell_type": "code",
   "execution_count": 85,
   "metadata": {},
   "outputs": [
    {
     "data": {
      "text/plain": [
       "(21004, 24)"
      ]
     },
     "execution_count": 85,
     "metadata": {},
     "output_type": "execute_result"
    }
   ],
   "source": [
    "train.shape"
   ]
  },
  {
   "cell_type": "code",
   "execution_count": 86,
   "metadata": {},
   "outputs": [],
   "source": [
    "df1 = df.sample(21004, replace = True) "
   ]
  },
  {
   "cell_type": "code",
   "execution_count": 87,
   "metadata": {},
   "outputs": [],
   "source": [
    "train = pd.concat([train, df1], ignore_index= True)"
   ]
  },
  {
   "cell_type": "code",
   "execution_count": 88,
   "metadata": {},
   "outputs": [
    {
     "data": {
      "text/plain": [
       "(42008, 24)"
      ]
     },
     "execution_count": 88,
     "metadata": {},
     "output_type": "execute_result"
    }
   ],
   "source": [
    "train.shape"
   ]
  },
  {
   "cell_type": "code",
   "execution_count": 89,
   "metadata": {},
   "outputs": [],
   "source": [
    "train = train.sample(frac=1)"
   ]
  },
  {
   "cell_type": "code",
   "execution_count": 92,
   "metadata": {},
   "outputs": [],
   "source": [
    "target_train = train.default_payment_next_month.values"
   ]
  },
  {
   "cell_type": "code",
   "execution_count": 93,
   "metadata": {},
   "outputs": [],
   "source": [
    "train.drop('default_payment_next_month', axis = 1, inplace = True)"
   ]
  },
  {
   "cell_type": "code",
   "execution_count": 95,
   "metadata": {},
   "outputs": [],
   "source": [
    "df_scaler.fit(train)\n",
    "train = df_scaler.transform(train)"
   ]
  },
  {
   "cell_type": "code",
   "execution_count": 98,
   "metadata": {},
   "outputs": [],
   "source": [
    "df_scaler.fit(test)\n",
    "test = df_scaler.transform(test)"
   ]
  },
  {
   "cell_type": "code",
   "execution_count": 100,
   "metadata": {},
   "outputs": [
    {
     "data": {
      "text/plain": [
       "(42008, 23)"
      ]
     },
     "execution_count": 100,
     "metadata": {},
     "output_type": "execute_result"
    }
   ],
   "source": [
    "#preparo il target del train\n",
    "train.shape"
   ]
  },
  {
   "cell_type": "code",
   "execution_count": 102,
   "metadata": {},
   "outputs": [
    {
     "data": {
      "text/plain": [
       "(42008,)"
      ]
     },
     "execution_count": 102,
     "metadata": {},
     "output_type": "execute_result"
    }
   ],
   "source": [
    "target_train.shape"
   ]
  },
  {
   "cell_type": "code",
   "execution_count": 103,
   "metadata": {},
   "outputs": [
    {
     "data": {
      "text/plain": [
       "array([[1],\n",
       "       [0],\n",
       "       [1],\n",
       "       ...,\n",
       "       [0],\n",
       "       [1],\n",
       "       [1]], dtype=int64)"
      ]
     },
     "execution_count": 103,
     "metadata": {},
     "output_type": "execute_result"
    }
   ],
   "source": [
    "target_train.reshape(42008, 1)"
   ]
  },
  {
   "cell_type": "code",
   "execution_count": 104,
   "metadata": {},
   "outputs": [],
   "source": [
    "y_train = np_utils.to_categorical(target_train)"
   ]
  },
  {
   "cell_type": "code",
   "execution_count": 105,
   "metadata": {},
   "outputs": [
    {
     "data": {
      "text/plain": [
       "array([[0., 1.],\n",
       "       [1., 0.],\n",
       "       [0., 1.],\n",
       "       ...,\n",
       "       [1., 0.],\n",
       "       [0., 1.],\n",
       "       [0., 1.]], dtype=float32)"
      ]
     },
     "execution_count": 105,
     "metadata": {},
     "output_type": "execute_result"
    }
   ],
   "source": [
    "y_train"
   ]
  },
  {
   "cell_type": "code",
   "execution_count": 111,
   "metadata": {},
   "outputs": [
    {
     "name": "stdout",
     "output_type": "stream",
     "text": [
      "_________________________________________________________________\n",
      "Layer (type)                 Output Shape              Param #   \n",
      "=================================================================\n",
      "dense_61 (Dense)             (None, 1000)              24000     \n",
      "_________________________________________________________________\n",
      "dense_62 (Dense)             (None, 400)               400400    \n",
      "_________________________________________________________________\n",
      "dropout_11 (Dropout)         (None, 400)               0         \n",
      "_________________________________________________________________\n",
      "dense_63 (Dense)             (None, 100)               40100     \n",
      "_________________________________________________________________\n",
      "dense_64 (Dense)             (None, 90)                9090      \n",
      "_________________________________________________________________\n",
      "dense_65 (Dense)             (None, 80)                7280      \n",
      "_________________________________________________________________\n",
      "dense_66 (Dense)             (None, 60)                4860      \n",
      "_________________________________________________________________\n",
      "dropout_12 (Dropout)         (None, 60)                0         \n",
      "_________________________________________________________________\n",
      "dense_67 (Dense)             (None, 40)                2440      \n",
      "_________________________________________________________________\n",
      "dense_68 (Dense)             (None, 30)                1230      \n",
      "_________________________________________________________________\n",
      "dense_69 (Dense)             (None, 20)                620       \n",
      "_________________________________________________________________\n",
      "dense_70 (Dense)             (None, 10)                210       \n",
      "_________________________________________________________________\n",
      "dense_71 (Dense)             (None, 5)                 55        \n",
      "_________________________________________________________________\n",
      "dense_72 (Dense)             (None, 2)                 12        \n",
      "=================================================================\n",
      "Total params: 490,297\n",
      "Trainable params: 490,297\n",
      "Non-trainable params: 0\n",
      "_________________________________________________________________\n"
     ]
    }
   ],
   "source": [
    "#Modello\n",
    "model3 = Sequential()\n",
    "\n",
    "model3.add(Dense(1000, input_dim = train.shape[1], activation = 'relu'))\n",
    "model3.add(Dense(400, activation = 'relu'))\n",
    "model3.add(Dropout(0.5))\n",
    "model3.add(Dense(100, activation = 'relu'))\n",
    "model3.add(Dense(90, activation = 'relu'))\n",
    "model3.add(Dense(80, activation = 'relu'))\n",
    "model3.add(Dense(60, activation = 'relu'))\n",
    "model3.add(Dropout(0.25))\n",
    "model3.add(Dense(40, activation = 'relu'))\n",
    "model3.add(Dense(30, activation = 'relu'))\n",
    "model3.add(Dense(20, activation = 'relu'))\n",
    "model3.add(Dense(10, activation = 'relu'))\n",
    "model3.add(Dense(5, activation = 'relu'))\n",
    "model3.add(Dense(2, activation = 'sigmoid'))\n",
    "\n",
    "model3.summary()"
   ]
  },
  {
   "cell_type": "code",
   "execution_count": 112,
   "metadata": {},
   "outputs": [],
   "source": [
    "model3.compile(loss = 'binary_crossentropy', optimizer = 'adam', metrics = ['accuracy'])"
   ]
  },
  {
   "cell_type": "code",
   "execution_count": 114,
   "metadata": {},
   "outputs": [
    {
     "name": "stdout",
     "output_type": "stream",
     "text": [
      "Train on 37807 samples, validate on 4201 samples\n",
      "Epoch 1/50\n",
      "37807/37807 [==============================] - 4s 108us/step - loss: 0.6358 - acc: 0.6515 - val_loss: 0.6135 - val_acc: 0.6810\n",
      "Epoch 2/50\n",
      "37807/37807 [==============================] - 3s 72us/step - loss: 0.6097 - acc: 0.6851 - val_loss: 0.6076 - val_acc: 0.6833\n",
      "Epoch 3/50\n",
      "37807/37807 [==============================] - 3s 72us/step - loss: 0.5984 - acc: 0.6941 - val_loss: 0.5965 - val_acc: 0.6895\n",
      "Epoch 4/50\n",
      "37807/37807 [==============================] - 3s 72us/step - loss: 0.5932 - acc: 0.6951 - val_loss: 0.5938 - val_acc: 0.6945\n",
      "Epoch 5/50\n",
      "37807/37807 [==============================] - 3s 72us/step - loss: 0.5893 - acc: 0.6999 - val_loss: 0.5921 - val_acc: 0.6896\n",
      "Epoch 6/50\n",
      "37807/37807 [==============================] - 3s 73us/step - loss: 0.5862 - acc: 0.7000 - val_loss: 0.5879 - val_acc: 0.6922\n",
      "Epoch 7/50\n",
      "37807/37807 [==============================] - 3s 72us/step - loss: 0.5848 - acc: 0.7029 - val_loss: 0.5881 - val_acc: 0.6930\n",
      "Epoch 8/50\n",
      "37807/37807 [==============================] - 3s 72us/step - loss: 0.5827 - acc: 0.7050 - val_loss: 0.5869 - val_acc: 0.6973\n",
      "Epoch 9/50\n",
      "37807/37807 [==============================] - 3s 73us/step - loss: 0.5794 - acc: 0.7065 - val_loss: 0.5811 - val_acc: 0.7041\n",
      "Epoch 10/50\n",
      "37807/37807 [==============================] - 3s 74us/step - loss: 0.5769 - acc: 0.7065 - val_loss: 0.5879 - val_acc: 0.6839\n",
      "Epoch 11/50\n",
      "37807/37807 [==============================] - 3s 73us/step - loss: 0.5770 - acc: 0.7059 - val_loss: 0.5800 - val_acc: 0.7000\n",
      "Epoch 12/50\n",
      "37807/37807 [==============================] - 3s 72us/step - loss: 0.5735 - acc: 0.7086 - val_loss: 0.5771 - val_acc: 0.7040\n",
      "Epoch 13/50\n",
      "37807/37807 [==============================] - 3s 73us/step - loss: 0.5736 - acc: 0.7065 - val_loss: 0.5841 - val_acc: 0.6990\n",
      "Epoch 14/50\n",
      "37807/37807 [==============================] - 3s 73us/step - loss: 0.5712 - acc: 0.7079 - val_loss: 0.5711 - val_acc: 0.7023\n",
      "Epoch 15/50\n",
      "37807/37807 [==============================] - 3s 74us/step - loss: 0.5666 - acc: 0.7115 - val_loss: 0.5725 - val_acc: 0.7013\n",
      "Epoch 16/50\n",
      "37807/37807 [==============================] - 3s 79us/step - loss: 0.5636 - acc: 0.7110 - val_loss: 0.5784 - val_acc: 0.7014\n",
      "Epoch 17/50\n",
      "37807/37807 [==============================] - 3s 75us/step - loss: 0.5592 - acc: 0.7127 - val_loss: 0.5707 - val_acc: 0.7004\n",
      "Epoch 18/50\n",
      "37807/37807 [==============================] - 3s 73us/step - loss: 0.5568 - acc: 0.7128 - val_loss: 0.5605 - val_acc: 0.7057\n",
      "Epoch 19/50\n",
      "37807/37807 [==============================] - 3s 77us/step - loss: 0.5535 - acc: 0.7159 - val_loss: 0.5546 - val_acc: 0.7030\n",
      "Epoch 20/50\n",
      "37807/37807 [==============================] - 3s 73us/step - loss: 0.5508 - acc: 0.7184 - val_loss: 0.5566 - val_acc: 0.7095\n",
      "Epoch 21/50\n",
      "37807/37807 [==============================] - 3s 73us/step - loss: 0.5492 - acc: 0.7203 - val_loss: 0.5590 - val_acc: 0.7129\n",
      "Epoch 22/50\n",
      "37807/37807 [==============================] - 3s 77us/step - loss: 0.5480 - acc: 0.7178 - val_loss: 0.5556 - val_acc: 0.7082\n",
      "Epoch 23/50\n",
      "37807/37807 [==============================] - 3s 75us/step - loss: 0.5468 - acc: 0.7207 - val_loss: 0.5511 - val_acc: 0.7104\n",
      "Epoch 24/50\n",
      "37807/37807 [==============================] - 3s 78us/step - loss: 0.5443 - acc: 0.7215 - val_loss: 0.5490 - val_acc: 0.7129\n",
      "Epoch 25/50\n",
      "37807/37807 [==============================] - 3s 75us/step - loss: 0.5405 - acc: 0.7244 - val_loss: 0.5469 - val_acc: 0.7124\n",
      "Epoch 26/50\n",
      "37807/37807 [==============================] - 3s 79us/step - loss: 0.5401 - acc: 0.7266 - val_loss: 0.5479 - val_acc: 0.7107\n",
      "Epoch 27/50\n",
      "37807/37807 [==============================] - 3s 74us/step - loss: 0.5372 - acc: 0.7269 - val_loss: 0.5455 - val_acc: 0.7190\n",
      "Epoch 28/50\n",
      "37807/37807 [==============================] - 3s 74us/step - loss: 0.5353 - acc: 0.7274 - val_loss: 0.5497 - val_acc: 0.7123\n",
      "Epoch 29/50\n",
      "37807/37807 [==============================] - 3s 72us/step - loss: 0.5339 - acc: 0.7278 - val_loss: 0.5491 - val_acc: 0.7154\n",
      "Epoch 30/50\n",
      "37807/37807 [==============================] - 3s 72us/step - loss: 0.5334 - acc: 0.7296 - val_loss: 0.5457 - val_acc: 0.7179\n",
      "Epoch 31/50\n",
      "37807/37807 [==============================] - 3s 73us/step - loss: 0.5320 - acc: 0.7299 - val_loss: 0.5459 - val_acc: 0.7127\n",
      "Epoch 32/50\n",
      "37807/37807 [==============================] - 3s 77us/step - loss: 0.5278 - acc: 0.7307 - val_loss: 0.5426 - val_acc: 0.7249\n",
      "Epoch 33/50\n",
      "37807/37807 [==============================] - 3s 74us/step - loss: 0.5271 - acc: 0.7304 - val_loss: 0.5456 - val_acc: 0.7169\n",
      "Epoch 34/50\n",
      "37807/37807 [==============================] - 3s 78us/step - loss: 0.5265 - acc: 0.7300 - val_loss: 0.5368 - val_acc: 0.7219\n",
      "Epoch 35/50\n",
      "37807/37807 [==============================] - 3s 73us/step - loss: 0.5239 - acc: 0.7332 - val_loss: 0.5394 - val_acc: 0.7159\n",
      "Epoch 36/50\n",
      "37807/37807 [==============================] - 3s 72us/step - loss: 0.5219 - acc: 0.7363 - val_loss: 0.5365 - val_acc: 0.7217\n",
      "Epoch 37/50\n",
      "37807/37807 [==============================] - 3s 74us/step - loss: 0.5202 - acc: 0.7366 - val_loss: 0.5415 - val_acc: 0.7166\n",
      "Epoch 38/50\n",
      "37807/37807 [==============================] - 3s 79us/step - loss: 0.5197 - acc: 0.7360 - val_loss: 0.5355 - val_acc: 0.7224\n",
      "Epoch 39/50\n",
      "37807/37807 [==============================] - 3s 74us/step - loss: 0.5187 - acc: 0.7363 - val_loss: 0.5280 - val_acc: 0.7232\n",
      "Epoch 40/50\n",
      "37807/37807 [==============================] - 3s 73us/step - loss: 0.5144 - acc: 0.7391 - val_loss: 0.5298 - val_acc: 0.7278\n",
      "Epoch 41/50\n",
      "37807/37807 [==============================] - 3s 74us/step - loss: 0.5130 - acc: 0.7414 - val_loss: 0.5291 - val_acc: 0.7292ss\n",
      "Epoch 42/50\n",
      "37807/37807 [==============================] - 3s 77us/step - loss: 0.5094 - acc: 0.7413 - val_loss: 0.5286 - val_acc: 0.7315\n",
      "Epoch 43/50\n",
      "37807/37807 [==============================] - 3s 76us/step - loss: 0.5106 - acc: 0.7432 - val_loss: 0.5305 - val_acc: 0.7304\n",
      "Epoch 44/50\n",
      "37807/37807 [==============================] - 3s 78us/step - loss: 0.5062 - acc: 0.7451 - val_loss: 0.5298 - val_acc: 0.7313\n",
      "Epoch 45/50\n",
      "37807/37807 [==============================] - 3s 81us/step - loss: 0.5050 - acc: 0.7467 - val_loss: 0.5248 - val_acc: 0.7299\n",
      "Epoch 46/50\n",
      "37807/37807 [==============================] - 3s 79us/step - loss: 0.5042 - acc: 0.7461 - val_loss: 0.5237 - val_acc: 0.7264\n",
      "Epoch 47/50\n",
      "37807/37807 [==============================] - 3s 82us/step - loss: 0.5045 - acc: 0.7455 - val_loss: 0.5251 - val_acc: 0.7273\n",
      "Epoch 48/50\n",
      "37807/37807 [==============================] - 3s 82us/step - loss: 0.4995 - acc: 0.7500 - val_loss: 0.5229 - val_acc: 0.7255\n",
      "Epoch 49/50\n",
      "37807/37807 [==============================] - 3s 76us/step - loss: 0.4977 - acc: 0.7508 - val_loss: 0.5221 - val_acc: 0.7307\n",
      "Epoch 50/50\n",
      "37807/37807 [==============================] - 3s 80us/step - loss: 0.4958 - acc: 0.7512 - val_loss: 0.5177 - val_acc: 0.7338\n"
     ]
    }
   ],
   "source": [
    "history3 = model3.fit(train, y_train, batch_size = 256, epochs = 50, verbose = 1, validation_split = 0.1)"
   ]
  },
  {
   "cell_type": "code",
   "execution_count": 117,
   "metadata": {},
   "outputs": [
    {
     "data": {
      "image/png": "[encoded data removed]",
      "text/plain": [
       "<Figure size 432x288 with 1 Axes>"
      ]
     },
     "metadata": {},
     "output_type": "display_data"
    },
    {
     "data": {
      "image/png": "[encoded data removed]",
      "text/plain": [
       "<Figure size 432x288 with 1 Axes>"
      ]
     },
     "metadata": {},
     "output_type": "display_data"
    }
   ],
   "source": [
    "# Plot training & validation accuracy values\n",
    "plt.plot(history3.history['acc'])\n",
    "plt.plot(history3.history['val_acc'])\n",
    "plt.title('Model accuracy')\n",
    "plt.ylabel('Accuracy')\n",
    "plt.xlabel('Epoch')\n",
    "plt.legend(['Train', 'Test'], loc='upper left')\n",
    "plt.show()\n",
    "\n",
    "# Plot training & validation loss values\n",
    "plt.plot(history3.history['loss'])\n",
    "plt.plot(history3.history['val_loss'])\n",
    "plt.title('Model loss')\n",
    "plt.ylabel('Loss')\n",
    "plt.xlabel('Epoch')\n",
    "plt.legend(['Train', 'Test'], loc='upper left')\n",
    "plt.show()"
   ]
  },
  {
   "cell_type": "code",
   "execution_count": 121,
   "metadata": {},
   "outputs": [
    {
     "name": "stdout",
     "output_type": "stream",
     "text": [
      "Train on 37807 samples, validate on 4201 samples\n",
      "Epoch 1/10\n",
      "37807/37807 [==============================] - 3s 76us/step - loss: 0.4051 - acc: 0.8037 - val_loss: 0.4630 - val_acc: 0.7767\n",
      "Epoch 2/10\n",
      "37807/37807 [==============================] - 3s 75us/step - loss: 0.4057 - acc: 0.7999 - val_loss: 0.4621 - val_acc: 0.7753\n",
      "Epoch 3/10\n",
      "37807/37807 [==============================] - 3s 74us/step - loss: 0.4025 - acc: 0.8071 - val_loss: 0.4629 - val_acc: 0.7758\n",
      "Epoch 4/10\n",
      "37807/37807 [==============================] - 3s 75us/step - loss: 0.4009 - acc: 0.8068 - val_loss: 0.4521 - val_acc: 0.7812\n",
      "Epoch 5/10\n",
      "37807/37807 [==============================] - 3s 75us/step - loss: 0.4036 - acc: 0.8040 - val_loss: 0.4619 - val_acc: 0.7811\n",
      "Epoch 6/10\n",
      "37807/37807 [==============================] - 3s 76us/step - loss: 0.3995 - acc: 0.8054 - val_loss: 0.4653 - val_acc: 0.7767\n",
      "Epoch 7/10\n",
      "37807/37807 [==============================] - 3s 82us/step - loss: 0.3969 - acc: 0.8067 - val_loss: 0.4600 - val_acc: 0.7755\n",
      "Epoch 8/10\n",
      "37807/37807 [==============================] - 3s 82us/step - loss: 0.3966 - acc: 0.8073 - val_loss: 0.4574 - val_acc: 0.7780\n",
      "Epoch 9/10\n",
      "37807/37807 [==============================] - 3s 82us/step - loss: 0.3947 - acc: 0.8090 - val_loss: 0.4527 - val_acc: 0.7841\n",
      "Epoch 10/10\n",
      "37807/37807 [==============================] - 3s 80us/step - loss: 0.3948 - acc: 0.8102 - val_loss: 0.4553 - val_acc: 0.7862\n"
     ]
    }
   ],
   "source": [
    "#addestro il modello per altre 10 epoche\n",
    "history3 = model3.fit(train, y_train, batch_size = 256, epochs = 10, verbose = 1, validation_split = 0.1)"
   ]
  },
  {
   "cell_type": "code",
   "execution_count": 122,
   "metadata": {},
   "outputs": [],
   "source": [
    "pred = model3.predict(test)"
   ]
  },
  {
   "cell_type": "code",
   "execution_count": 123,
   "metadata": {},
   "outputs": [
    {
     "data": {
      "text/plain": [
       "array([[0.02734197, 0.9729423 ],\n",
       "       [0.00233571, 0.99771595],\n",
       "       [0.7436487 , 0.2584743 ],\n",
       "       ...,\n",
       "       [0.09258129, 0.90773803],\n",
       "       [0.5554956 , 0.44284597],\n",
       "       [0.375548  , 0.62391895]], dtype=float32)"
      ]
     },
     "execution_count": 123,
     "metadata": {},
     "output_type": "execute_result"
    }
   ],
   "source": [
    "pred"
   ]
  },
  {
   "cell_type": "code",
   "execution_count": 124,
   "metadata": {
    "scrolled": true
   },
   "outputs": [],
   "source": [
    "pred = pd.DataFrame(pred)"
   ]
  },
  {
   "cell_type": "code",
   "execution_count": 125,
   "metadata": {},
   "outputs": [],
   "source": [
    "results = []\n",
    "for i in pred.index:\n",
    "    if pred.iloc[i][0] > 0.5:\n",
    "        results.append(0)\n",
    "    else:\n",
    "        results.append(1)"
   ]
  },
  {
   "cell_type": "code",
   "execution_count": 126,
   "metadata": {},
   "outputs": [
    {
     "data": {
      "text/plain": [
       "[1,\n",
       " 1,\n",
       " 0,\n",
       " 0,\n",
       " 0,\n",
       " 1,\n",
       " 0,\n",
       " 0,\n",
       " 0,\n",
       " 1,\n",
       " 1,\n",
       " 1,\n",
       " 0,\n",
       " 1,\n",
       " 1,\n",
       " 0,\n",
       " 0,\n",
       " 1,\n",
       " 1,\n",
       " 1,\n",
       " 0,\n",
       " 0,\n",
       " 1,\n",
       " 0,\n",
       " 1,\n",
       " 1,\n",
       " 0,\n",
       " 0,\n",
       " 1,\n",
       " 0,\n",
       " 1,\n",
       " 0,\n",
       " 1,\n",
       " 0,\n",
       " 1,\n",
       " 1,\n",
       " 1,\n",
       " 0,\n",
       " 1,\n",
       " 0,\n",
       " 0,\n",
       " 1,\n",
       " 1,\n",
       " 0,\n",
       " 1,\n",
       " 1,\n",
       " 0,\n",
       " 1,\n",
       " 1,\n",
       " 0,\n",
       " 0,\n",
       " 0,\n",
       " 1,\n",
       " 0,\n",
       " 1,\n",
       " 0,\n",
       " 1,\n",
       " 1,\n",
       " 0,\n",
       " 0,\n",
       " 0,\n",
       " 1,\n",
       " 1,\n",
       " 1,\n",
       " 1,\n",
       " 0,\n",
       " 1,\n",
       " 0,\n",
       " 0,\n",
       " 1,\n",
       " 1,\n",
       " 1,\n",
       " 0,\n",
       " 0,\n",
       " 1,\n",
       " 0,\n",
       " 0,\n",
       " 1,\n",
       " 1,\n",
       " 0,\n",
       " 0,\n",
       " 0,\n",
       " 0,\n",
       " 1,\n",
       " 0,\n",
       " 1,\n",
       " 0,\n",
       " 0,\n",
       " 0,\n",
       " 1,\n",
       " 0,\n",
       " 0,\n",
       " 1,\n",
       " 1,\n",
       " 1,\n",
       " 0,\n",
       " 1,\n",
       " 1,\n",
       " 0,\n",
       " 0,\n",
       " 1,\n",
       " 0,\n",
       " 0,\n",
       " 0,\n",
       " 0,\n",
       " 0,\n",
       " 0,\n",
       " 0,\n",
       " 1,\n",
       " 0,\n",
       " 1,\n",
       " 0,\n",
       " 1,\n",
       " 1,\n",
       " 0,\n",
       " 0,\n",
       " 1,\n",
       " 0,\n",
       " 1,\n",
       " 1,\n",
       " 1,\n",
       " 1,\n",
       " 1,\n",
       " 1,\n",
       " 1,\n",
       " 0,\n",
       " 1,\n",
       " 0,\n",
       " 0,\n",
       " 0,\n",
       " 1,\n",
       " 0,\n",
       " 1,\n",
       " 0,\n",
       " 1,\n",
       " 0,\n",
       " 0,\n",
       " 1,\n",
       " 0,\n",
       " 1,\n",
       " 1,\n",
       " 0,\n",
       " 1,\n",
       " 1,\n",
       " 0,\n",
       " 1,\n",
       " 1,\n",
       " 0,\n",
       " 0,\n",
       " 1,\n",
       " 1,\n",
       " 0,\n",
       " 0,\n",
       " 0,\n",
       " 1,\n",
       " 0,\n",
       " 1,\n",
       " 1,\n",
       " 1,\n",
       " 0,\n",
       " 1,\n",
       " 1,\n",
       " 1,\n",
       " 0,\n",
       " 1,\n",
       " 0,\n",
       " 1,\n",
       " 0,\n",
       " 1,\n",
       " 0,\n",
       " 0,\n",
       " 1,\n",
       " 1,\n",
       " 0,\n",
       " 0,\n",
       " 0,\n",
       " 0,\n",
       " 1,\n",
       " 1,\n",
       " 1,\n",
       " 0,\n",
       " 0,\n",
       " 1,\n",
       " 0,\n",
       " 0,\n",
       " 0,\n",
       " 1,\n",
       " 0,\n",
       " 0,\n",
       " 1,\n",
       " 0,\n",
       " 0,\n",
       " 0,\n",
       " 0,\n",
       " 0,\n",
       " 0,\n",
       " 1,\n",
       " 1,\n",
       " 0,\n",
       " 0,\n",
       " 1,\n",
       " 0,\n",
       " 1,\n",
       " 1,\n",
       " 1,\n",
       " 0,\n",
       " 0,\n",
       " 1,\n",
       " 0,\n",
       " 0,\n",
       " 0,\n",
       " 1,\n",
       " 0,\n",
       " 1,\n",
       " 1,\n",
       " 1,\n",
       " 0,\n",
       " 1,\n",
       " 1,\n",
       " 0,\n",
       " 1,\n",
       " 0,\n",
       " 1,\n",
       " 0,\n",
       " 1,\n",
       " 1,\n",
       " 1,\n",
       " 1,\n",
       " 0,\n",
       " 0,\n",
       " 1,\n",
       " 0,\n",
       " 1,\n",
       " 1,\n",
       " 0,\n",
       " 0,\n",
       " 1,\n",
       " 1,\n",
       " 0,\n",
       " 0,\n",
       " 1,\n",
       " 1,\n",
       " 0,\n",
       " 0,\n",
       " 0,\n",
       " 0,\n",
       " 0,\n",
       " 0,\n",
       " 0,\n",
       " 0,\n",
       " 0,\n",
       " 0,\n",
       " 1,\n",
       " 0,\n",
       " 1,\n",
       " 0,\n",
       " 0,\n",
       " 0,\n",
       " 0,\n",
       " 0,\n",
       " 1,\n",
       " 0,\n",
       " 0,\n",
       " 0,\n",
       " 0,\n",
       " 1,\n",
       " 0,\n",
       " 0,\n",
       " 1,\n",
       " 1,\n",
       " 0,\n",
       " 1,\n",
       " 0,\n",
       " 1,\n",
       " 1,\n",
       " 0,\n",
       " 1,\n",
       " 1,\n",
       " 1,\n",
       " 0,\n",
       " 1,\n",
       " 1,\n",
       " 1,\n",
       " 0,\n",
       " 0,\n",
       " 0,\n",
       " 1,\n",
       " 1,\n",
       " 1,\n",
       " 0,\n",
       " 0,\n",
       " 1,\n",
       " 0,\n",
       " 0,\n",
       " 0,\n",
       " 1,\n",
       " 0,\n",
       " 1,\n",
       " 0,\n",
       " 1,\n",
       " 0,\n",
       " 0,\n",
       " 1,\n",
       " 0,\n",
       " 1,\n",
       " 0,\n",
       " 1,\n",
       " 1,\n",
       " 0,\n",
       " 1,\n",
       " 0,\n",
       " 0,\n",
       " 0,\n",
       " 1,\n",
       " 1,\n",
       " 1,\n",
       " 0,\n",
       " 1,\n",
       " 0,\n",
       " 0,\n",
       " 1,\n",
       " 0,\n",
       " 1,\n",
       " 1,\n",
       " 1,\n",
       " 0,\n",
       " 1,\n",
       " 0,\n",
       " 1,\n",
       " 0,\n",
       " 0,\n",
       " 0,\n",
       " 1,\n",
       " 0,\n",
       " 1,\n",
       " 1,\n",
       " 0,\n",
       " 1,\n",
       " 1,\n",
       " 0,\n",
       " 0,\n",
       " 0,\n",
       " 0,\n",
       " 1,\n",
       " 1,\n",
       " 0,\n",
       " 0,\n",
       " 1,\n",
       " 1,\n",
       " 0,\n",
       " 0,\n",
       " 0,\n",
       " 0,\n",
       " 0,\n",
       " 1,\n",
       " 1,\n",
       " 1,\n",
       " 1,\n",
       " 1,\n",
       " 0,\n",
       " 0,\n",
       " 1,\n",
       " 0,\n",
       " 1,\n",
       " 0,\n",
       " 1,\n",
       " 0,\n",
       " 0,\n",
       " 1,\n",
       " 0,\n",
       " 0,\n",
       " 0,\n",
       " 0,\n",
       " 0,\n",
       " 0,\n",
       " 0,\n",
       " 0,\n",
       " 1,\n",
       " 1,\n",
       " 0,\n",
       " 0,\n",
       " 0,\n",
       " 1,\n",
       " 1,\n",
       " 1,\n",
       " 1,\n",
       " 0,\n",
       " 1,\n",
       " 0,\n",
       " 0,\n",
       " 1,\n",
       " 0,\n",
       " 0,\n",
       " 0,\n",
       " 0,\n",
       " 1,\n",
       " 1,\n",
       " 1,\n",
       " 0,\n",
       " 0,\n",
       " 0,\n",
       " 1,\n",
       " 0,\n",
       " 1,\n",
       " 0,\n",
       " 0,\n",
       " 1,\n",
       " 0,\n",
       " 0,\n",
       " 0,\n",
       " 1,\n",
       " 1,\n",
       " 1,\n",
       " 0,\n",
       " 0,\n",
       " 1,\n",
       " 0,\n",
       " 1,\n",
       " 1,\n",
       " 0,\n",
       " 0,\n",
       " 1,\n",
       " 1,\n",
       " 1,\n",
       " 1,\n",
       " 1,\n",
       " 1,\n",
       " 0,\n",
       " 1,\n",
       " 1,\n",
       " 0,\n",
       " 0,\n",
       " 1,\n",
       " 0,\n",
       " 0,\n",
       " 0,\n",
       " 1,\n",
       " 0,\n",
       " 0,\n",
       " 0,\n",
       " 1,\n",
       " 0,\n",
       " 1,\n",
       " 1,\n",
       " 1,\n",
       " 0,\n",
       " 0,\n",
       " 1,\n",
       " 0,\n",
       " 0,\n",
       " 0,\n",
       " 1,\n",
       " 1,\n",
       " 0,\n",
       " 0,\n",
       " 1,\n",
       " 0,\n",
       " 1,\n",
       " 0,\n",
       " 1,\n",
       " 0,\n",
       " 1,\n",
       " 0,\n",
       " 1,\n",
       " 0,\n",
       " 1,\n",
       " 1,\n",
       " 1,\n",
       " 0,\n",
       " 0,\n",
       " 0,\n",
       " 0,\n",
       " 0,\n",
       " 0,\n",
       " 0,\n",
       " 0,\n",
       " 0,\n",
       " 0,\n",
       " 0,\n",
       " 1,\n",
       " 0,\n",
       " 0,\n",
       " 0,\n",
       " 1,\n",
       " 0,\n",
       " 0,\n",
       " 1,\n",
       " 1,\n",
       " 0,\n",
       " 1,\n",
       " 1,\n",
       " 0,\n",
       " 0,\n",
       " 1,\n",
       " 0,\n",
       " 0,\n",
       " 0,\n",
       " 1,\n",
       " 1,\n",
       " 0,\n",
       " 1,\n",
       " 0,\n",
       " 0,\n",
       " 1,\n",
       " 0,\n",
       " 1,\n",
       " 1,\n",
       " 0,\n",
       " 1,\n",
       " 1,\n",
       " 0,\n",
       " 1,\n",
       " 1,\n",
       " 1,\n",
       " 0,\n",
       " 1,\n",
       " 0,\n",
       " 0,\n",
       " 1,\n",
       " 1,\n",
       " 0,\n",
       " 0,\n",
       " 0,\n",
       " 0,\n",
       " 1,\n",
       " 0,\n",
       " 0,\n",
       " 0,\n",
       " 0,\n",
       " 1,\n",
       " 0,\n",
       " 1,\n",
       " 0,\n",
       " 1,\n",
       " 0,\n",
       " 0,\n",
       " 0,\n",
       " 1,\n",
       " 1,\n",
       " 0,\n",
       " 0,\n",
       " 0,\n",
       " 0,\n",
       " 0,\n",
       " 0,\n",
       " 0,\n",
       " 1,\n",
       " 0,\n",
       " 1,\n",
       " 1,\n",
       " 1,\n",
       " 1,\n",
       " 0,\n",
       " 1,\n",
       " 0,\n",
       " 0,\n",
       " 0,\n",
       " 1,\n",
       " 1,\n",
       " 0,\n",
       " 0,\n",
       " 1,\n",
       " 0,\n",
       " 1,\n",
       " 1,\n",
       " 1,\n",
       " 0,\n",
       " 1,\n",
       " 0,\n",
       " 1,\n",
       " 1,\n",
       " 0,\n",
       " 0,\n",
       " 1,\n",
       " 1,\n",
       " 0,\n",
       " 1,\n",
       " 0,\n",
       " 1,\n",
       " 0,\n",
       " 0,\n",
       " 0,\n",
       " 1,\n",
       " 0,\n",
       " 0,\n",
       " 1,\n",
       " 0,\n",
       " 1,\n",
       " 0,\n",
       " 1,\n",
       " 1,\n",
       " 0,\n",
       " 0,\n",
       " 0,\n",
       " 0,\n",
       " 0,\n",
       " 0,\n",
       " 1,\n",
       " 0,\n",
       " 1,\n",
       " 0,\n",
       " 1,\n",
       " 1,\n",
       " 0,\n",
       " 1,\n",
       " 1,\n",
       " 1,\n",
       " 0,\n",
       " 0,\n",
       " 1,\n",
       " 0,\n",
       " 0,\n",
       " 1,\n",
       " 1,\n",
       " 0,\n",
       " 1,\n",
       " 0,\n",
       " 0,\n",
       " 0,\n",
       " 0,\n",
       " 1,\n",
       " 1,\n",
       " 0,\n",
       " 0,\n",
       " 0,\n",
       " 0,\n",
       " 1,\n",
       " 1,\n",
       " 0,\n",
       " 0,\n",
       " 0,\n",
       " 0,\n",
       " 1,\n",
       " 0,\n",
       " 0,\n",
       " 0,\n",
       " 0,\n",
       " 1,\n",
       " 1,\n",
       " 1,\n",
       " 0,\n",
       " 1,\n",
       " 0,\n",
       " 1,\n",
       " 1,\n",
       " 0,\n",
       " 0,\n",
       " 0,\n",
       " 1,\n",
       " 0,\n",
       " 1,\n",
       " 1,\n",
       " 1,\n",
       " 0,\n",
       " 0,\n",
       " 1,\n",
       " 1,\n",
       " 1,\n",
       " 0,\n",
       " 1,\n",
       " 1,\n",
       " 1,\n",
       " 1,\n",
       " 0,\n",
       " 1,\n",
       " 0,\n",
       " 1,\n",
       " 0,\n",
       " 0,\n",
       " 0,\n",
       " 1,\n",
       " 0,\n",
       " 0,\n",
       " 0,\n",
       " 1,\n",
       " 1,\n",
       " 1,\n",
       " 0,\n",
       " 0,\n",
       " 1,\n",
       " 0,\n",
       " 1,\n",
       " 0,\n",
       " 1,\n",
       " 1,\n",
       " 1,\n",
       " 1,\n",
       " 0,\n",
       " 0,\n",
       " 1,\n",
       " 0,\n",
       " 0,\n",
       " 0,\n",
       " 1,\n",
       " 1,\n",
       " 0,\n",
       " 1,\n",
       " 0,\n",
       " 0,\n",
       " 1,\n",
       " 1,\n",
       " 0,\n",
       " 0,\n",
       " 1,\n",
       " 0,\n",
       " 0,\n",
       " 0,\n",
       " 0,\n",
       " 0,\n",
       " 0,\n",
       " 0,\n",
       " 0,\n",
       " 0,\n",
       " 0,\n",
       " 0,\n",
       " 0,\n",
       " 0,\n",
       " 1,\n",
       " 1,\n",
       " 1,\n",
       " 1,\n",
       " 1,\n",
       " 1,\n",
       " 1,\n",
       " 0,\n",
       " 0,\n",
       " 0,\n",
       " 0,\n",
       " 0,\n",
       " 1,\n",
       " 1,\n",
       " 1,\n",
       " 0,\n",
       " 1,\n",
       " 1,\n",
       " 0,\n",
       " 1,\n",
       " 1,\n",
       " 0,\n",
       " 1,\n",
       " 0,\n",
       " 0,\n",
       " 1,\n",
       " 0,\n",
       " 0,\n",
       " 1,\n",
       " 1,\n",
       " 0,\n",
       " 1,\n",
       " 1,\n",
       " 0,\n",
       " 1,\n",
       " 0,\n",
       " 0,\n",
       " 0,\n",
       " 1,\n",
       " 0,\n",
       " 1,\n",
       " 0,\n",
       " 0,\n",
       " 1,\n",
       " 1,\n",
       " 0,\n",
       " 1,\n",
       " 0,\n",
       " 0,\n",
       " 1,\n",
       " 0,\n",
       " 1,\n",
       " 1,\n",
       " 0,\n",
       " 0,\n",
       " 0,\n",
       " 1,\n",
       " 0,\n",
       " 1,\n",
       " 0,\n",
       " 1,\n",
       " 0,\n",
       " 1,\n",
       " 0,\n",
       " 0,\n",
       " 0,\n",
       " 1,\n",
       " 1,\n",
       " 0,\n",
       " 1,\n",
       " 0,\n",
       " 0,\n",
       " 0,\n",
       " 1,\n",
       " 1,\n",
       " 1,\n",
       " 0,\n",
       " 1,\n",
       " 1,\n",
       " 1,\n",
       " 0,\n",
       " 0,\n",
       " 1,\n",
       " 1,\n",
       " 0,\n",
       " 0,\n",
       " 0,\n",
       " 0,\n",
       " 1,\n",
       " 1,\n",
       " 0,\n",
       " 1,\n",
       " 0,\n",
       " 1,\n",
       " 1,\n",
       " 0,\n",
       " 0,\n",
       " 1,\n",
       " 0,\n",
       " 0,\n",
       " 0,\n",
       " 1,\n",
       " 0,\n",
       " 0,\n",
       " 0,\n",
       " 0,\n",
       " 1,\n",
       " 1,\n",
       " 0,\n",
       " 0,\n",
       " 1,\n",
       " 0,\n",
       " 0,\n",
       " 0,\n",
       " 0,\n",
       " 1,\n",
       " 1,\n",
       " 0,\n",
       " 0,\n",
       " 1,\n",
       " 0,\n",
       " 0,\n",
       " 1,\n",
       " 0,\n",
       " 0,\n",
       " 0,\n",
       " 1,\n",
       " 0,\n",
       " 1,\n",
       " 0,\n",
       " 0,\n",
       " 0,\n",
       " 0,\n",
       " 0,\n",
       " 0,\n",
       " 0,\n",
       " 0,\n",
       " 1,\n",
       " 0,\n",
       " 1,\n",
       " 0,\n",
       " 0,\n",
       " 1,\n",
       " 1,\n",
       " 0,\n",
       " 0,\n",
       " 1,\n",
       " 1,\n",
       " 0,\n",
       " 0,\n",
       " 0,\n",
       " 0,\n",
       " 1,\n",
       " 1,\n",
       " 1,\n",
       " 1,\n",
       " 0,\n",
       " 1,\n",
       " 0,\n",
       " 1,\n",
       " 0,\n",
       " 0,\n",
       " 0,\n",
       " 1,\n",
       " 0,\n",
       " 1,\n",
       " 0,\n",
       " 0,\n",
       " 0,\n",
       " 0,\n",
       " 1,\n",
       " 0,\n",
       " 0,\n",
       " 1,\n",
       " 0,\n",
       " 0,\n",
       " 0,\n",
       " 0,\n",
       " 1,\n",
       " 1,\n",
       " 1,\n",
       " 0,\n",
       " 1,\n",
       " 1,\n",
       " 0,\n",
       " 1,\n",
       " 1,\n",
       " 1,\n",
       " 0,\n",
       " 0,\n",
       " 1,\n",
       " 0,\n",
       " 1,\n",
       " 0,\n",
       " 0,\n",
       " 0,\n",
       " 0,\n",
       " 0,\n",
       " 1,\n",
       " 0,\n",
       " 0,\n",
       " 0,\n",
       " 1,\n",
       " 1,\n",
       " 1,\n",
       " 0,\n",
       " 0,\n",
       " 0,\n",
       " 1,\n",
       " 0,\n",
       " 0,\n",
       " 1,\n",
       " 1,\n",
       " 1,\n",
       " 1,\n",
       " 0,\n",
       " 1,\n",
       " 0,\n",
       " 1,\n",
       " 0,\n",
       " 1,\n",
       " 1,\n",
       " 1,\n",
       " 0,\n",
       " 0,\n",
       " 0,\n",
       " 1,\n",
       " 1,\n",
       " 1,\n",
       " 0,\n",
       " 0,\n",
       " 0,\n",
       " 0,\n",
       " 0,\n",
       " 0,\n",
       " 1,\n",
       " 0,\n",
       " 0,\n",
       " 0,\n",
       " 1,\n",
       " 1,\n",
       " 1,\n",
       " 0,\n",
       " 0,\n",
       " 0,\n",
       " 1,\n",
       " 1,\n",
       " 1,\n",
       " 0,\n",
       " 0,\n",
       " 1,\n",
       " 1,\n",
       " 1,\n",
       " 0,\n",
       " 0,\n",
       " 0,\n",
       " 0,\n",
       " 1,\n",
       " 0,\n",
       " 0,\n",
       " 1,\n",
       " 1,\n",
       " 0,\n",
       " 1,\n",
       " 1,\n",
       " 1,\n",
       " 1,\n",
       " 1,\n",
       " 0,\n",
       " 0,\n",
       " 1,\n",
       " 1,\n",
       " 0,\n",
       " 1,\n",
       " 1,\n",
       " 1,\n",
       " 1,\n",
       " 0,\n",
       " 1,\n",
       " 0,\n",
       " 0,\n",
       " 0,\n",
       " 0,\n",
       " ...]"
      ]
     },
     "execution_count": 126,
     "metadata": {},
     "output_type": "execute_result"
    }
   ],
   "source": [
    "results"
   ]
  },
  {
   "cell_type": "code",
   "execution_count": 127,
   "metadata": {},
   "outputs": [],
   "source": [
    "result = pd.DataFrame(results)"
   ]
  },
  {
   "cell_type": "code",
   "execution_count": 128,
   "metadata": {
    "scrolled": false
   },
   "outputs": [],
   "source": [
    "result.to_csv('subm.csv')"
   ]
  },
  {
   "cell_type": "code",
   "execution_count": null,
   "metadata": {},
   "outputs": [],
   "source": []
  }
 ],
 "metadata": {
  "kernelspec": {
   "display_name": "Python 3",
   "language": "python",
   "name": "python3"
  },
  "language_info": {
   "codemirror_mode": {
    "name": "ipython",
    "version": 3
   },
   "file_extension": ".py",
   "mimetype": "text/x-python",
   "name": "python",
   "nbconvert_exporter": "python",
   "pygments_lexer": "ipython3",
   "version": "3.6.5"
  }
 },
 "nbformat": 4,
 "nbformat_minor": 2
}
